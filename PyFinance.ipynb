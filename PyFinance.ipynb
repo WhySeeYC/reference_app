{
 "cells": [
  {
   "cell_type": "code",
   "execution_count": 1,
   "metadata": {
    "collapsed": true
   },
   "outputs": [
    {
     "name": "stdout",
     "output_type": "stream",
     "text": [
      "Requirement already satisfied: tabula-py in /Library/Frameworks/Python.framework/Versions/3.7/lib/python3.7/site-packages (2.1.0)\n",
      "Requirement already satisfied: pandas>=0.25.3 in /Library/Frameworks/Python.framework/Versions/3.7/lib/python3.7/site-packages (from tabula-py) (1.0.3)\n",
      "Requirement already satisfied: numpy in /Library/Frameworks/Python.framework/Versions/3.7/lib/python3.7/site-packages (from tabula-py) (1.16.3)\n",
      "Requirement already satisfied: distro in /Library/Frameworks/Python.framework/Versions/3.7/lib/python3.7/site-packages (from tabula-py) (1.5.0)\n",
      "Requirement already satisfied: python-dateutil>=2.6.1 in /Library/Frameworks/Python.framework/Versions/3.7/lib/python3.7/site-packages (from pandas>=0.25.3->tabula-py) (2.8.0)\n",
      "Requirement already satisfied: pytz>=2017.2 in /Library/Frameworks/Python.framework/Versions/3.7/lib/python3.7/site-packages (from pandas>=0.25.3->tabula-py) (2019.1)\n",
      "Requirement already satisfied: six>=1.5 in /Library/Frameworks/Python.framework/Versions/3.7/lib/python3.7/site-packages (from python-dateutil>=2.6.1->pandas>=0.25.3->tabula-py) (1.12.0)\n",
      "\u001b[33mWARNING: You are using pip version 20.0.2; however, version 20.3.3 is available.\n",
      "You should consider upgrading via the '/Library/Frameworks/Python.framework/Versions/3.7/bin/python3 -m pip install --upgrade pip' command.\u001b[0m\n",
      "Note: you may need to restart the kernel to use updated packages.\n"
     ]
    }
   ],
   "source": [
    "pip install tabula-py"
   ]
  },
  {
   "cell_type": "code",
   "execution_count": 3,
   "metadata": {
    "collapsed": true
   },
   "outputs": [
    {
     "name": "stderr",
     "output_type": "stream",
     "text": [
      "'pages' argument isn't specified.Will extract only from page 1 by default.\n",
      "Error from tabula-java:\n",
      "No Java runtime present, requesting install.\n",
      "\n",
      "\n"
     ]
    },
    {
     "ename": "CalledProcessError",
     "evalue": "Command '['java', '-Djava.awt.headless=true', '-Dfile.encoding=UTF8', '-jar', '/Library/Frameworks/Python.framework/Versions/3.7/lib/python3.7/site-packages/tabula/tabula-1.0.3-jar-with-dependencies.jar', '--stream', '--guess', '--format', 'JSON', '/Users/YC/Desktop/Scholarship Application/ePayslip20201019.pdf']' returned non-zero exit status 1.",
     "output_type": "error",
     "traceback": [
      "\u001b[0;31m---------------------------------------------------------------------------\u001b[0m",
      "\u001b[0;31mCalledProcessError\u001b[0m                        Traceback (most recent call last)",
      "\u001b[0;32m<ipython-input-3-e4eb9bb6be16>\u001b[0m in \u001b[0;36m<module>\u001b[0;34m\u001b[0m\n\u001b[1;32m      1\u001b[0m \u001b[0;32mimport\u001b[0m \u001b[0mtabula\u001b[0m\u001b[0;34m\u001b[0m\u001b[0;34m\u001b[0m\u001b[0m\n\u001b[0;32m----> 2\u001b[0;31m \u001b[0mtabula\u001b[0m\u001b[0;34m.\u001b[0m\u001b[0mread_pdf\u001b[0m\u001b[0;34m(\u001b[0m\u001b[0;34m'/Users/YC/Desktop/Scholarship Application/ePayslip20201019.pdf'\u001b[0m\u001b[0;34m,\u001b[0m \u001b[0mstream\u001b[0m\u001b[0;34m=\u001b[0m\u001b[0;32mTrue\u001b[0m\u001b[0;34m)\u001b[0m\u001b[0;34m\u001b[0m\u001b[0;34m\u001b[0m\u001b[0m\n\u001b[0m",
      "\u001b[0;32m/Library/Frameworks/Python.framework/Versions/3.7/lib/python3.7/site-packages/tabula/io.py\u001b[0m in \u001b[0;36mread_pdf\u001b[0;34m(input_path, output_format, encoding, java_options, pandas_options, multiple_tables, user_agent, **kwargs)\u001b[0m\n\u001b[1;32m    320\u001b[0m \u001b[0;34m\u001b[0m\u001b[0m\n\u001b[1;32m    321\u001b[0m     \u001b[0;32mtry\u001b[0m\u001b[0;34m:\u001b[0m\u001b[0;34m\u001b[0m\u001b[0;34m\u001b[0m\u001b[0m\n\u001b[0;32m--> 322\u001b[0;31m         \u001b[0moutput\u001b[0m \u001b[0;34m=\u001b[0m \u001b[0m_run\u001b[0m\u001b[0;34m(\u001b[0m\u001b[0mjava_options\u001b[0m\u001b[0;34m,\u001b[0m \u001b[0mkwargs\u001b[0m\u001b[0;34m,\u001b[0m \u001b[0mpath\u001b[0m\u001b[0;34m,\u001b[0m \u001b[0mencoding\u001b[0m\u001b[0;34m)\u001b[0m\u001b[0;34m\u001b[0m\u001b[0;34m\u001b[0m\u001b[0m\n\u001b[0m\u001b[1;32m    323\u001b[0m     \u001b[0;32mfinally\u001b[0m\u001b[0;34m:\u001b[0m\u001b[0;34m\u001b[0m\u001b[0;34m\u001b[0m\u001b[0m\n\u001b[1;32m    324\u001b[0m         \u001b[0;32mif\u001b[0m \u001b[0mtemporary\u001b[0m\u001b[0;34m:\u001b[0m\u001b[0;34m\u001b[0m\u001b[0;34m\u001b[0m\u001b[0m\n",
      "\u001b[0;32m/Library/Frameworks/Python.framework/Versions/3.7/lib/python3.7/site-packages/tabula/io.py\u001b[0m in \u001b[0;36m_run\u001b[0;34m(java_options, options, path, encoding)\u001b[0m\n\u001b[1;32m     83\u001b[0m             \u001b[0mstderr\u001b[0m\u001b[0;34m=\u001b[0m\u001b[0msubprocess\u001b[0m\u001b[0;34m.\u001b[0m\u001b[0mPIPE\u001b[0m\u001b[0;34m,\u001b[0m\u001b[0;34m\u001b[0m\u001b[0;34m\u001b[0m\u001b[0m\n\u001b[1;32m     84\u001b[0m             \u001b[0mstdin\u001b[0m\u001b[0;34m=\u001b[0m\u001b[0msubprocess\u001b[0m\u001b[0;34m.\u001b[0m\u001b[0mDEVNULL\u001b[0m\u001b[0;34m,\u001b[0m\u001b[0;34m\u001b[0m\u001b[0;34m\u001b[0m\u001b[0m\n\u001b[0;32m---> 85\u001b[0;31m             \u001b[0mcheck\u001b[0m\u001b[0;34m=\u001b[0m\u001b[0;32mTrue\u001b[0m\u001b[0;34m,\u001b[0m\u001b[0;34m\u001b[0m\u001b[0;34m\u001b[0m\u001b[0m\n\u001b[0m\u001b[1;32m     86\u001b[0m         )\n\u001b[1;32m     87\u001b[0m         \u001b[0;32mif\u001b[0m \u001b[0mresult\u001b[0m\u001b[0;34m.\u001b[0m\u001b[0mstderr\u001b[0m\u001b[0;34m:\u001b[0m\u001b[0;34m\u001b[0m\u001b[0;34m\u001b[0m\u001b[0m\n",
      "\u001b[0;32m/Library/Frameworks/Python.framework/Versions/3.7/lib/python3.7/subprocess.py\u001b[0m in \u001b[0;36mrun\u001b[0;34m(input, capture_output, timeout, check, *popenargs, **kwargs)\u001b[0m\n\u001b[1;32m    485\u001b[0m         \u001b[0;32mif\u001b[0m \u001b[0mcheck\u001b[0m \u001b[0;32mand\u001b[0m \u001b[0mretcode\u001b[0m\u001b[0;34m:\u001b[0m\u001b[0;34m\u001b[0m\u001b[0;34m\u001b[0m\u001b[0m\n\u001b[1;32m    486\u001b[0m             raise CalledProcessError(retcode, process.args,\n\u001b[0;32m--> 487\u001b[0;31m                                      output=stdout, stderr=stderr)\n\u001b[0m\u001b[1;32m    488\u001b[0m     \u001b[0;32mreturn\u001b[0m \u001b[0mCompletedProcess\u001b[0m\u001b[0;34m(\u001b[0m\u001b[0mprocess\u001b[0m\u001b[0;34m.\u001b[0m\u001b[0margs\u001b[0m\u001b[0;34m,\u001b[0m \u001b[0mretcode\u001b[0m\u001b[0;34m,\u001b[0m \u001b[0mstdout\u001b[0m\u001b[0;34m,\u001b[0m \u001b[0mstderr\u001b[0m\u001b[0;34m)\u001b[0m\u001b[0;34m\u001b[0m\u001b[0;34m\u001b[0m\u001b[0m\n\u001b[1;32m    489\u001b[0m \u001b[0;34m\u001b[0m\u001b[0m\n",
      "\u001b[0;31mCalledProcessError\u001b[0m: Command '['java', '-Djava.awt.headless=true', '-Dfile.encoding=UTF8', '-jar', '/Library/Frameworks/Python.framework/Versions/3.7/lib/python3.7/site-packages/tabula/tabula-1.0.3-jar-with-dependencies.jar', '--stream', '--guess', '--format', 'JSON', '/Users/YC/Desktop/Scholarship Application/ePayslip20201019.pdf']' returned non-zero exit status 1."
     ]
    }
   ],
   "source": [
    "import tabula\n",
    "tabula.read_pdf('/Users/YC/Desktop/Scholarship Application/ePayslip20201019.pdf', stream=True)"
   ]
  },
  {
   "cell_type": "code",
   "execution_count": 5,
   "metadata": {
    "collapsed": true
   },
   "outputs": [
    {
     "name": "stdout",
     "output_type": "stream",
     "text": [
      "Collecting pip\n",
      "\u001b[?25l  Downloading https://files.pythonhosted.org/packages/54/0c/d01aa759fdc501a58f431eb594a17495f15b88da142ce14b5845662c13f3/pip-20.0.2-py2.py3-none-any.whl (1.4MB)\n",
      "\u001b[K     |████████████████████████████████| 1.4MB 2.0MB/s eta 0:00:01\n",
      "\u001b[?25hInstalling collected packages: pip\n",
      "  Found existing installation: pip 19.1.1\n",
      "    Uninstalling pip-19.1.1:\n",
      "      Successfully uninstalled pip-19.1.1\n",
      "Successfully installed pip-20.0.2\n",
      "Note: you may need to restart the kernel to use updated packages.\n"
     ]
    }
   ],
   "source": [
    "pip install --upgrade pip"
   ]
  },
  {
   "cell_type": "code",
   "execution_count": 3,
   "metadata": {
    "collapsed": true
   },
   "outputs": [
    {
     "name": "stdout",
     "output_type": "stream",
     "text": [
      "Collecting PyPDF2\n",
      "  Downloading PyPDF2-1.26.0.tar.gz (77 kB)\n",
      "\u001b[K     |████████████████████████████████| 77 kB 1.8 MB/s eta 0:00:01\n",
      "\u001b[?25hInstalling collected packages: PyPDF2\n",
      "    Running setup.py install for PyPDF2 ... \u001b[?25ldone\n",
      "\u001b[?25hSuccessfully installed PyPDF2-1.26.0\n"
     ]
    }
   ],
   "source": [
    "#Working with PDF in Python --> https://realpython.com/pdf-python/\n",
    "!pip install PyPDF2"
   ]
  },
  {
   "cell_type": "code",
   "execution_count": 11,
   "metadata": {
    "collapsed": true
   },
   "outputs": [],
   "source": [
    "import PyPDF2 as p2\n",
    "PDFfile = open(\"/Users/YC/Desktop/data.pdf\", \"rb\")  #the rb is to allow editing mode\n",
    "PDFread = p2.PdfFileReader(PDFfile)\n",
    "x=PDFread.getPage(1)"
   ]
  },
  {
   "cell_type": "code",
   "execution_count": 20,
   "metadata": {
    "collapsed": true
   },
   "outputs": [
    {
     "data": {
      "text/plain": [
       "'Sepal.Length\\nSepal.Width\\nPetal.Length\\nPetal.Width\\nSpecies\\n5.1\\n3.5\\n1.4\\n0.2\\nsetosa\\n4.9\\n3.0\\n1.4\\n0.2\\nsetosa\\n4.7\\n3.2\\n1.3\\n0.2\\nsetosa\\n4.6\\n3.1\\n1.5\\n0.2\\nsetosa\\n5.0\\n3.6\\n1.4\\n0.2\\nsetosa\\n5.4\\n3.9\\n1.7\\n0.4\\nsetosa\\nSepal.Length\\nSepal.Width\\nPetal.Length\\nPetal.Width\\nSpecies\\n145\\n6.7\\n3.3\\n5.7\\n2.5\\nvirginica\\n146\\n6.7\\n3.0\\n5.2\\n2.3\\nvirginica\\n147\\n6.3\\n2.5\\n5.0\\n1.9\\nvirginica\\n148\\n6.5\\n3.0\\n5.2\\n2.0\\nvirginica\\n149\\n6.2\\n3.4\\n5.4\\n2.3\\nvirginica\\n150\\n5.9\\n3.0\\n5.1\\n1.8\\nvirginica\\n2\\n'"
      ]
     },
     "execution_count": 20,
     "metadata": {},
     "output_type": "execute_result"
    }
   ],
   "source": [
    "data = x.extractText()\n",
    "data"
   ]
  },
  {
   "cell_type": "code",
   "execution_count": 16,
   "metadata": {
    "collapsed": true
   },
   "outputs": [
    {
     "ename": "AttributeError",
     "evalue": "'str' object has no attribute 'DataFrame'",
     "output_type": "error",
     "traceback": [
      "\u001b[0;31m---------------------------------------------------------------------------\u001b[0m",
      "\u001b[0;31mAttributeError\u001b[0m                            Traceback (most recent call last)",
      "\u001b[0;32m<ipython-input-16-f46db3cc153e>\u001b[0m in \u001b[0;36m<module>\u001b[0;34m\u001b[0m\n\u001b[0;32m----> 1\u001b[0;31m \u001b[0mdf\u001b[0m\u001b[0;34m=\u001b[0m \u001b[0mdata\u001b[0m\u001b[0;34m.\u001b[0m\u001b[0mDataFrame\u001b[0m\u001b[0;34m(\u001b[0m\u001b[0mdata\u001b[0m\u001b[0;34m,\u001b[0m \u001b[0;34m(\u001b[0m\u001b[0;36m7\u001b[0m\u001b[0;34m,\u001b[0m\u001b[0;36m5\u001b[0m\u001b[0;34m)\u001b[0m\u001b[0;34m)\u001b[0m\u001b[0;34m\u001b[0m\u001b[0;34m\u001b[0m\u001b[0m\n\u001b[0m",
      "\u001b[0;31mAttributeError\u001b[0m: 'str' object has no attribute 'DataFrame'"
     ]
    }
   ],
   "source": [
    "df= data.DataFrame(data, (7,5)) \n",
    "#because the data we have are strings, cannot be reshaped into dataframe"
   ]
  },
  {
   "cell_type": "markdown",
   "metadata": {},
   "source": [
    "## Read Payslip into csv 28th Dec 2020"
   ]
  },
  {
   "cell_type": "code",
   "execution_count": 8,
   "metadata": {
    "collapsed": true
   },
   "outputs": [
    {
     "name": "stdout",
     "output_type": "stream",
     "text": [
      "Collecting pdfplumber\n",
      "  Downloading pdfplumber-0.5.25.tar.gz (42 kB)\n",
      "\u001b[K     |████████████████████████████████| 42 kB 1.2 MB/s eta 0:00:01\n",
      "\u001b[?25hCollecting pdfminer.six==20200517\n",
      "  Downloading pdfminer.six-20200517-py3-none-any.whl (5.6 MB)\n",
      "\u001b[K     |████████████████████████████████| 5.6 MB 3.0 MB/s eta 0:00:01     |██▊                             | 481 kB 3.0 MB/s eta 0:00:02     |███████▋                        | 1.3 MB 3.0 MB/s eta 0:00:02\n",
      "\u001b[?25hCollecting Pillow>=7.0.0\n",
      "  Downloading Pillow-8.0.1-cp37-cp37m-macosx_10_10_x86_64.whl (2.2 MB)\n",
      "\u001b[K     |████████████████████████████████| 2.2 MB 4.7 MB/s eta 0:00:01\n",
      "\u001b[?25hCollecting Wand\n",
      "  Downloading Wand-0.6.5-py2.py3-none-any.whl (138 kB)\n",
      "\u001b[K     |████████████████████████████████| 138 kB 6.6 MB/s eta 0:00:01\n",
      "\u001b[?25hCollecting sortedcontainers\n",
      "  Downloading sortedcontainers-2.3.0-py2.py3-none-any.whl (29 kB)\n",
      "Collecting pycryptodome\n",
      "  Downloading pycryptodome-3.9.9-cp37-cp37m-macosx_10_6_intel.whl (14.1 MB)\n",
      "\u001b[K     |████████████████████████████████| 14.1 MB 5.3 MB/s eta 0:00:01    |████▌                           | 2.0 MB 7.0 MB/s eta 0:00:02     |███████▍                        | 3.3 MB 7.0 MB/s eta 0:00:02\n",
      "\u001b[?25hRequirement already satisfied: chardet; python_version > \"3.0\" in /Library/Frameworks/Python.framework/Versions/3.7/lib/python3.7/site-packages (from pdfminer.six==20200517->pdfplumber) (3.0.4)\n",
      "Installing collected packages: sortedcontainers, pycryptodome, pdfminer.six, Pillow, Wand, pdfplumber\n",
      "    Running setup.py install for pdfplumber ... \u001b[?25ldone\n",
      "\u001b[?25hSuccessfully installed Pillow-8.0.1 Wand-0.6.5 pdfminer.six-20200517 pdfplumber-0.5.25 pycryptodome-3.9.9 sortedcontainers-2.3.0\n",
      "\u001b[33mWARNING: You are using pip version 20.0.2; however, version 20.3.3 is available.\n",
      "You should consider upgrading via the '/Library/Frameworks/Python.framework/Versions/3.7/bin/python3 -m pip install --upgrade pip' command.\u001b[0m\n",
      "Note: you may need to restart the kernel to use updated packages.\n"
     ]
    }
   ],
   "source": [
    "#install modules\n",
    "pip install pdfplumber"
   ]
  },
  {
   "cell_type": "markdown",
   "metadata": {},
   "source": [
    "#### Task1: Use Regular expression to read a pdf file and write into pandas data frame and csv"
   ]
  },
  {
   "cell_type": "code",
   "execution_count": 2,
   "metadata": {},
   "outputs": [],
   "source": [
    "#Import Library\n",
    "import re       #regular expression\n",
    "import pdfplumber \n",
    "import pandas as pd\n",
    "from collections import namedtuple #namedtuple library from collections module\n",
    "import unicodedata  #for decode the text from unicode to actual character"
   ]
  },
  {
   "cell_type": "code",
   "execution_count": 60,
   "metadata": {},
   "outputs": [],
   "source": [
    "#Give a variable named line\n",
    "Line = namedtuple(\"Line\",\"Company_Name\")"
   ]
  },
  {
   "cell_type": "code",
   "execution_count": 2,
   "metadata": {},
   "outputs": [
    {
     "data": {
      "text/plain": [
       "<re.Match object; span=(0, 25), match='Perspetum Diagnostics Ltd'>"
      ]
     },
     "execution_count": 2,
     "metadata": {},
     "output_type": "execute_result"
    }
   ],
   "source": [
    "#Define what is an employee line with regular expression and test to see if match\n",
    "company_re = re.compile(r\"((.*)Ltd)\")\n",
    "company_re.match(\"Perspetum Diagnostics Ltd\")"
   ]
  },
  {
   "cell_type": "code",
   "execution_count": 4,
   "metadata": {},
   "outputs": [
    {
     "data": {
      "text/plain": [
       "'Perspetum Diagnostics Ltd'"
      ]
     },
     "execution_count": 4,
     "metadata": {},
     "output_type": "execute_result"
    }
   ],
   "source": [
    "#test and see if group match the regular expression. \n",
    "company_re.search(\"Perspetum Diagnostics Ltd\").group(1)"
   ]
  },
  {
   "cell_type": "code",
   "execution_count": 5,
   "metadata": {},
   "outputs": [
    {
     "data": {
      "text/plain": [
       "re.Match"
      ]
     },
     "execution_count": 5,
     "metadata": {},
     "output_type": "execute_result"
    }
   ],
   "source": [
    "type(company_re.search(\"Perspetum Diagnostics Ltd\"))"
   ]
  },
  {
   "cell_type": "code",
   "execution_count": 3,
   "metadata": {},
   "outputs": [],
   "source": [
    "file = '/Users/YC/Desktop/Scholarship Application/ePayslip20201019.pdf'"
   ]
  },
  {
   "cell_type": "code",
   "execution_count": 4,
   "metadata": {
    "scrolled": true
   },
   "outputs": [
    {
     "name": "stdout",
     "output_type": "stream",
     "text": [
      "{'fontname': 'AOGXMC+Arial-BoldMT', 'adv': Decimal('7.326'), 'upright': True, 'x0': Decimal('18.686'), 'y0': Decimal('797.988'), 'x1': Decimal('25.049'), 'y1': Decimal('807.542'), 'width': Decimal('6.363'), 'height': Decimal('9.554'), 'size': Decimal('9.554'), 'object_type': 'char', 'page_number': 1, 'stroking_color': None, 'non_stroking_color': (0.2, 0.2, 0.2), 'text': 'S', 'top': Decimal('34.458'), 'bottom': Decimal('44.012'), 'doctop': Decimal('34.458')}\n",
      "{'Producer': 'macOS Version 10.15.7 (Build 19H2) Quartz PDFContext, AppendMode 1.1', 'ModDate': \"D:20201231133051Z00'00'\"}\n",
      "None\n",
      "SO­249 Yi Chun Wang Perspectum Diagnostics Ltd\n",
      "NI Letter &No: A Tax Code: 1250L Pay By: Bacs Date: 30/04/2020 Period: 1\n",
      "DESCRIPTION RATE UNITS DUE AMOUNT (£) THIS YEAR (£)\n",
      "Salary 1334.13 1334.13\n",
      "Back Pay 431.03 431.03\n",
      "Ers NIC TP:142.58 Ers Pension TP: 0.00\n",
      "TOTAL 1,765.16\n",
      "Ers NIC YTD: 142.58 Ers Pension YTD: 0.00\n",
      "Tax 144.40 144.40\n",
      "National Insurance 116.78 116.78\n",
      "261.18\n",
      "Total taxable pay to date: 1,765.16\n",
      "Tax District: North East Metro Tax Reference:120/XA96981 NET PAY 1503.98\n"
     ]
    }
   ],
   "source": [
    "#Practice using pdfplumber\n",
    "with pdfplumber.open(file) as pdf:\n",
    "    page = pdf.pages[0]\n",
    "    print(page.chars[0])\n",
    "    meta = pdf.metadata\n",
    "    print(meta)\n",
    "    table = page.extract_table()\n",
    "    print(table)\n",
    "    texts = page.extract_text()\n",
    "    print(texts)"
   ]
  },
  {
   "cell_type": "code",
   "execution_count": 5,
   "metadata": {
    "scrolled": true
   },
   "outputs": [
    {
     "name": "stdout",
     "output_type": "stream",
     "text": [
      "['SO\\xad249\\xa0Yi\\xa0Chun\\xa0Wang Perspectum\\xa0Diagnostics\\xa0Ltd', 'NI\\xa0Letter\\xa0&No:\\xa0A Tax\\xa0Code:\\xa01250L Pay\\xa0By:\\xa0Bacs Date:\\xa030/04/2020 Period:\\xa01', 'DESCRIPTION RATE UNITS\\xa0DUE AMOUNT\\xa0(£) THIS\\xa0YEAR\\xa0(£)', 'Salary 1334.13 1334.13', 'Back\\xa0Pay 431.03 431.03', 'Ers\\xa0NIC\\xa0TP:142.58 Ers\\xa0Pension\\xa0TP:\\xa00.00', 'TOTAL 1,765.16', 'Ers\\xa0NIC\\xa0YTD:\\xa0142.58 Ers\\xa0Pension\\xa0YTD:\\xa00.00', 'Tax 144.40 144.40', 'National\\xa0Insurance 116.78 116.78', '261.18', 'Total\\xa0taxable\\xa0pay\\xa0to\\xa0date:\\xa01,765.16', 'Tax\\xa0District:\\xa0North\\xa0East\\xa0Metro Tax\\xa0Reference:120/XA96981 NET\\xa0PAY 1503.98']\n"
     ]
    }
   ],
   "source": [
    "#Try to split with a new line but return in unit-8 format. Here is explanation https://stackoverflow.com/questions/39807985/python-write-file-dealing-with-encode\n",
    "line = texts.split(\"\\n\")\n",
    "print(line)"
   ]
  },
  {
   "cell_type": "code",
   "execution_count": 6,
   "metadata": {},
   "outputs": [
    {
     "name": "stdout",
     "output_type": "stream",
     "text": [
      "SO­249 Yi Chun Wang Perspectum Diagnostics Ltd\n"
     ]
    }
   ],
   "source": [
    "#try to use regular expression to search through text rather than line. \n",
    "comp = company_re.search(texts)\n",
    "Company_Name = comp.group(1)\n",
    "print(Company_Name) "
   ]
  },
  {
   "cell_type": "code",
   "execution_count": 61,
   "metadata": {},
   "outputs": [
    {
     "name": "stdout",
     "output_type": "stream",
     "text": [
      "[Line(Company_Name='SO\\xad249\\xa0Yi\\xa0Chun\\xa0Wang Perspectum\\xa0Diagnostics\\xa0Ltd')]\n"
     ]
    }
   ],
   "source": [
    "#try using append function\n",
    "holder = [] #create a list holder\n",
    "comp = company_re.search(texts)\n",
    "Company_Name = comp.group(1)\n",
    "holder.append(Line(Company_Name))\n",
    "print(holder)"
   ]
  },
  {
   "cell_type": "code",
   "execution_count": 10,
   "metadata": {},
   "outputs": [
    {
     "data": {
      "text/html": [
       "<div>\n",
       "<style scoped>\n",
       "    .dataframe tbody tr th:only-of-type {\n",
       "        vertical-align: middle;\n",
       "    }\n",
       "\n",
       "    .dataframe tbody tr th {\n",
       "        vertical-align: top;\n",
       "    }\n",
       "\n",
       "    .dataframe thead th {\n",
       "        text-align: right;\n",
       "    }\n",
       "</style>\n",
       "<table border=\"1\" class=\"dataframe\">\n",
       "  <thead>\n",
       "    <tr style=\"text-align: right;\">\n",
       "      <th></th>\n",
       "      <th>Company_Name</th>\n",
       "    </tr>\n",
       "  </thead>\n",
       "  <tbody>\n",
       "    <tr>\n",
       "      <th>0</th>\n",
       "      <td>SO­249 Yi Chun Wang Perspectum Diagnostics Ltd</td>\n",
       "    </tr>\n",
       "  </tbody>\n",
       "</table>\n",
       "</div>"
      ],
      "text/plain": [
       "                                     Company_Name\n",
       "0  SO­249 Yi Chun Wang Perspectum Diagnostics Ltd"
      ]
     },
     "execution_count": 10,
     "metadata": {},
     "output_type": "execute_result"
    }
   ],
   "source": [
    "#practice wirting the holder into a pandas dataframe\n",
    "df = pd.DataFrame(holder)\n",
    "df.head()"
   ]
  },
  {
   "cell_type": "code",
   "execution_count": 11,
   "metadata": {},
   "outputs": [],
   "source": [
    "#try writing the dataframe into a csv file\n",
    "df.to_csv(\"payslip.csv\", index = False)"
   ]
  },
  {
   "cell_type": "markdown",
   "metadata": {},
   "source": [
    "#### Task2: String Cleaning"
   ]
  },
  {
   "cell_type": "code",
   "execution_count": 8,
   "metadata": {
    "scrolled": true
   },
   "outputs": [
    {
     "name": "stdout",
     "output_type": "stream",
     "text": [
      "SO­249 Yi Chun Wang Perspectum Diagnostics Ltd\n",
      "NI Letter &No: A Tax Code: 1250L Pay By: Bacs Date: 30/04/2020 Period: 1\n",
      "DESCRIPTION RATE UNITS DUE AMOUNT (£) THIS YEAR (£)\n",
      "Salary 1334.13 1334.13\n",
      "Back Pay 431.03 431.03\n",
      "Ers NIC TP:142.58 Ers Pension TP: 0.00\n",
      "TOTAL 1,765.16\n",
      "Ers NIC YTD: 142.58 Ers Pension YTD: 0.00\n",
      "Tax 144.40 144.40\n",
      "National Insurance 116.78 116.78\n",
      "261.18\n",
      "Total taxable pay to date: 1,765.16\n",
      "Tax District: North East Metro Tax Reference:120/XA96981 NET PAY 1503.98\n"
     ]
    }
   ],
   "source": [
    "print(texts)"
   ]
  },
  {
   "cell_type": "code",
   "execution_count": 9,
   "metadata": {},
   "outputs": [
    {
     "data": {
      "text/plain": [
       "str"
      ]
     },
     "execution_count": 9,
     "metadata": {},
     "output_type": "execute_result"
    }
   ],
   "source": [
    "type(texts)"
   ]
  },
  {
   "cell_type": "code",
   "execution_count": 5,
   "metadata": {
    "scrolled": true
   },
   "outputs": [
    {
     "data": {
      "text/plain": [
       "'SO\\xad249 Yi Chun Wang Perspectum Diagnostics Ltd\\nNI Letter &No: A Tax Code: 1250L Pay By: Bacs Date: 30/04/2020 Period: 1\\nDESCRIPTION RATE UNITS DUE AMOUNT (£) THIS YEAR (£)\\nSalary 1334.13 1334.13\\nBack Pay 431.03 431.03\\nErs NIC TP:142.58 Ers Pension TP: 0.00\\nTOTAL 1,765.16\\nErs NIC YTD: 142.58 Ers Pension YTD: 0.00\\nTax 144.40 144.40\\nNational Insurance 116.78 116.78\\n261.18\\nTotal taxable pay to date: 1,765.16\\nTax District: North East Metro Tax Reference:120/XA96981 NET PAY 1503.98'"
      ]
     },
     "execution_count": 5,
     "metadata": {},
     "output_type": "execute_result"
    }
   ],
   "source": [
    "#change the unicode string to the normal form NFKC. see-> https://docs.python.org/2/library/unicodedata.html#unicodedata.normalize\n",
    "text2 = unicodedata.normalize(\"NFC\",texts)   #NFC doesn't normalise the white space\n",
    "text2 = unicodedata.normalize(\"NFKC\",texts)  #NFKC do normalise the white space\n",
    "text2 = unicodedata.normalize(\"NFD\",texts)   #NFD doesn't normalise the white space\n",
    "text2 = unicodedata.normalize(\"NFKD\",texts)  #NFKD do normalise the white space\n",
    "text2\n",
    "\n",
    "#however, none of it normalise \\xad"
   ]
  },
  {
   "cell_type": "code",
   "execution_count": 6,
   "metadata": {},
   "outputs": [
    {
     "data": {
      "text/plain": [
       "'SO249 Yi Chun Wang Perspectum Diagnostics Ltd\\nNI Letter &No: A Tax Code: 1250L Pay By: Bacs Date: 30/04/2020 Period: 1\\nDESCRIPTION RATE UNITS DUE AMOUNT (£) THIS YEAR (£)\\nSalary 1334.13 1334.13\\nBack Pay 431.03 431.03\\nErs NIC TP:142.58 Ers Pension TP: 0.00\\nTOTAL 1,765.16\\nErs NIC YTD: 142.58 Ers Pension YTD: 0.00\\nTax 144.40 144.40\\nNational Insurance 116.78 116.78\\n261.18\\nTotal taxable pay to date: 1,765.16\\nTax District: North East Metro Tax Reference:120/XA96981 NET PAY 1503.98'"
      ]
     },
     "execution_count": 6,
     "metadata": {},
     "output_type": "execute_result"
    }
   ],
   "source": [
    "#replace the \\xad, which is the U+00AD soft-hyphen characters. see-> https://stackoverflow.com/questions/51976328/best-way-to-remove-xad-in-python\n",
    "text3 = text2.replace(\"\\xad\", \"\")\n",
    "text3"
   ]
  },
  {
   "cell_type": "code",
   "execution_count": 7,
   "metadata": {},
   "outputs": [
    {
     "data": {
      "text/plain": [
       "['SO249 Yi Chun Wang Perspectum Diagnostics Ltd',\n",
       " 'NI Letter &No: A Tax Code: 1250L Pay By: Bacs Date: 30/04/2020 Period: 1',\n",
       " 'DESCRIPTION RATE UNITS DUE AMOUNT (£) THIS YEAR (£)',\n",
       " 'Salary 1334.13 1334.13',\n",
       " 'Back Pay 431.03 431.03',\n",
       " 'Ers NIC TP:142.58 Ers Pension TP: 0.00',\n",
       " 'TOTAL 1,765.16',\n",
       " 'Ers NIC YTD: 142.58 Ers Pension YTD: 0.00',\n",
       " 'Tax 144.40 144.40',\n",
       " 'National Insurance 116.78 116.78',\n",
       " '261.18',\n",
       " 'Total taxable pay to date: 1,765.16',\n",
       " 'Tax District: North East Metro Tax Reference:120/XA96981 NET PAY 1503.98']"
      ]
     },
     "execution_count": 7,
     "metadata": {},
     "output_type": "execute_result"
    }
   ],
   "source": [
    "#try to split lines in texts\n",
    "text4 = text3.split(\"\\n\")\n",
    "text4"
   ]
  },
  {
   "cell_type": "code",
   "execution_count": 14,
   "metadata": {
    "scrolled": true
   },
   "outputs": [
    {
     "data": {
      "text/plain": [
       "list"
      ]
     },
     "execution_count": 14,
     "metadata": {},
     "output_type": "execute_result"
    }
   ],
   "source": [
    "type(text4)"
   ]
  },
  {
   "cell_type": "code",
   "execution_count": 15,
   "metadata": {},
   "outputs": [
    {
     "data": {
      "text/plain": [
       "['SO249',\n",
       " 'Yi',\n",
       " 'Chun',\n",
       " 'Wang',\n",
       " 'Perspectum',\n",
       " 'Diagnostics',\n",
       " 'Ltd',\n",
       " 'NI',\n",
       " 'Letter',\n",
       " '&No:',\n",
       " 'A',\n",
       " 'Tax',\n",
       " 'Code:',\n",
       " '1250L',\n",
       " 'Pay',\n",
       " 'By:',\n",
       " 'Bacs',\n",
       " 'Date:',\n",
       " '30/04/2020',\n",
       " 'Period:',\n",
       " '1',\n",
       " 'DESCRIPTION',\n",
       " 'RATE',\n",
       " 'UNITS',\n",
       " 'DUE',\n",
       " 'AMOUNT',\n",
       " '(£)',\n",
       " 'THIS',\n",
       " 'YEAR',\n",
       " '(£)',\n",
       " 'Salary',\n",
       " '1334.13',\n",
       " '1334.13',\n",
       " 'Back',\n",
       " 'Pay',\n",
       " '431.03',\n",
       " '431.03',\n",
       " 'Ers',\n",
       " 'NIC',\n",
       " 'TP:142.58',\n",
       " 'Ers',\n",
       " 'Pension',\n",
       " 'TP:',\n",
       " '0.00',\n",
       " 'TOTAL',\n",
       " '1,765.16',\n",
       " 'Ers',\n",
       " 'NIC',\n",
       " 'YTD:',\n",
       " '142.58',\n",
       " 'Ers',\n",
       " 'Pension',\n",
       " 'YTD:',\n",
       " '0.00',\n",
       " 'Tax',\n",
       " '144.40',\n",
       " '144.40',\n",
       " 'National',\n",
       " 'Insurance',\n",
       " '116.78',\n",
       " '116.78',\n",
       " '261.18',\n",
       " 'Total',\n",
       " 'taxable',\n",
       " 'pay',\n",
       " 'to',\n",
       " 'date:',\n",
       " '1,765.16',\n",
       " 'Tax',\n",
       " 'District:',\n",
       " 'North',\n",
       " 'East',\n",
       " 'Metro',\n",
       " 'Tax',\n",
       " 'Reference:120/XA96981',\n",
       " 'NET',\n",
       " 'PAY',\n",
       " '1503.98']"
      ]
     },
     "execution_count": 15,
     "metadata": {},
     "output_type": "execute_result"
    }
   ],
   "source": [
    "text5 = text3.split()\n",
    "text5"
   ]
  },
  {
   "cell_type": "markdown",
   "metadata": {},
   "source": [
    "#### Task 3: expand to use regular expression to match Employee_ID, Employee_Name, Company_Name"
   ]
  },
  {
   "cell_type": "code",
   "execution_count": 57,
   "metadata": {},
   "outputs": [
    {
     "data": {
      "text/plain": [
       "('SO249', ' Yi Chun Wang ', 'Perspectum Diagnostics Ltd')"
      ]
     },
     "execution_count": 57,
     "metadata": {},
     "output_type": "execute_result"
    }
   ],
   "source": [
    "#Define what is an employee line with regular expression\n",
    "#the \"-\" in SO-249 will cause the regular expression to crash\n",
    "# \\S will match any non-whitespace character\n",
    "employ_re = re.compile(r\"(SO\\S\\d+)(.*)(Perspectum.*)\")\n",
    "employ_re.search(text3).group(1,2,3)"
   ]
  },
  {
   "cell_type": "code",
   "execution_count": 19,
   "metadata": {},
   "outputs": [
    {
     "data": {
      "text/plain": [
       "[('SO249', ' Yi Chun Wang Perspectum Diagnostics Ltd')]"
      ]
     },
     "execution_count": 19,
     "metadata": {},
     "output_type": "execute_result"
    }
   ],
   "source": [
    "#try to match text variable and return it as a list\n",
    "employ_re.findall(text3)"
   ]
  },
  {
   "cell_type": "code",
   "execution_count": 77,
   "metadata": {},
   "outputs": [
    {
     "data": {
      "text/html": [
       "<div>\n",
       "<style scoped>\n",
       "    .dataframe tbody tr th:only-of-type {\n",
       "        vertical-align: middle;\n",
       "    }\n",
       "\n",
       "    .dataframe tbody tr th {\n",
       "        vertical-align: top;\n",
       "    }\n",
       "\n",
       "    .dataframe thead th {\n",
       "        text-align: right;\n",
       "    }\n",
       "</style>\n",
       "<table border=\"1\" class=\"dataframe\">\n",
       "  <thead>\n",
       "    <tr style=\"text-align: right;\">\n",
       "      <th></th>\n",
       "      <th>Employee_ID</th>\n",
       "      <th>Employee_Name</th>\n",
       "      <th>Company_Name</th>\n",
       "    </tr>\n",
       "  </thead>\n",
       "  <tbody>\n",
       "    <tr>\n",
       "      <th>0</th>\n",
       "      <td>SO249</td>\n",
       "      <td>Yi Chun Wang</td>\n",
       "      <td>Perspectum Diagnostics Ltd</td>\n",
       "    </tr>\n",
       "  </tbody>\n",
       "</table>\n",
       "</div>"
      ],
      "text/plain": [
       "  Employee_ID   Employee_Name                Company_Name\n",
       "0       SO249   Yi Chun Wang   Perspectum Diagnostics Ltd"
      ]
     },
     "execution_count": 77,
     "metadata": {},
     "output_type": "execute_result"
    }
   ],
   "source": [
    "Line = namedtuple(\"Employment\",\"Employee_ID, Employee_Name, Company_Name\")\n",
    "\n",
    "\n",
    "holder = [] #create a list holder\n",
    "emp = employ_re.search(text3)\n",
    "Employee_ID, Employee_Name, Company_Name = emp.group(1), emp.group(2), emp.group(3)\n",
    "holder.append(Line(Employee_ID, Employee_Name, Company_Name))\n",
    "df = pd.DataFrame(holder)\n",
    "df"
   ]
  },
  {
   "cell_type": "markdown",
   "metadata": {},
   "source": [
    "#### Task4: Practice Regular Expression with the existing : "
   ]
  },
  {
   "cell_type": "code",
   "execution_count": 98,
   "metadata": {},
   "outputs": [
    {
     "data": {
      "text/plain": [
       "['SO249 Yi Chun Wang Perspectum Diagnostics Ltd',\n",
       " 'NI Letter &No: A Tax Code: 1250L Pay By: Bacs Date: 30/04/2020 Period: 1',\n",
       " 'DESCRIPTION RATE UNITS DUE AMOUNT (£) THIS YEAR (£)',\n",
       " 'Salary 1334.13 1334.13',\n",
       " 'Back Pay 431.03 431.03',\n",
       " 'Ers NIC TP:142.58 Ers Pension TP: 0.00',\n",
       " 'TOTAL 1,765.16',\n",
       " 'Ers NIC YTD: 142.58 Ers Pension YTD: 0.00',\n",
       " 'Tax 144.40 144.40',\n",
       " 'National Insurance 116.78 116.78',\n",
       " '261.18',\n",
       " 'Total taxable pay to date: 1,765.16',\n",
       " 'Tax District: North East Metro Tax Reference:120/XA96981 NET PAY 1503.98']"
      ]
     },
     "execution_count": 98,
     "metadata": {},
     "output_type": "execute_result"
    }
   ],
   "source": [
    "text4"
   ]
  },
  {
   "cell_type": "code",
   "execution_count": 93,
   "metadata": {},
   "outputs": [
    {
     "data": {
      "text/plain": [
       "<re.Match object; span=(92, 108), match='Date: 30/04/2020'>"
      ]
     },
     "execution_count": 93,
     "metadata": {},
     "output_type": "execute_result"
    }
   ],
   "source": [
    "PayDay_re = re.compile(r\"Date: \\d{2}/\\d{2}/\\d{4}\")\n",
    "PayDay_re.search(text3)"
   ]
  },
  {
   "cell_type": "code",
   "execution_count": 13,
   "metadata": {},
   "outputs": [
    {
     "data": {
      "text/plain": [
       "<re.Match object; span=(331, 356), match='National Insurance 116.78'>"
      ]
     },
     "execution_count": 13,
     "metadata": {},
     "output_type": "execute_result"
    }
   ],
   "source": [
    "#Expand the match and try to ignore matching white space\n",
    "Salary_re = re.compile(r\"Salary\\s\\d+.\\d+\")\n",
    "Salary_re.search(text3)\n",
    "BackPay_re = re.compile(r\"Back Pay\\s\\d+.\\d+\")\n",
    "BackPay_re.search(text3)\n",
    "Tax_re = re.compile(r\"Tax\\s\\d+.\\d+\")\n",
    "NI_re = re.compile(r\"National Insurance\\s\\d+.\\d+\")\n",
    "NI_re.search(text3)"
   ]
  },
  {
   "cell_type": "code",
   "execution_count": 16,
   "metadata": {},
   "outputs": [
    {
     "data": {
      "text/plain": [
       "['SO249 Yi Chun Wang Perspectum Diagnostics Ltd\\nNI Letter &No',\n",
       " ' A Tax Code',\n",
       " ' 1250L Pay By',\n",
       " ' Bacs Date',\n",
       " ' 30/04/2020 Period',\n",
       " ' 1\\nDESCRIPTION RATE UNITS DUE AMOUNT (£) THIS YEAR (£)\\nSalary 1334.13 1334.13\\nBack Pay 431.03 431.03\\nErs NIC TP',\n",
       " '142.58 Ers Pension TP',\n",
       " ' 0.00\\nTOTAL 1,765.16\\nErs NIC YTD',\n",
       " ' 142.58 Ers Pension YTD',\n",
       " ' 0.00\\nTax 144.40 144.40\\nNational Insurance 116.78 116.78\\n261.18\\nTotal taxable pay to date',\n",
       " ' 1,765.16\\nTax District',\n",
       " ' North East Metro Tax Reference',\n",
       " '120/XA96981 NET PAY 1503.98']"
      ]
     },
     "execution_count": 16,
     "metadata": {},
     "output_type": "execute_result"
    }
   ],
   "source": [
    "#split the infomation matched and write into csv\n",
    "tmp = re.split(r\":\", text3)\n",
    "tmp"
   ]
  },
  {
   "cell_type": "code",
   "execution_count": null,
   "metadata": {},
   "outputs": [],
   "source": []
  }
 ],
 "metadata": {
  "kernelspec": {
   "display_name": "Python 3",
   "language": "python",
   "name": "python3"
  },
  "language_info": {
   "codemirror_mode": {
    "name": "ipython",
    "version": 3
   },
   "file_extension": ".py",
   "mimetype": "text/x-python",
   "name": "python",
   "nbconvert_exporter": "python",
   "pygments_lexer": "ipython3",
   "version": "3.7.3"
  }
 },
 "nbformat": 4,
 "nbformat_minor": 2
}
