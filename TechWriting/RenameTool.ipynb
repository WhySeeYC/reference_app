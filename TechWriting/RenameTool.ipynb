{
 "cells": [
  {
   "cell_type": "markdown",
   "metadata": {},
   "source": [
    "# Testing Rename Tool to get to change output from Paligo\n",
    "This notebook is used to create and test the rename tool to support our naming convention.\n",
    "Start: 2022-07-26\n",
    "End:"
   ]
  },
  {
   "cell_type": "markdown",
   "metadata": {},
   "source": [
    "\n",
    "- [x] search through the download folder with file name that starts with 4~5 digit of number and end with .zip\n",
    "- [x] unzip the folder and read in the pdf \n",
    "\n",
    "- [x] get the file name from metadata or read in the header of the 1st page\n",
    "- [x] get the MRA ref number from the front page\n",
    "- [x] arrange the file name\n",
    "- [x] save to new PDF\n",
    "\n"
   ]
  },
  {
   "cell_type": "code",
   "execution_count": 11,
   "metadata": {},
   "outputs": [],
   "source": [
    "import os\n",
    "from datetime import datetime\n",
    "import PyPDF2\n",
    "from zipfile import ZipFile\n",
    "from PyPDF2 import PdfReader \n",
    "import shutil"
   ]
  },
  {
   "cell_type": "code",
   "execution_count": null,
   "metadata": {},
   "outputs": [],
   "source": [
    "if os.getcwd() != '/Users/yi-chunwang/OneDrive - Perspectum Ltd/Work_Repo/TechWriting':\n",
    "\n",
    "    os.chdir('/Users/yi-chunwang/OneDrive - Perspectum Ltd/Work_Repo/TechWriting')\n",
    "\n",
    "today = datetime.today().strftime('%Y-%m-%d')\n",
    "print('Last update on:', today)"
   ]
  },
  {
   "cell_type": "markdown",
   "metadata": {},
   "source": [
    "## Build a function to choose where to save the output file"
   ]
  },
  {
   "cell_type": "code",
   "execution_count": null,
   "metadata": {},
   "outputs": [],
   "source": [
    "PATH = input('Choose a folder/directory to save the output')\n",
    "Download_PATH = input('Choose choose your download folder')"
   ]
  },
  {
   "cell_type": "markdown",
   "metadata": {},
   "source": [
    "## Build RenameTool for English documents"
   ]
  },
  {
   "cell_type": "code",
   "execution_count": null,
   "metadata": {},
   "outputs": [],
   "source": [
    "os.chdir('/Users/yi-chunwang/Downloads') # change the current directory to Downloads folder\n",
    "downloads = os.listdir()\n",
    "\n",
    "for download in downloads:\n",
    "    if download[0].isdigit() and download.endswith('.zip'):\n",
    "        zipfile = os.path.abspath(download) # get the absolute path of the zip file\n",
    "        #print(zipfile)\n",
    "\n",
    "        with ZipFile(zipfile) as zipObj:\n",
    "            list_of_file_names = zipObj.namelist()\n",
    "            #print(list_of_file_names)\n",
    "            for fileName in list_of_file_names:\n",
    "                if fileName.endswith('.pdf'):\n",
    "                    zipObj.extract(fileName, '/Users/yi-chunwang/Downloads/')\n",
    "                    # print(list_of_file_names[-1]) # 34495-ALT-801-106_Patient_Acquisition_Manual-pdf/out/ALT-801-106_Patient_Acquisition_Manual-en.pdf\n",
    "                    # print(list_of_file_names)\n",
    "                    target_name = '/Users/yi-chunwang/Downloads/'+ list_of_file_names[-1]\n",
    "                    #print(target_name)\n",
    "\n",
    "                    reader = PdfReader(target_name) # read the pdf\n",
    "                    meta = reader.metadata # read the meta data\n",
    "                    file_name = meta.title # get the proper file name from the title in meta data\n",
    "                    page = reader.pages[0] # get the fron page\n",
    "                    front_page_text = page.extract_text() # get the front page text and store as a variable\n",
    "                    reference_start = front_page_text.find('MRA') # find the MRA reference number\n",
    "                    MRAref = front_page_text[reference_start:reference_start+7] # store the MRA reference number as a variable\n",
    "                    new_name =  file_name +' - '+ MRAref # compose new file name\n",
    "                    os.rename(target_name, '/Users/yi-chunwang/Downloads/'+new_name+'.pdf')# rename the file with the new file name\n",
    "\n",
    "                    # remove the temporary directory\n",
    "                    shutil.rmtree(list_of_file_names[0])"
   ]
  },
  {
   "cell_type": "markdown",
   "metadata": {},
   "source": [
    "## Build RenameTool for translated manuals"
   ]
  },
  {
   "cell_type": "code",
   "execution_count": 10,
   "metadata": {},
   "outputs": [],
   "source": [
    "os.chdir('/Users/yi-chunwang/Downloads') # change the current directory to Downloads folder\n",
    "downloads = os.listdir()\n",
    "\n",
    "# build a language code and full language name mapping\n",
    "lang_dict={\n",
    "'-af': ' (Afrikaans)'\n",
    ", '-ar': ' (Albanian)'\n",
    ", '-be': ' (Baelarusian)'\n",
    ", '-bg': ' (Bugarian)'\n",
    ", '-bs': ' (Bosnian)'\n",
    ", '-ca': ' (Catalan)'\n",
    ", '-cs': ' (Czech)'\n",
    ", '-da': ' (Danish)'\n",
    ", '-de': ' (German)'\n",
    ", '-el': ' (Greek)'\n",
    ", '-en': ' (English)'\n",
    ", '-eo': ' (Esperanto)'\n",
    ", '-es': ' (Spanish)'\n",
    ", '-et': ' (Estonian)'\n",
    ", '-eu': ' (Basque)'\n",
    ", '-fa': ' (Persian)'\n",
    ", '-fi': ' (Finnish)'\n",
    ", '-fr': ' (French)'\n",
    ", '-he': ' (Hebrew)'\n",
    ", '-hi': ' (Hindi)'\n",
    ", '-hr': ' (Croatian)'\n",
    ", '-hu': ' (Hangarain)'\n",
    ", '-is': ' (Icelandic)'\n",
    ", '-it': ' (Italian)'\n",
    ", '-ja': ' (Japanese)'\n",
    ", '-ji': ' (Yiddish)'\n",
    ", '-ko': ' (Korean)'\n",
    ", '-lt': ' (Lithuanian)'\n",
    ", '-lv': ' (Latvian)'\n",
    ", '-mg': ' (Malagasy)'\n",
    ", '-mk': ' (Macedonian)'\n",
    ", '-nb': ' (Norwegian Bokmål)'\n",
    ", '-nl': ' (Dutch)'\n",
    ", '-nn': ' (Norwegian Nynorsk)'\n",
    ", '-no': ' (Norwegian)'\n",
    ", '-pl': ' (Polish)'\n",
    ", '-pt': ' (Portuguese)'\n",
    ", '-ro': ' (Romanian)'\n",
    ", '-ru': ' (Russian)'\n",
    ", '-sk': ' (Slovak)'\n",
    ", '-sl': ' (Slovenian)'\n",
    ", '-sq': ' (Albanian)'\n",
    ", '-sr': ' (Serbian)'\n",
    ", '-sv': ' (Swedish)'\n",
    ", '-th': ' (Thai)'\n",
    ", '-tr': ' (Turkish)'\n",
    ", '-uk': ' (Ukranian)'\n",
    ", '-vi': ' (Vietnamese)'\n",
    ", '-za': ' (Zhuang)'\n",
    ", '-zh': ' (Chinese)'\n",
    ", '-zh-chs': ' (Chinese-simplified)'\n",
    ", '-zh-cht': ' (Chinese-traditional)'\n",
    "}\n",
    "\n",
    "\n",
    "for download in downloads:\n",
    "    if download[0].isdigit() and download.endswith('.zip'):\n",
    "        zipfile = os.path.abspath(download) # get the absolute path of the zip file\n",
    "        with ZipFile(zipfile) as zipObj:\n",
    "          list_of_file_names = zipObj.namelist() # get a list of file names of entire folder tree (from top zip folder to inner most files)\n",
    "          for fileName in list_of_file_names:\n",
    "                if fileName.endswith('.pdf'):\n",
    "                  zipObj.extract(fileName, '/Users/yi-chunwang/Downloads/')\n",
    "                  target_name = '/Users/yi-chunwang/Downloads/'+ list_of_file_names[-1]\n",
    "                  # print(target_name)\n",
    "                  index_start = list_of_file_names[-1].find('out/') # get the starting index of the last item in the list\n",
    "                  file_name_strip = list_of_file_names[-1][index_start+4:].replace('_', ' ').replace('.pdf', '') # extract out the file name itseld and replace underscore with space\n",
    "          \n",
    "        # Replace language code with full language \n",
    "        for key in lang_dict.keys():\n",
    "          file_name_strip = file_name_strip.replace(key, lang_dict[key]) # replace the language code with full labguage name\n",
    "          \n",
    "        # Add vendor name into file name\n",
    "        split_name = file_name_strip.split('for')\n",
    "        reader = PdfReader(target_name)\n",
    "        title = reader.metadata.title \n",
    "        if title.find('Siemens') != -1:\n",
    "          insert_vendor = split_name[0]+'for Siemens'+ split_name[1]\n",
    "        elif title.find('GE') != -1:\n",
    "          insert_vendor = split_name[0]+'for GE'+ split_name[1]\n",
    "        else:\n",
    "          insert_vendor = split_name[0]+'for Philips'+ split_name[1]\n",
    "        #print(insert_vendor)\n",
    "\n",
    "        # Add MRA ref\n",
    "        page = reader.pages[0] # get the front page\n",
    "        front_page_text = page.extract_text() # get the front page text and store as a variable\n",
    "        reference_start = front_page_text.find('MRA') # find the MRA reference number\n",
    "        MRAref = front_page_text[reference_start:reference_start+7] # store the MRA reference number as a variable\n",
    "        new_name =  insert_vendor +' - '+ MRAref # compose new file name\n",
    "        os.rename(target_name, '/Users/yi-chunwang/Downloads/'+new_name+'.pdf') # rename the file with the new file name\n",
    "\n",
    "        # remove the temporary directory\n",
    "        shutil.rmtree(list_of_file_names[0])"
   ]
  },
  {
   "cell_type": "code",
   "execution_count": null,
   "metadata": {},
   "outputs": [],
   "source": [
    "# No need tp unpack because the ZipFile function had supported the unzip process, and it also provides us with the downstream file name\n",
    " \n",
    "shutil.unpack_archive(zipfile, '/Users/yi-chunwang/Downloads/', 'zip') #use function to unzip file\n",
    "os.chdir()\n",
    "shutil.unpack_archive(zipfile, '/Users/yi-chunwang/Downloads/', 'zip') #use function to unzip file\n",
    "os.mv\n",
    "print('unzip done')"
   ]
  },
  {
   "cell_type": "code",
   "execution_count": null,
   "metadata": {},
   "outputs": [],
   "source": [
    "\n",
    "# there is no need to walk now because the target_name had been find out by the list of filename from the ZipFile function\n",
    "\n",
    "for root, dirs, files in os.walk('/Users/yi-chunwang/Downloads/out/34495-ALT-801-106_Patient_Acquisition_Manual-pdf', topdown=False):\n",
    "    for name in files:\n",
    "        if name.endswith('.pdf'):\n",
    "            target_name = os.path.join(root, name)\n"
   ]
  }
 ],
 "metadata": {
  "kernelspec": {
   "display_name": "Python 3.10.6 64-bit",
   "language": "python",
   "name": "python3"
  },
  "language_info": {
   "codemirror_mode": {
    "name": "ipython",
    "version": 3
   },
   "file_extension": ".py",
   "mimetype": "text/x-python",
   "name": "python",
   "nbconvert_exporter": "python",
   "pygments_lexer": "ipython3",
   "version": "3.10.6"
  },
  "orig_nbformat": 4,
  "vscode": {
   "interpreter": {
    "hash": "aee8b7b246df8f9039afb4144a1f6fd8d2ca17a180786b69acc140d282b71a49"
   }
  }
 },
 "nbformat": 4,
 "nbformat_minor": 2
}
