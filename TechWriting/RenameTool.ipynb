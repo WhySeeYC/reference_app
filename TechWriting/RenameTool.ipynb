{
 "cells": [
  {
   "cell_type": "markdown",
   "metadata": {},
   "source": [
    "# Testing Rename Tool to get to change output from Paligo\n",
    "This notebook is used to create and test the rename tool to support our naming convention.\n",
    "Start: 2022-07-26\n",
    "End:"
   ]
  },
  {
   "cell_type": "code",
   "execution_count": 1,
   "metadata": {},
   "outputs": [
    {
     "name": "stdout",
     "output_type": "stream",
     "text": [
      "Last update on: 2022-07-26\n"
     ]
    }
   ],
   "source": [
    "import os\n",
    "from datetime import datetime\n",
    "\n",
    "if os.getcwd() != '/Users/yi-chunwang/OneDrive - Perspectum Ltd/Work_Repo/TechWriting':\n",
    "    os.cwd('/Users/yi-chunwang/OneDrive - Perspectum Ltd/Work_Repo/TechWriting')\n",
    "\n",
    "today = datetime.today().strftime('%Y-%m-%d')\n",
    "print('Last update on:', today)"
   ]
  },
  {
   "cell_type": "markdown",
   "metadata": {},
   "source": [
    "\n",
    "- [x] search through the download folder with file name that starts with 4~5 digit of number and end with .zip\n",
    "- [x] unzip the folder and read in the pdf \n",
    "\n",
    "- [x] get the file name from metadata or read in the header of the 1st page\n",
    "- [x] get the MRA ref number from the front page\n",
    "- [x] arrange the file name\n",
    "- [x] save to new PDF\n",
    "\n"
   ]
  },
  {
   "cell_type": "code",
   "execution_count": 3,
   "metadata": {},
   "outputs": [],
   "source": [
    "\n",
    "os.chdir('/Users/yi-chunwang/Downloads') # change the current directory to Downloads folder\n",
    "downloads = os.listdir()\n",
    "\n",
    "for download in downloads:\n",
    "    if download[0].isdigit() and download.endswith('.zip'):\n",
    "        zipfile = os.path.abspath(download) # get the absolute path of the zip file\n",
    "        #print(zipfile)\n",
    "\n",
    "        from zipfile import ZipFile\n",
    "        with ZipFile(zipfile) as zipObj:\n",
    "            list_of_file_names = zipObj.namelist()\n",
    "            #print(list_of_file_names)\n",
    "            for fileName in list_of_file_names:\n",
    "                if fileName.endswith('.pdf'):\n",
    "                    zipObj.extract(fileName, '/Users/yi-chunwang/Downloads/')\n",
    "                    # print(list_of_file_names[-1]) # 34495-ALT-801-106_Patient_Acquisition_Manual-pdf/out/ALT-801-106_Patient_Acquisition_Manual-en.pdf\n",
    "                    # print(list_of_file_names)\n",
    "                    target_name = '/Users/yi-chunwang/Downloads/'+ list_of_file_names[-1]\n",
    "                    #print(target_name)\n",
    "                    from PyPDF2 import PdfReader \n",
    "                    reader = PdfReader(target_name) # read the pdf\n",
    "                    meta = reader.metadata # read the meta data\n",
    "                    file_name = meta.title # get the proper file name from the title in meta data\n",
    "                    page = reader.pages[0] # get the fron page\n",
    "                    front_page_text = page.extract_text() # get the front page text and store as a variable\n",
    "                    reference_start = front_page_text.find('MRA') # find the MRA reference number\n",
    "                    MRAref = front_page_text[reference_start:reference_start+7] # store the MRA reference number as a variable\n",
    "                    new_name =  file_name +' - '+ MRAref # compose new file name\n",
    "                    os.rename(target_name, '/Users/yi-chunwang/Downloads/'+new_name+'.pdf')# rename the file with the new file name\n",
    "\n",
    "                    # remove the temporary directory\n",
    "                    import shutil\n",
    "                    shutil.rmtree(list_of_file_names[0])"
   ]
  },
  {
   "cell_type": "code",
   "execution_count": null,
   "metadata": {},
   "outputs": [],
   "source": []
  },
  {
   "cell_type": "code",
   "execution_count": null,
   "metadata": {},
   "outputs": [],
   "source": []
  },
  {
   "cell_type": "code",
   "execution_count": null,
   "metadata": {},
   "outputs": [],
   "source": [
    " # No need tp unpack because the ZipFile function had supported the unzip process, and it also provides us with the downstream file name\n",
    " \n",
    "        shutil.unpack_archive(zipfile, '/Users/yi-chunwang/Downloads/', 'zip') #use function to unzip file\n",
    "        os.chdir()\n",
    "        shutil.unpack_archive(zipfile, '/Users/yi-chunwang/Downloads/', 'zip') #use function to unzip file\n",
    "        os.mv\n",
    "        print('unzip done')"
   ]
  },
  {
   "cell_type": "code",
   "execution_count": 56,
   "metadata": {},
   "outputs": [
    {
     "name": "stdout",
     "output_type": "stream",
     "text": [
      "/Users/yi-chunwang/Downloads/out/34495-ALT-801-106_Patient_Acquisition_Manual-pdf/out/ALT-801-106_Patient_Acquisition_Manual-en.pdf\n"
     ]
    }
   ],
   "source": [
    "\n",
    "# there is no need to walk now because the target_name had been find out by the list of filename from the ZipFile function\n",
    "\n",
    "for root, dirs, files in os.walk('/Users/yi-chunwang/Downloads/out/34495-ALT-801-106_Patient_Acquisition_Manual-pdf', topdown=False):\n",
    "    for name in files:\n",
    "        if name.endswith('.pdf'):\n",
    "            target_name = os.path.join(root, name)\n"
   ]
  }
 ],
 "metadata": {
  "kernelspec": {
   "display_name": "Python 3.8.2 ('venv': venv)",
   "language": "python",
   "name": "python3"
  },
  "language_info": {
   "codemirror_mode": {
    "name": "ipython",
    "version": 3
   },
   "file_extension": ".py",
   "mimetype": "text/x-python",
   "name": "python",
   "nbconvert_exporter": "python",
   "pygments_lexer": "ipython3",
   "version": "3.8.2"
  },
  "orig_nbformat": 4,
  "vscode": {
   "interpreter": {
    "hash": "1dca83dbb93f60793bd8d861174d9087bc218b124260aed005f95ccf968283fe"
   }
  }
 },
 "nbformat": 4,
 "nbformat_minor": 2
}
