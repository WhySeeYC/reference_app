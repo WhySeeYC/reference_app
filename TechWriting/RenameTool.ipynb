{
 "cells": [
  {
   "cell_type": "markdown",
   "metadata": {},
   "source": [
    "# Paligo RenameTool\n",
    "The Paligo RenameToo is used created to automate the download and rename process of technical documentations published with Paligo (the CCMS system Perspectum uses). \\\n",
    "The development of the Paligo RenameTool starts at 2022-07-26 and currently end at 2022-09-20. \n",
    "Imaging Applications team manaul naming convention is outlined as below, MRA reference number should be added to the end of file name :\n",
    "|Project Type| Naming Convention | Example | Translation|\n",
    "|---|---|---|---|\n",
    "|For CRO project|[company_name] [project_name] Patient Acquisition Manual for XX Scanners|Lilly I8F-MC-GPIF Patient Acquisition Manual for GE Scanners|Lilly I8F-MC-GPIF Patient Acquisition Manual for GE Scanners (Portuguese)|\n",
    "|For Clinical Collaboration|[project_name] Patient Acquisition Manual for XX Scanners|NIMBLE Patient Acquisition Manual for GE Scanners|NIMBLE Patient Acquisition Manual for GE Scanners (Japanese)|"
   ]
  },
  {
   "cell_type": "markdown",
   "metadata": {},
   "source": [
    "The general tasks each of the following function does include\n",
    "- search through the download folder with file name that starts with 4~5 digit of number and ends with .zip\n",
    "- unzip the folder and read in the pdf \n",
    "- get the file name from metadata title or the file name from the zipObj   \n",
    "- replace the language suffix with full language name as per naming convention (If applicable)\n",
    "- get the MRA reference number from the front page text\n",
    "- add MRA reference number to the file name\n",
    "- save to new PDF at the output directory selected by the user"
   ]
  },
  {
   "cell_type": "code",
   "execution_count": 2,
   "metadata": {},
   "outputs": [],
   "source": [
    "# Import required Python libraries\n",
    "import os\n",
    "from datetime import datetime\n",
    "import PyPDF2\n",
    "from zipfile import ZipFile\n",
    "from PyPDF2 import PdfReader \n",
    "import shutil\n",
    "import webbrowser"
   ]
  },
  {
   "cell_type": "code",
   "execution_count": 25,
   "metadata": {},
   "outputs": [
    {
     "name": "stdout",
     "output_type": "stream",
     "text": [
      "Last Update: 2022/09/28\n"
     ]
    }
   ],
   "source": [
    "today = datetime.today().strftime('%Y/%m/%d')\n",
    "print('Last Update:', today)"
   ]
  },
  {
   "cell_type": "code",
   "execution_count": 5,
   "metadata": {},
   "outputs": [
    {
     "data": {
      "text/plain": [
       "'/Users/yi-chunwang/Downloads'"
      ]
     },
     "execution_count": 5,
     "metadata": {},
     "output_type": "execute_result"
    }
   ],
   "source": [
    "## Change working directory\n",
    "download_PATH = '/Users/yi-chunwang/Downloads'\n",
    "save_PATH = '/Users/yi-chunwang/Downloads'\n",
    "os.getcwd()"
   ]
  },
  {
   "cell_type": "markdown",
   "metadata": {},
   "source": [
    "## Build a function to choose where to save the output file"
   ]
  },
  {
   "cell_type": "code",
   "execution_count": 3,
   "metadata": {},
   "outputs": [],
   "source": [
    "# Let user choose download folder because manual output from Paligo are default saved on Dowload folder\n",
    "def choose_download_PATH():\n",
    "    global download_PATH\n",
    "    download_PATH = input('Define your Download folder path')\n",
    "    return download_PATH\n",
    "\n",
    "# Let user choose a folder to save renamed files. It can be the same as the Download folder\n",
    "def output_folder():\n",
    "    global save_PATH\n",
    "    save_PATH = input('Choose a folder/directory to save the output (as path)')\n",
    "    while not os.path.exists(save_PATH):\n",
    "        print('invalid path')\n",
    "        save_PATH = input('Choose a folder/directory to save the output(as path)')\n",
    "    return save_PATH\n"
   ]
  },
  {
   "cell_type": "code",
   "execution_count": 4,
   "metadata": {},
   "outputs": [
    {
     "data": {
      "text/plain": [
       "'/Users/yi-chunwang/Downloads'"
      ]
     },
     "execution_count": 4,
     "metadata": {},
     "output_type": "execute_result"
    }
   ],
   "source": [
    "# run choose_download_PATH() function\n",
    "choose_download_PATH()"
   ]
  },
  {
   "cell_type": "code",
   "execution_count": 5,
   "metadata": {},
   "outputs": [
    {
     "data": {
      "text/plain": [
       "'/Users/yi-chunwang/Downloads'"
      ]
     },
     "execution_count": 5,
     "metadata": {},
     "output_type": "execute_result"
    }
   ],
   "source": [
    "# run output_folder() function \n",
    "output_folder()"
   ]
  },
  {
   "cell_type": "markdown",
   "metadata": {},
   "source": [
    "## RenameTool for English Manuals"
   ]
  },
  {
   "cell_type": "code",
   "execution_count": 6,
   "metadata": {},
   "outputs": [],
   "source": [
    "os.chdir(download_PATH) # change the current directory to Downloads folder\n",
    "downloads = os.listdir()\n",
    "\n",
    "for download in downloads:\n",
    "    if download[0].isdigit() and download.endswith('.zip'):\n",
    "        zipfile = os.path.abspath(download) # get the absolute path of the zip file\n",
    "        #print(zipfile)\n",
    "\n",
    "        with ZipFile(zipfile) as zipObj:\n",
    "            list_of_file_names = zipObj.namelist()\n",
    "            #print(list_of_file_names)\n",
    "            for fileName in list_of_file_names:\n",
    "                if fileName.endswith('.pdf'):\n",
    "                    zipObj.extract(fileName, save_PATH)\n",
    "                    # print(list_of_file_names[-1]) # 34495-ALT-801-106_Patient_Acquisition_Manual-pdf/out/ALT-801-106_Patient_Acquisition_Manual-en.pdf\n",
    "                    # print(list_of_file_names)\n",
    "                    target_name = os.path.join(save_PATH,list_of_file_names[-1])\n",
    "                    #print(target_name)\n",
    "\n",
    "                    reader = PdfReader(target_name) # read the pdf\n",
    "                    meta = reader.metadata # read the meta data\n",
    "                    file_name = meta.title # get the proper file name from the title in meta data\n",
    "                    page = reader.pages[0] # get the fron page\n",
    "                    front_page_text = page.extract_text() # get the front page text and store as a variable\n",
    "                    reference_start = front_page_text.find('MRA') # find the MRA reference number\n",
    "                    MRAref = front_page_text[reference_start:reference_start+7] # store the MRA reference number as a variable\n",
    "                    new_name =  file_name +' - '+ MRAref +'.pdf' # compose new file name\n",
    "                    os.rename(target_name, os.path.join(save_PATH, new_name)) # rename the file with the new file name\n",
    "\n",
    "                    # remove the temporary directory\n",
    "                    if download_PATH == save_PATH:\n",
    "                        shutil.rmtree(list_of_file_names[0])\n",
    "                    else:\n",
    "                        continue"
   ]
  },
  {
   "cell_type": "markdown",
   "metadata": {},
   "source": [
    "## RenameTool for Translated Manuals"
   ]
  },
  {
   "cell_type": "code",
   "execution_count": 26,
   "metadata": {},
   "outputs": [],
   "source": [
    "os.chdir(download_PATH) # change the current directory to Downloads folder\n",
    "downloads = os.listdir()\n",
    "\n",
    "# build a language code and full language name mapping\n",
    "lang_dict={\n",
    "'-af': ' (Afrikaans)'\n",
    ", '-ar': ' (Albanian)'\n",
    ", '-be': ' (Baelarusian)'\n",
    ", '-bg': ' (Bugarian)'\n",
    ", '-bs': ' (Bosnian)'\n",
    ", '-ca': ' (Catalan)'\n",
    ", '-cs': ' (Czech)'\n",
    ", '-da': ' (Danish)'\n",
    ", '-de': ' (German)'\n",
    ", '-el': ' (Greek)'\n",
    ", '-en': ' (English)'\n",
    ", '-eo': ' (Esperanto)'\n",
    ", '-es': ' (Spanish)'\n",
    ", '-et': ' (Estonian)'\n",
    ", '-eu': ' (Basque)'\n",
    ", '-fa': ' (Persian)'\n",
    ", '-fi': ' (Finnish)'\n",
    ", '-fr': ' (French)'\n",
    ", '-he': ' (Hebrew)'\n",
    ", '-hi': ' (Hindi)'\n",
    ", '-hr': ' (Croatian)'\n",
    ", '-hu': ' (Hangarain)'\n",
    ", '-is': ' (Icelandic)'\n",
    ", '-it': ' (Italian)'\n",
    ", '-ja': ' (Japanese)'\n",
    ", '-ji': ' (Yiddish)'\n",
    ", '-ko': ' (Korean)'\n",
    ", '-lt': ' (Lithuanian)'\n",
    ", '-lv': ' (Latvian)'\n",
    ", '-mg': ' (Malagasy)'\n",
    ", '-mk': ' (Macedonian)'\n",
    ", '-nb': ' (Norwegian Bokmål)'\n",
    ", '-nl': ' (Dutch)'\n",
    ", '-nn': ' (Norwegian Nynorsk)'\n",
    ", '-no': ' (Norwegian)'\n",
    ", '-pl': ' (Polish)'\n",
    ", '-pt': ' (Portuguese)'\n",
    ", '-ro': ' (Romanian)'\n",
    ", '-ru': ' (Russian)'\n",
    ", '-sk': ' (Slovak)'\n",
    ", '-sl': ' (Slovenian)'\n",
    ", '-sq': ' (Albanian)'\n",
    ", '-sr': ' (Serbian)'\n",
    ", '-sv': ' (Swedish)'\n",
    ", '-th': ' (Thai)'\n",
    ", '-tr': ' (Turkish)'\n",
    ", '-uk': ' (Ukranian)'\n",
    ", '-vi': ' (Vietnamese)'\n",
    ", '-za': ' (Zhuang)'\n",
    ", '-zh': ' (Chinese)'\n",
    ", '-zh-chs': ' (Chinese-simplified)'\n",
    ", '-zh-cht': ' (Chinese-traditional)'\n",
    "}\n",
    "\n",
    "\n",
    "for download in downloads:\n",
    "    if download[0].isdigit() and download.endswith('.zip'):\n",
    "        zipfile = os.path.abspath(download) # get the absolute path of the zip file\n",
    "        with ZipFile(zipfile) as zipObj:\n",
    "          list_of_file_names = zipObj.namelist() # get a list of file names of entire folder tree (from top zip folder to inner most files)\n",
    "          for fileName in list_of_file_names:\n",
    "                if fileName.endswith('.pdf'):\n",
    "                  zipObj.extract(fileName,  save_PATH)\n",
    "                  target_name =  os.path.join(save_PATH, list_of_file_names[-1])\n",
    "                  # print(target_name)\n",
    "                  index_start = list_of_file_names[-1].find('out/') # get the starting index of the last item in the list\n",
    "                  file_name_strip = list_of_file_names[-1][index_start+4:].replace('_', ' ').replace('.pdf', '') # extract out the file name itseld and replace underscore with space\n",
    "          \n",
    "        # Replace language code with full language \n",
    "        for key in lang_dict.keys():\n",
    "          file_name_strip = file_name_strip.replace(key, lang_dict[key]) # replace the language code with full labguage name\n",
    "          \n",
    "        # Add vendor name into file name\n",
    "        split_name = file_name_strip.split('for')\n",
    "        reader = PdfReader(target_name)\n",
    "        title = reader.metadata.title \n",
    "        if title.find('Siemens') != -1:\n",
    "          insert_vendor = split_name[0]+'for Siemens'+ split_name[1]\n",
    "        elif title.find('GE') != -1:\n",
    "          insert_vendor = split_name[0]+'for GE'+ split_name[1]\n",
    "        else:\n",
    "          insert_vendor = split_name[0]+'for Philips'+ split_name[1]\n",
    "        #print(insert_vendor)\n",
    "\n",
    "        # Add MRA ref\n",
    "        page = reader.pages[0] # get the front page\n",
    "        front_page_text = page.extract_text() # get the front page text and store as a variable\n",
    "        reference_start = front_page_text.find('MRA') # find the MRA reference number\n",
    "        MRAref = front_page_text[reference_start:reference_start+7] # store the MRA reference number as a variable\n",
    "        new_name =  insert_vendor +' - '+ MRAref +'.pdf' # compose new file name\n",
    "        os.rename(target_name, os.path.join(save_PATH, new_name)) # rename the file with the new file name\n",
    "\n",
    "        # remove the temporary directory\n",
    "        if download_PATH == save_PATH:\n",
    "          shutil.rmtree(list_of_file_names[0])\n",
    "        else:\n",
    "          continue"
   ]
  },
  {
   "cell_type": "markdown",
   "metadata": {},
   "source": [
    "## Rename Tool for non-Manual English Documents "
   ]
  },
  {
   "cell_type": "code",
   "execution_count": 33,
   "metadata": {},
   "outputs": [],
   "source": [
    "os.chdir(download_PATH) # change the current directory to Downloads folder\n",
    "downloads = os.listdir()\n",
    "\n",
    "for download in downloads:\n",
    "    if download[0].isdigit() and download.endswith('.zip'):\n",
    "        zipfile = os.path.abspath(download) # get the absolute path of the zip file\n",
    "\n",
    "        with ZipFile(zipfile) as zipObj:\n",
    "            list_of_file_names = zipObj.namelist()\n",
    "            for fileName in list_of_file_names:\n",
    "                if fileName.endswith('.pdf'):\n",
    "                    zipObj.extract(fileName, save_PATH)\n",
    "                    target_name = os.path.join(save_PATH,list_of_file_names[-1])\n",
    "                    reader = PdfReader(target_name) # read the pdf\n",
    "                    meta = reader.metadata # read the meta data\n",
    "                    file_name_strip = meta.title.replace('_', ' ') # get the proper file name from the title in meta data and replace the underscore with space\n",
    "\n",
    "                    # Add vendor name into file name\n",
    "                    try: \n",
    "                        split_name = file_name_strip.split('for') # see if the title has \"for scanners\"\n",
    "                        reader = PdfReader(target_name)\n",
    "                        title = reader.metadata.title \n",
    "                        if title.find('Siemens') != -1:\n",
    "                          insert_vendor = split_name[0]+'for Siemens'+ split_name[1]\n",
    "                        elif title.find('GE') != -1:\n",
    "                          insert_vendor = split_name[0]+'for GE'+ split_name[1]\n",
    "                        else:\n",
    "                          insert_vendor = split_name[0]+'for Philips'+ split_name[1]\n",
    "                    except:\n",
    "                        insert_vendor = file_name_strip\n",
    "\n",
    "                    # Add MRA reference number\n",
    "                    page = reader.pages[0] # get the front page\n",
    "                    front_page_text = page.extract_text() # get the front page text and store as a variable\n",
    "                    reference_start = front_page_text.find('MRA') # find the MRA reference number\n",
    "                    MRAref = front_page_text[reference_start:reference_start+7] # store the MRA reference number as a variable\n",
    "                    new_name =  insert_vendor +' - '+ MRAref +'.pdf' # compose new file name\n",
    "                    os.rename(target_name, os.path.join(save_PATH, new_name)) # rename the file with the new file name\n",
    "\n",
    "                    # remove the temporary directory\n",
    "                    if download_PATH == save_PATH:\n",
    "                        shutil.rmtree(list_of_file_names[0])\n",
    "                    else:\n",
    "                        continue"
   ]
  },
  {
   "cell_type": "code",
   "execution_count": null,
   "metadata": {},
   "outputs": [],
   "source": []
  },
  {
   "cell_type": "markdown",
   "metadata": {},
   "source": [
    "## Open further LegaleSign and MRA register browers "
   ]
  },
  {
   "cell_type": "code",
   "execution_count": 28,
   "metadata": {},
   "outputs": [
    {
     "data": {
      "text/plain": [
       "True"
      ]
     },
     "execution_count": 28,
     "metadata": {},
     "output_type": "execute_result"
    }
   ],
   "source": [
    "# open LegaleSign \n",
    "webbrowser.open('https://app1.legalesign.com/perspectum-diagnostics3/pdf/upload/')"
   ]
  },
  {
   "cell_type": "code",
   "execution_count": 29,
   "metadata": {},
   "outputs": [
    {
     "data": {
      "text/plain": [
       "True"
      ]
     },
     "execution_count": 29,
     "metadata": {},
     "output_type": "execute_result"
    }
   ],
   "source": [
    "# open MRA reguster\n",
    "webbrowser.open('https://perspectumdiagnostics.sharepoint.com/Lists/MRA%20Register/AllItems.aspx')\n"
   ]
  },
  {
   "cell_type": "markdown",
   "metadata": {},
   "source": [
    "## PlayGround"
   ]
  },
  {
   "cell_type": "code",
   "execution_count": null,
   "metadata": {},
   "outputs": [],
   "source": [
    "# No need tp unpack because the ZipFile function had supported the unzip process, and it also provides us with the downstream file name\n",
    " \n",
    "shutil.unpack_archive(zipfile, '/Users/yi-chunwang/Downloads/', 'zip') #use function to unzip file\n",
    "os.chdir()\n",
    "shutil.unpack_archive(zipfile, '/Users/yi-chunwang/Downloads/', 'zip') #use function to unzip file\n",
    "os.mv\n",
    "print('unzip done')"
   ]
  },
  {
   "cell_type": "code",
   "execution_count": null,
   "metadata": {},
   "outputs": [],
   "source": [
    "\n",
    "# there is no need to walk now because the target_name had been find out by the list of filename from the ZipFile function\n",
    "\n",
    "for root, dirs, files in os.walk('/Users/yi-chunwang/Downloads/out/34495-ALT-801-106_Patient_Acquisition_Manual-pdf', topdown=False):\n",
    "    for name in files:\n",
    "        if name.endswith('.pdf'):\n",
    "            target_name = os.path.join(root, name)\n"
   ]
  },
  {
   "cell_type": "code",
   "execution_count": null,
   "metadata": {},
   "outputs": [],
   "source": []
  }
 ],
 "metadata": {
  "kernelspec": {
   "display_name": "Python 3.8.9 ('venv': venv)",
   "language": "python",
   "name": "python3"
  },
  "language_info": {
   "codemirror_mode": {
    "name": "ipython",
    "version": 3
   },
   "file_extension": ".py",
   "mimetype": "text/x-python",
   "name": "python",
   "nbconvert_exporter": "python",
   "pygments_lexer": "ipython3",
   "version": "3.10.6"
  },
  "orig_nbformat": 4,
  "vscode": {
   "interpreter": {
    "hash": "dc01c1a58905878c53674fa3df1594063d61b07df83e9b82eb57432daccf20a8"
   }
  }
 },
 "nbformat": 4,
 "nbformat_minor": 2
}
