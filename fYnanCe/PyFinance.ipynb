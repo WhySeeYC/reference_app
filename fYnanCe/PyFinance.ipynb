{
 "cells": [
  {
   "cell_type": "code",
   "execution_count": null,
   "metadata": {
    "collapsed": true
   },
   "outputs": [],
   "source": [
    "pip install tabula-py"
   ]
  },
  {
   "cell_type": "code",
   "execution_count": null,
   "metadata": {
    "collapsed": true
   },
   "outputs": [],
   "source": [
    "import tabula\n",
    "tabula.read_pdf('/Users/YC/Desktop/Scholarship Application/ePayslip20201019.pdf', stream=True)"
   ]
  },
  {
   "cell_type": "code",
   "execution_count": null,
   "metadata": {
    "collapsed": true
   },
   "outputs": [],
   "source": [
    "pip install --upgrade pip"
   ]
  },
  {
   "cell_type": "code",
   "execution_count": null,
   "metadata": {
    "collapsed": true
   },
   "outputs": [],
   "source": [
    "#Working with PDF in Python --> https://realpython.com/pdf-python/\n",
    "!pip install PyPDF2"
   ]
  },
  {
   "cell_type": "code",
   "execution_count": null,
   "metadata": {
    "collapsed": true
   },
   "outputs": [],
   "source": [
    "import PyPDF2 as p2\n",
    "PDFfile = open(\"/Users/YC/Desktop/data.pdf\", \"rb\")  #the rb is to allow editing mode\n",
    "PDFread = p2.PdfFileReader(PDFfile)\n",
    "x=PDFread.getPage(1)"
   ]
  },
  {
   "cell_type": "code",
   "execution_count": null,
   "metadata": {
    "collapsed": true
   },
   "outputs": [],
   "source": [
    "data = x.extractText()\n",
    "data"
   ]
  },
  {
   "cell_type": "code",
   "execution_count": null,
   "metadata": {
    "collapsed": true
   },
   "outputs": [],
   "source": [
    "df= data.DataFrame(data, (7,5)) \n",
    "#because the data we have are strings, cannot be reshaped into dataframe"
   ]
  },
  {
   "cell_type": "markdown",
   "metadata": {},
   "source": [
    "## Read Payslip into csv 28th Dec 2020"
   ]
  },
  {
   "cell_type": "code",
   "execution_count": null,
   "metadata": {
    "collapsed": true
   },
   "outputs": [],
   "source": [
    "#install modules\n",
    "pip install pdfplumber"
   ]
  },
  {
   "cell_type": "markdown",
   "metadata": {},
   "source": [
    "#### Task1: Use Regular expression to read a pdf file and write into pandas data frame and csv"
   ]
  },
  {
   "cell_type": "code",
   "execution_count": 1,
   "metadata": {},
   "outputs": [],
   "source": [
    "#Import Library\n",
    "import re       #regular expression\n",
    "import pdfplumber \n",
    "import pandas as pd\n",
    "from collections import namedtuple #namedtuple library from collections module\n",
    "import unicodedata  #for decode the text from unicode to actual character"
   ]
  },
  {
   "cell_type": "code",
   "execution_count": null,
   "metadata": {},
   "outputs": [],
   "source": [
    "#Give a variable named line\n",
    "Line = namedtuple(\"Line\",\"Company_Name\")"
   ]
  },
  {
   "cell_type": "code",
   "execution_count": 2,
   "metadata": {},
   "outputs": [
    {
     "output_type": "execute_result",
     "data": {
      "text/plain": [
       "<re.Match object; span=(0, 25), match='Perspetum Diagnostics Ltd'>"
      ]
     },
     "metadata": {},
     "execution_count": 2
    }
   ],
   "source": [
    "#Define what is an employee line with regular expression and test to see if match\n",
    "company_re = re.compile(r\"((.*)Ltd)\")\n",
    "company_re.match(\"Perspetum Diagnostics Ltd\")"
   ]
  },
  {
   "cell_type": "code",
   "execution_count": null,
   "metadata": {},
   "outputs": [],
   "source": [
    "#test and see if group match the regular expression. \n",
    "company_re.search(\"Perspetum Diagnostics Ltd\").group(1)"
   ]
  },
  {
   "cell_type": "code",
   "execution_count": null,
   "metadata": {},
   "outputs": [],
   "source": [
    "type(company_re.search(\"Perspetum Diagnostics Ltd\"))"
   ]
  },
  {
   "cell_type": "code",
   "execution_count": 5,
   "metadata": {},
   "outputs": [],
   "source": [
    "file = '/Users/YC/Work_Repo/fYnanCe/ePayslip20201019.pdf'"
   ]
  },
  {
   "cell_type": "code",
   "execution_count": 6,
   "metadata": {
    "scrolled": true
   },
   "outputs": [
    {
     "output_type": "stream",
     "name": "stdout",
     "text": [
      "{'fontname': 'AOGXMC+Arial-BoldMT', 'adv': Decimal('7.326'), 'upright': True, 'x0': Decimal('18.686'), 'y0': Decimal('797.988'), 'x1': Decimal('25.049'), 'y1': Decimal('807.542'), 'width': Decimal('6.363'), 'height': Decimal('9.554'), 'size': Decimal('9.554'), 'object_type': 'char', 'page_number': 1, 'stroking_color': None, 'non_stroking_color': (0.2, 0.2, 0.2), 'text': 'S', 'top': Decimal('34.458'), 'bottom': Decimal('44.012'), 'doctop': Decimal('34.458')}\n{'Producer': 'macOS Version 10.15.7 (Build 19H2) Quartz PDFContext, AppendMode 1.1', 'ModDate': \"D:20201231133051Z00'00'\"}\nNone\nSO­249 Yi Chun Wang Perspectum Diagnostics Ltd\nNI Letter &No: A Tax Code: 1250L Pay By: Bacs Date: 30/04/2020 Period: 1\nDESCRIPTION RATE UNITS DUE AMOUNT (£) THIS YEAR (£)\nSalary 1334.13 1334.13\nBack Pay 431.03 431.03\nErs NIC TP:142.58 Ers Pension TP: 0.00\nTOTAL 1,765.16\nErs NIC YTD: 142.58 Ers Pension YTD: 0.00\nTax 144.40 144.40\nNational Insurance 116.78 116.78\n261.18\nTotal taxable pay to date: 1,765.16\nTax District: North East Metro Tax Reference:120/XA96981 NET PAY 1503.98\n"
     ]
    }
   ],
   "source": [
    "#Practice using pdfplumber\n",
    "with pdfplumber.open(file) as pdf:\n",
    "    page = pdf.pages[0]\n",
    "    print(page.chars[0])\n",
    "    meta = pdf.metadata\n",
    "    print(meta)\n",
    "    table = page.extract_table()\n",
    "    print(table)\n",
    "    texts = page.extract_text()\n",
    "    print(texts)"
   ]
  },
  {
   "cell_type": "code",
   "execution_count": 8,
   "metadata": {
    "scrolled": true
   },
   "outputs": [
    {
     "output_type": "stream",
     "name": "stdout",
     "text": [
      "SO­249 Yi Chun Wang Perspectum Diagnostics Ltd\nNI Letter &No: A Tax Code: 1250L Pay By: Bacs Date: 30/04/2020 Period: 1\nDESCRIPTION RATE UNITS DUE AMOUNT (£) THIS YEAR (£)\nSalary 1334.13 1334.13\nBack Pay 431.03 431.03\nErs NIC TP:142.58 Ers Pension TP: 0.00\nTOTAL 1,765.16\nErs NIC YTD: 142.58 Ers Pension YTD: 0.00\nTax 144.40 144.40\nNational Insurance 116.78 116.78\n261.18\nTotal taxable pay to date: 1,765.16\nTax District: North East Metro Tax Reference:120/XA96981 NET PAY 1503.98\n"
     ]
    }
   ],
   "source": [
    "#Try to split with a new line but return in unit-8 format. Here is explanation https://stackoverflow.com/questions/39807985/python-write-file-dealing-with-encode\n",
    "\n",
    "# If we use .strip, the white space can be removed\n",
    "line = texts.strip(\"\\n\")\n",
    "print(line)"
   ]
  },
  {
   "cell_type": "code",
   "execution_count": null,
   "metadata": {},
   "outputs": [],
   "source": [
    "#try to use regular expression to search through text rather than line. \n",
    "comp = company_re.search(texts)\n",
    "Company_Name = comp.group(1)\n",
    "print(Company_Name) "
   ]
  },
  {
   "cell_type": "code",
   "execution_count": null,
   "metadata": {},
   "outputs": [],
   "source": [
    "#try using append function\n",
    "holder = [] #create a list holder\n",
    "comp = company_re.search(texts)\n",
    "Company_Name = comp.group(1)\n",
    "holder.append(Line(Company_Name))\n",
    "print(holder)"
   ]
  },
  {
   "cell_type": "code",
   "execution_count": null,
   "metadata": {},
   "outputs": [],
   "source": [
    "#practice wirting the holder into a pandas dataframe\n",
    "df = pd.DataFrame(holder)\n",
    "df.head()"
   ]
  },
  {
   "cell_type": "code",
   "execution_count": null,
   "metadata": {},
   "outputs": [],
   "source": [
    "#try writing the dataframe into a csv file\n",
    "df.to_csv(\"payslip.csv\", index = False)"
   ]
  },
  {
   "cell_type": "markdown",
   "metadata": {},
   "source": [
    "#### Task2: String Cleaning"
   ]
  },
  {
   "cell_type": "code",
   "execution_count": 9,
   "metadata": {
    "scrolled": true
   },
   "outputs": [
    {
     "output_type": "stream",
     "name": "stdout",
     "text": [
      "SO­249 Yi Chun Wang Perspectum Diagnostics Ltd\nNI Letter &No: A Tax Code: 1250L Pay By: Bacs Date: 30/04/2020 Period: 1\nDESCRIPTION RATE UNITS DUE AMOUNT (£) THIS YEAR (£)\nSalary 1334.13 1334.13\nBack Pay 431.03 431.03\nErs NIC TP:142.58 Ers Pension TP: 0.00\nTOTAL 1,765.16\nErs NIC YTD: 142.58 Ers Pension YTD: 0.00\nTax 144.40 144.40\nNational Insurance 116.78 116.78\n261.18\nTotal taxable pay to date: 1,765.16\nTax District: North East Metro Tax Reference:120/XA96981 NET PAY 1503.98\n"
     ]
    }
   ],
   "source": [
    "print(texts)"
   ]
  },
  {
   "cell_type": "code",
   "execution_count": 10,
   "metadata": {},
   "outputs": [
    {
     "output_type": "execute_result",
     "data": {
      "text/plain": [
       "str"
      ]
     },
     "metadata": {},
     "execution_count": 10
    }
   ],
   "source": [
    "type(texts)"
   ]
  },
  {
   "cell_type": "code",
   "execution_count": 11,
   "metadata": {
    "scrolled": true
   },
   "outputs": [
    {
     "output_type": "execute_result",
     "data": {
      "text/plain": [
       "'SO\\xad249 Yi Chun Wang Perspectum Diagnostics Ltd\\nNI Letter &No: A Tax Code: 1250L Pay By: Bacs Date: 30/04/2020 Period: 1\\nDESCRIPTION RATE UNITS DUE AMOUNT (£) THIS YEAR (£)\\nSalary 1334.13 1334.13\\nBack Pay 431.03 431.03\\nErs NIC TP:142.58 Ers Pension TP: 0.00\\nTOTAL 1,765.16\\nErs NIC YTD: 142.58 Ers Pension YTD: 0.00\\nTax 144.40 144.40\\nNational Insurance 116.78 116.78\\n261.18\\nTotal taxable pay to date: 1,765.16\\nTax District: North East Metro Tax Reference:120/XA96981 NET PAY 1503.98'"
      ]
     },
     "metadata": {},
     "execution_count": 11
    }
   ],
   "source": [
    "#change the unicode string to the normal form NFKC. see-> https://docs.python.org/2/library/unicodedata.html#unicodedata.normalize\n",
    "text2 = unicodedata.normalize(\"NFC\",texts)   #NFC doesn't normalise the white space\n",
    "text2 = unicodedata.normalize(\"NFKC\",texts)  #NFKC do normalise the white space\n",
    "text2 = unicodedata.normalize(\"NFD\",texts)   #NFD doesn't normalise the white space\n",
    "text2 = unicodedata.normalize(\"NFKD\",texts)  #NFKD do normalise the white space\n",
    "text2\n",
    "\n",
    "#however, none of it normalise \\xad"
   ]
  },
  {
   "cell_type": "code",
   "execution_count": 12,
   "metadata": {},
   "outputs": [
    {
     "output_type": "execute_result",
     "data": {
      "text/plain": [
       "'SO249 Yi Chun Wang Perspectum Diagnostics Ltd\\nNI Letter &No: A Tax Code: 1250L Pay By: Bacs Date: 30/04/2020 Period: 1\\nDESCRIPTION RATE UNITS DUE AMOUNT (£) THIS YEAR (£)\\nSalary 1334.13 1334.13\\nBack Pay 431.03 431.03\\nErs NIC TP:142.58 Ers Pension TP: 0.00\\nTOTAL 1,765.16\\nErs NIC YTD: 142.58 Ers Pension YTD: 0.00\\nTax 144.40 144.40\\nNational Insurance 116.78 116.78\\n261.18\\nTotal taxable pay to date: 1,765.16\\nTax District: North East Metro Tax Reference:120/XA96981 NET PAY 1503.98'"
      ]
     },
     "metadata": {},
     "execution_count": 12
    }
   ],
   "source": [
    "#replace the \\xad, which is the U+00AD soft-hyphen characters. see-> https://stackoverflow.com/questions/51976328/best-way-to-remove-xad-in-python\n",
    "text3 = text2.replace(\"\\xad\", \"\")\n",
    "text3"
   ]
  },
  {
   "cell_type": "code",
   "execution_count": null,
   "metadata": {},
   "outputs": [],
   "source": [
    "#try to split lines in texts\n",
    "text4 = text3.split(\"\\n\")\n",
    "text4"
   ]
  },
  {
   "cell_type": "code",
   "execution_count": null,
   "metadata": {
    "scrolled": true
   },
   "outputs": [],
   "source": [
    "type(text4)"
   ]
  },
  {
   "cell_type": "code",
   "execution_count": null,
   "metadata": {},
   "outputs": [],
   "source": [
    "text5 = text3.split()\n",
    "text5"
   ]
  },
  {
   "cell_type": "markdown",
   "metadata": {},
   "source": [
    "#### Task 3: expand to use regular expression to match Employee_ID, Employee_Name, Company_Name"
   ]
  },
  {
   "cell_type": "code",
   "execution_count": 13,
   "metadata": {},
   "outputs": [
    {
     "output_type": "execute_result",
     "data": {
      "text/plain": [
       "('SO249', ' Yi Chun Wang ', 'Perspectum Diagnostics Ltd')"
      ]
     },
     "metadata": {},
     "execution_count": 13
    }
   ],
   "source": [
    "#Define what is an employee line with regular expression\n",
    "#the \"-\" in SO-249 will cause the regular expression to crash\n",
    "# \\S will match any non-whitespace character\n",
    "employ_re = re.compile(r\"(SO\\S\\d+)(.*)(Perspectum.*)\")\n",
    "employ_re.search(text3).group(1,2,3)"
   ]
  },
  {
   "cell_type": "code",
   "execution_count": 14,
   "metadata": {},
   "outputs": [
    {
     "output_type": "execute_result",
     "data": {
      "text/plain": [
       "[('SO249', ' Yi Chun Wang ', 'Perspectum Diagnostics Ltd')]"
      ]
     },
     "metadata": {},
     "execution_count": 14
    }
   ],
   "source": [
    "#try to match text variable and return it as a list\n",
    "employ_re.findall(text3)"
   ]
  },
  {
   "cell_type": "code",
   "execution_count": 15,
   "metadata": {},
   "outputs": [
    {
     "output_type": "execute_result",
     "data": {
      "text/plain": [
       "  Employee_ID   Employee_Name                Company_Name\n",
       "0       SO249   Yi Chun Wang   Perspectum Diagnostics Ltd"
      ],
      "text/html": "<div>\n<style scoped>\n    .dataframe tbody tr th:only-of-type {\n        vertical-align: middle;\n    }\n\n    .dataframe tbody tr th {\n        vertical-align: top;\n    }\n\n    .dataframe thead th {\n        text-align: right;\n    }\n</style>\n<table border=\"1\" class=\"dataframe\">\n  <thead>\n    <tr style=\"text-align: right;\">\n      <th></th>\n      <th>Employee_ID</th>\n      <th>Employee_Name</th>\n      <th>Company_Name</th>\n    </tr>\n  </thead>\n  <tbody>\n    <tr>\n      <th>0</th>\n      <td>SO249</td>\n      <td>Yi Chun Wang</td>\n      <td>Perspectum Diagnostics Ltd</td>\n    </tr>\n  </tbody>\n</table>\n</div>"
     },
     "metadata": {},
     "execution_count": 15
    }
   ],
   "source": [
    "Line = namedtuple(\"Employment\",\"Employee_ID, Employee_Name, Company_Name\")\n",
    "\n",
    "\n",
    "holder = [] #create a list holder\n",
    "emp = employ_re.search(text3)\n",
    "Employee_ID, Employee_Name, Company_Name = emp.group(1), emp.group(2), emp.group(3)\n",
    "holder.append(Line(Employee_ID, Employee_Name, Company_Name))\n",
    "df = pd.DataFrame(holder)\n",
    "df"
   ]
  },
  {
   "cell_type": "markdown",
   "metadata": {},
   "source": [
    "#### Task4: Practice Regular Expression with the existing : "
   ]
  },
  {
   "cell_type": "code",
   "execution_count": 36,
   "metadata": {},
   "outputs": [
    {
     "output_type": "execute_result",
     "data": {
      "text/plain": [
       "'30/04/2020'"
      ]
     },
     "metadata": {},
     "execution_count": 36
    }
   ],
   "source": [
    "PayDate_re = re.compile(r\"(Date: )(\\d{2}/\\d{2}/\\d{4})\")\n",
    "PayDate_re.search(text3).group(2)"
   ]
  },
  {
   "cell_type": "code",
   "execution_count": 17,
   "metadata": {},
   "outputs": [
    {
     "output_type": "execute_result",
     "data": {
      "text/plain": [
       "<re.Match object; span=(331, 356), match='National Insurance 116.78'>"
      ]
     },
     "metadata": {},
     "execution_count": 17
    }
   ],
   "source": [
    "#Expand the match and try to ignore matching white space\n",
    "Salary_re = re.compile(r\"(Salary)(\\s\\d+.\\d+)\")\n",
    "Salary_re.search(text3)\n",
    "BackPay_re = re.compile(r\"(Back Pay)(\\s\\d+.\\d+)\")\n",
    "BackPay_re.search(text3)\n",
    "Tax_re = re.compile(r\"(Tax)(\\s\\d+.\\d+)\")\n",
    "NI_re = re.compile(r\"(National Insurance)(\\s\\d+.\\d+)\")\n",
    "NI_re.search(text3)"
   ]
  },
  {
   "cell_type": "code",
   "execution_count": 18,
   "metadata": {},
   "outputs": [],
   "source": [
    "#Expand to include the national insurance contribution\n",
    "ErsNICTP_re = re.compile(r\"(Ers NIC TP:)(\\d+.\\d+)\")    #Employer's National Insurance Contribution to Date. #Somehow white space does not work\n",
    "ErsNICYTD_re = re.compile(r\"(Ers NIC YTD:)(\\s\\d+.\\d+)\")   #Employer National Insurance Contribution Year to Date\n",
    "ErsPensionTP_re = re.compile(r\"(Ers Pension TP:)(\\s\\d+.\\d+)\") #Employer's Pension contribution. It does not form part of your salary which is going through your payslip with a gross to net analysis each month\n",
    "ErsPensionYTD_re = re.compile(r\"(Ers Pension YTD:)(\\s\\d+.\\d+)\")"
   ]
  },
  {
   "cell_type": "code",
   "execution_count": 20,
   "metadata": {
    "scrolled": true
   },
   "outputs": [
    {
     "output_type": "execute_result",
     "data": {
      "text/plain": [
       "'142'"
      ]
     },
     "metadata": {},
     "execution_count": 20
    }
   ],
   "source": [
    "ErsNICTP_re = re.compile(r\"(Ers NIC TP:)(\\d+)\")\n",
    "ErsNICTP_re.search(text3).group(2)"
   ]
  },
  {
   "cell_type": "code",
   "execution_count": 21,
   "metadata": {},
   "outputs": [
    {
     "output_type": "execute_result",
     "data": {
      "text/plain": [
       "' 142.5'"
      ]
     },
     "metadata": {},
     "execution_count": 21
    }
   ],
   "source": [
    "ErsNICYTD_re = re.compile(r\"(Ers NIC YTD:)(\\s\\d+.\\d)\")\n",
    "ErsNICYTD_re.search(text3).group(2)"
   ]
  },
  {
   "cell_type": "code",
   "execution_count": 22,
   "metadata": {},
   "outputs": [
    {
     "output_type": "execute_result",
     "data": {
      "text/plain": [
       "' 0.0'"
      ]
     },
     "metadata": {},
     "execution_count": 22
    }
   ],
   "source": [
    "ErsPensionTP_re = re.compile(r\"(Ers Pension TP:)(\\s\\d+.\\d)\")\n",
    "ErsPensionTP_re.search(text3).group(2)"
   ]
  },
  {
   "cell_type": "code",
   "execution_count": 23,
   "metadata": {},
   "outputs": [
    {
     "output_type": "execute_result",
     "data": {
      "text/plain": [
       "' 0.0'"
      ]
     },
     "metadata": {},
     "execution_count": 23
    }
   ],
   "source": [
    "ErsPensionYTD_re = re.compile(r\"(Ers Pension YTD:)(\\s\\d+.\\d)\")\n",
    "ErsPensionYTD_re.search(text3).group(2)"
   ]
  },
  {
   "cell_type": "code",
   "execution_count": 24,
   "metadata": {},
   "outputs": [
    {
     "output_type": "execute_result",
     "data": {
      "text/plain": [
       "  Employee_ID   Employee_Name                Company_Name    Pay_Date  \\\n",
       "0       SO249   Yi Chun Wang   Perspectum Diagnostics Ltd  30/04/2020   \n",
       "\n",
       "     Salary Back_Pay      Tax National_Insurance Ers_NIC_TP Ers_NIC_YTD  \\\n",
       "0   1334.13   431.03   144.40             116.78        142       142.5   \n",
       "\n",
       "  Ers_Pension_TP Ers_Pension_YTD  \n",
       "0            0.0             0.0  "
      ],
      "text/html": "<div>\n<style scoped>\n    .dataframe tbody tr th:only-of-type {\n        vertical-align: middle;\n    }\n\n    .dataframe tbody tr th {\n        vertical-align: top;\n    }\n\n    .dataframe thead th {\n        text-align: right;\n    }\n</style>\n<table border=\"1\" class=\"dataframe\">\n  <thead>\n    <tr style=\"text-align: right;\">\n      <th></th>\n      <th>Employee_ID</th>\n      <th>Employee_Name</th>\n      <th>Company_Name</th>\n      <th>Pay_Date</th>\n      <th>Salary</th>\n      <th>Back_Pay</th>\n      <th>Tax</th>\n      <th>National_Insurance</th>\n      <th>Ers_NIC_TP</th>\n      <th>Ers_NIC_YTD</th>\n      <th>Ers_Pension_TP</th>\n      <th>Ers_Pension_YTD</th>\n    </tr>\n  </thead>\n  <tbody>\n    <tr>\n      <th>0</th>\n      <td>SO249</td>\n      <td>Yi Chun Wang</td>\n      <td>Perspectum Diagnostics Ltd</td>\n      <td>30/04/2020</td>\n      <td>1334.13</td>\n      <td>431.03</td>\n      <td>144.40</td>\n      <td>116.78</td>\n      <td>142</td>\n      <td>142.5</td>\n      <td>0.0</td>\n      <td>0.0</td>\n    </tr>\n  </tbody>\n</table>\n</div>"
     },
     "metadata": {},
     "execution_count": 24
    }
   ],
   "source": [
    "#Bundle the regular expressions together. Yaya succeeded\n",
    "\n",
    "Line = namedtuple(\"Employment\",\"Employee_ID, Employee_Name, Company_Name, Pay_Date, Salary, Back_Pay, Tax, National_Insurance, Ers_NIC_TP, Ers_NIC_YTD, Ers_Pension_TP, Ers_Pension_YTD\")\n",
    "\n",
    "\n",
    "holder = [] \n",
    "\n",
    "#employment information\n",
    "emp = employ_re.search(text3) \n",
    "Employee_ID, Employee_Name, Company_Name = emp.group(1), emp.group(2), emp.group(3)\n",
    "\n",
    "\n",
    "#Cashflow information\n",
    "Pay_Date = PayDate_re.search(text3).group(2)\n",
    "Salary = Salary_re.search(text3).group(2)\n",
    "Back_Pay = BackPay_re.search(text3).group(2)\n",
    "Tax = Tax_re.search(text3).group(2)\n",
    "National_Insurance = NI_re.search(text3).group(2)\n",
    "\n",
    "\n",
    "#Benefit information\n",
    "Ers_NIC_TP = ErsNICTP_re.search(text3).group(2)\n",
    "Ers_NIC_YTD = ErsNICYTD_re.search(text3).group(2)\n",
    "Ers_Pension_TP = ErsPensionTP_re.search(text3).group(2)\n",
    "Ers_Pension_YTD = ErsPensionYTD_re.search(text3).group(2)\n",
    "\n",
    "\n",
    "#Use named tuple to bumdle all the information\n",
    "holder.append(Line(Employee_ID, Employee_Name, Company_Name, Pay_Date, Salary, Back_Pay, Tax, National_Insurance, Ers_NIC_TP, Ers_NIC_YTD, Ers_Pension_TP, Ers_Pension_YTD))\n",
    "\n",
    "df = pd.DataFrame(holder)\n",
    "df"
   ]
  },
  {
   "cell_type": "markdown",
   "metadata": {},
   "source": [
    "#### Task5: Format the text to numerical value and date time format"
   ]
  },
  {
   "cell_type": "code",
   "execution_count": 28,
   "metadata": {},
   "outputs": [
    {
     "output_type": "stream",
     "name": "stdout",
     "text": [
      "<class 'pandas.core.frame.DataFrame'>\nRangeIndex: 1 entries, 0 to 0\nData columns (total 12 columns):\n #   Column              Non-Null Count  Dtype         \n---  ------              --------------  -----         \n 0   Employee_ID         1 non-null      object        \n 1   Employee_Name       1 non-null      object        \n 2   Company_Name        1 non-null      object        \n 3   Pay_Date            1 non-null      datetime64[ns]\n 4   Salary              1 non-null      float64       \n 5   Back_Pay            1 non-null      float64       \n 6   Tax                 1 non-null      float64       \n 7   National_Insurance  1 non-null      float64       \n 8   Ers_NIC_TP          1 non-null      int64         \n 9   Ers_NIC_YTD         1 non-null      float64       \n 10  Ers_Pension_TP      1 non-null      float64       \n 11  Ers_Pension_YTD     1 non-null      float64       \ndtypes: datetime64[ns](1), float64(7), int64(1), object(3)\nmemory usage: 224.0+ bytes\n"
     ]
    }
   ],
   "source": [
    "df.info()"
   ]
  },
  {
   "cell_type": "code",
   "execution_count": 26,
   "metadata": {},
   "outputs": [],
   "source": [
    "#convert Pay Date values to date time format\n",
    "df[\"Pay_Date\"] = pd.to_datetime(df[\"Pay_Date\"])"
   ]
  },
  {
   "cell_type": "code",
   "execution_count": 27,
   "metadata": {},
   "outputs": [],
   "source": [
    "#convert cashflow and benefit information to numerical values\n",
    "for col in df.columns[-8:]:\n",
    "    df[col] = pd.to_numeric(df[col])"
   ]
  },
  {
   "cell_type": "markdown",
   "metadata": {},
   "source": [
    "#### Task6: Bundle all the regular expression together and write into panadas dataframe"
   ]
  },
  {
   "cell_type": "code",
   "execution_count": 37,
   "metadata": {},
   "outputs": [
    {
     "output_type": "execute_result",
     "data": {
      "text/plain": [
       "  Employee_ID   Employee_Name                Company_Name   Pay_Date   Salary  \\\n",
       "0       SO249   Yi Chun Wang   Perspectum Diagnostics Ltd 2020-04-30  1334.13   \n",
       "\n",
       "   Back_Pay    Tax  National_Insurance  Ers_NIC_TP  Ers_NIC_YTD  \\\n",
       "0    431.03  144.4              116.78      142.58       142.58   \n",
       "\n",
       "   Ers_Pension_TP  Ers_Pension_YTD  \n",
       "0             0.0              0.0  "
      ],
      "text/html": "<div>\n<style scoped>\n    .dataframe tbody tr th:only-of-type {\n        vertical-align: middle;\n    }\n\n    .dataframe tbody tr th {\n        vertical-align: top;\n    }\n\n    .dataframe thead th {\n        text-align: right;\n    }\n</style>\n<table border=\"1\" class=\"dataframe\">\n  <thead>\n    <tr style=\"text-align: right;\">\n      <th></th>\n      <th>Employee_ID</th>\n      <th>Employee_Name</th>\n      <th>Company_Name</th>\n      <th>Pay_Date</th>\n      <th>Salary</th>\n      <th>Back_Pay</th>\n      <th>Tax</th>\n      <th>National_Insurance</th>\n      <th>Ers_NIC_TP</th>\n      <th>Ers_NIC_YTD</th>\n      <th>Ers_Pension_TP</th>\n      <th>Ers_Pension_YTD</th>\n    </tr>\n  </thead>\n  <tbody>\n    <tr>\n      <th>0</th>\n      <td>SO249</td>\n      <td>Yi Chun Wang</td>\n      <td>Perspectum Diagnostics Ltd</td>\n      <td>2020-04-30</td>\n      <td>1334.13</td>\n      <td>431.03</td>\n      <td>144.4</td>\n      <td>116.78</td>\n      <td>142.58</td>\n      <td>142.58</td>\n      <td>0.0</td>\n      <td>0.0</td>\n    </tr>\n  </tbody>\n</table>\n</div>"
     },
     "metadata": {},
     "execution_count": 37
    }
   ],
   "source": [
    "# Import essential Libraries\n",
    "import re\n",
    "import pdfplumber \n",
    "import pandas as pd\n",
    "from collections import namedtuple\n",
    "import unicodedata\n",
    "\n",
    "file = '/Users/YC/Work_Repo/fYnanCe/ePayslip20201019.pdf'\n",
    "\n",
    "\n",
    "with pdfplumber.open(file) as pdf:\n",
    "    page = pdf.pages[0]\n",
    "    texts = page.extract_text()\n",
    "    \n",
    "text2 = unicodedata.normalize(\"NFKD\",texts)\n",
    "text3 = text2.replace(\"\\xad\", \"\")\n",
    "\n",
    "employ_re = re.compile(r\"(SO\\S\\d+)(.*)(Perspectum.*)\")\n",
    "PayDate_re = re.compile(r\"(Date: )(\\d{2}/\\d{2}/\\d{4})\")\n",
    "Salary_re = re.compile(r\"(Salary)(\\s\\d+.\\d+)\")\n",
    "BackPay_re = re.compile(r\"(Back Pay)(\\s\\d+.\\d+)\")\n",
    "Tax_re = re.compile(r\"(Tax)(\\s\\d+.\\d+)\")\n",
    "NI_re = re.compile(r\"(National Insurance)(\\s\\d+.\\d+)\")\n",
    "ErsNICTP_re = re.compile(r\"(Ers NIC TP:)(\\d+.\\d+)\")    \n",
    "ErsNICYTD_re = re.compile(r\"(Ers NIC YTD:)(\\s\\d+.\\d+)\")\n",
    "ErsPensionTP_re = re.compile(r\"(Ers Pension TP:)(\\s\\d+.\\d+)\")\n",
    "ErsPensionYTD_re = re.compile(r\"(Ers Pension YTD:)(\\s\\d+.\\d+)\")\n",
    "\n",
    "\n",
    "Line = namedtuple(\"Employment\",\"Employee_ID, Employee_Name, Company_Name, Pay_Date, Salary, Back_Pay, Tax, National_Insurance, Ers_NIC_TP, Ers_NIC_YTD, Ers_Pension_TP, Ers_Pension_YTD\")\n",
    "emp = employ_re.search(text3) \n",
    "Employee_ID = employ_re.search(text3).group(1)\n",
    "Employee_Name = employ_re.search(text3).group(2)\n",
    "Company_Name = employ_re.search(text3).group(3)\n",
    "Pay_Date = PayDate_re.search(text3).group(2)\n",
    "Salary = Salary_re.search(text3).group(2)\n",
    "Back_Pay = BackPay_re.search(text3).group(2)\n",
    "Tax = Tax_re.search(text3).group(2)\n",
    "National_Insurance = NI_re.search(text3).group(2)\n",
    "\n",
    "Ers_NIC_TP = ErsNICTP_re.search(text3).group(2)\n",
    "Ers_NIC_YTD = ErsNICYTD_re.search(text3).group(2)\n",
    "Ers_Pension_TP = ErsPensionTP_re.search(text3).group(2)\n",
    "Ers_Pension_YTD = ErsPensionYTD_re.search(text3).group(2)\n",
    "\n",
    "holder = []\n",
    "holder.append(Line(Employee_ID, Employee_Name, Company_Name, Pay_Date, Salary, Back_Pay, Tax, National_Insurance, Ers_NIC_TP, Ers_NIC_YTD, Ers_Pension_TP, Ers_Pension_YTD))\n",
    "\n",
    "df = pd.DataFrame(holder)\n",
    "df[\"Pay_Date\"] = pd.to_datetime(df[\"Pay_Date\"])\n",
    "for col in df.columns[-8:]:\n",
    "    df[col] = pd.to_numeric(df[col])\n",
    "df"
   ]
  },
  {
   "cell_type": "markdown",
   "metadata": {},
   "source": [
    "#### Task7:Build the combined code in to for loop to extract multiple pages of payslip"
   ]
  },
  {
   "cell_type": "code",
   "execution_count": 30,
   "metadata": {},
   "outputs": [
    {
     "output_type": "stream",
     "name": "stdout",
     "text": [
      "[<Page:1>, <Page:2>, <Page:3>]\n",
      "{'Producer': 'macOS Version 10.15.7 (Build 19H2) Quartz PDFContext, AppendMode 1.1', 'ModDate': \"D:20210227111347Z00'00'\"}\n",
      "2 595 842\n",
      "SO­249 Yi Chun Wang Perspectum Ltd\n",
      "NI Letter &No: A Tax Code: 1250L Pay By: Bacs Date: 30/09/2020 Period: 6\n",
      "DESCRIPTION RATE UNITS DUE AMOUNT (£) THIS YEAR (£)\n",
      "Salary 2500.00 9170.65\n",
      "Salary Sacrifice ­100.00 ­313.48\n",
      "Ers NIC TP:230.18 Ers Pension TP: 113.80\n",
      "TOTAL 2,400.00\n",
      "Ers NIC YTD: 688.42 Ers Pension YTD: 356.76\n",
      "Tax 271.40 625.00\n",
      "National Insurance 192.96 555.42\n",
      "464.36\n",
      "Total taxable pay to date: 9,380.56\n",
      "Tax District: North East Metro Tax Reference:120/XA96981 NET PAY 1935.64\n"
     ]
    },
    {
     "output_type": "execute_result",
     "data": {
      "text/plain": [
       "list"
      ]
     },
     "metadata": {},
     "execution_count": 30
    }
   ],
   "source": [
    "#Import library pdfplumber and Explore pdfplumer: resource can be found: https://pypi.org/project/pdfplumber/#objects\n",
    "\n",
    "import pdfplumber\n",
    "\n",
    "file = \"/Users/YC/Work_Repo/fYnanCe/3page.pdf\"\n",
    "\n",
    "with pdfplumber.open(file) as pdf:\n",
    "    extractPage = pdf.pages\n",
    "    metaPage = pdf.metadata\n",
    "    print(extractPage)\n",
    "    print(metaPage)\n",
    "    \n",
    "    PN = extractPage[1].page_number\n",
    "    PW = extractPage[1].width\n",
    "    PH = extractPage[1].height\n",
    "    PO = extractPage[1].objects\n",
    "    PC = extractPage[1].chars\n",
    "    PT = extractPage[1].extract_text()\n",
    "    print(PN,PW,PH)\n",
    "    print(PT)\n",
    "\n",
    "type(pdf)         #See what the type of them are >> pdfplumber.pdf.PDF\n",
    "type(extractPage) #>>list"
   ]
  },
  {
   "cell_type": "code",
   "execution_count": null,
   "metadata": {
    "scrolled": true
   },
   "outputs": [],
   "source": [
    "#Build for loop to extract text from each page\n",
    "\n",
    "with pdfplumber.open(file) as pdf:\n",
    "    extractPage = pdf.pages\n",
    "    for i in range(len(extractPage)):\n",
    "        PT = extractPage[i].extract_text()\n",
    "        print(\"Here is the text in page:\", i+1)\n",
    "        print(PT)\n",
    "        print(\" \")\n",
    "        \n",
    "print(\"done\")"
   ]
  },
  {
   "cell_type": "markdown",
   "metadata": {},
   "source": [
    "#### Task8: Loop through each page of pdf with text manipulation"
   ]
  },
  {
   "cell_type": "code",
   "execution_count": 32,
   "metadata": {},
   "outputs": [
    {
     "output_type": "stream",
     "name": "stdout",
     "text": [
      "Here is the text in page: 1\n",
      "SO249 Yi Chun Wang Perspectum Ltd\n",
      "NI Letter &No: A Tax Code: 1250L Pay By: Bacs Date: 31/08/2020 Period: 5\n",
      "DESCRIPTION RATE UNITS DUE AMOUNT (£) THIS YEAR (£)\n",
      "Salary 1334.13 6670.65\n",
      "Salary Sacrifice 53.37 213.48\n",
      "Ers NIC TP:75.73 Ers Pension TP: 60.74\n",
      "TOTAL 1,280.76\n",
      "Ers NIC YTD: 458.24 Ers Pension YTD: 242.96\n",
      "Tax 47.60 353.60\n",
      "National Insurance 58.65 362.46\n",
      "106.25\n",
      "Total taxable pay to date: 6,980.56\n",
      "Tax District: North East Metro Tax Reference:120/XA96981 NET PAY 1174.51\n",
      " \n",
      "Here is the text in page: 2\n",
      "SO249 Yi Chun Wang Perspectum Ltd\n",
      "NI Letter &No: A Tax Code: 1250L Pay By: Bacs Date: 30/09/2020 Period: 6\n",
      "DESCRIPTION RATE UNITS DUE AMOUNT (£) THIS YEAR (£)\n",
      "Salary 2500.00 9170.65\n",
      "Salary Sacrifice 100.00 313.48\n",
      "Ers NIC TP:230.18 Ers Pension TP: 113.80\n",
      "TOTAL 2,400.00\n",
      "Ers NIC YTD: 688.42 Ers Pension YTD: 356.76\n",
      "Tax 271.40 625.00\n",
      "National Insurance 192.96 555.42\n",
      "464.36\n",
      "Total taxable pay to date: 9,380.56\n",
      "Tax District: North East Metro Tax Reference:120/XA96981 NET PAY 1935.64\n",
      " \n",
      "Here is the text in page: 3\n",
      "SO249 Yi Chun Wang Perspectum Ltd\n",
      "NI Letter &No: A Tax Code: 1250L Pay By: Bacs Date: 31/10/2020 Period: 7\n",
      "DESCRIPTION RATE UNITS DUE AMOUNT (£) THIS YEAR (£)\n",
      "Salary 2500.00 11670.65\n",
      "Salary Sacrifice 100.00 413.48\n",
      "Ers NIC TP:230.18 Ers Pension TP: 113.80\n",
      "TOTAL 2,400.00\n",
      "Ers NIC YTD: 918.60 Ers Pension YTD: 470.56\n",
      "Tax 271.60 896.60\n",
      "National Insurance 192.96 748.38\n",
      "464.56\n",
      "Total taxable pay to date: 11,780.56\n",
      "Tax District: North East Metro Tax Reference:120/XA96981 NET PAY 1935.44\n",
      " \n",
      "done\n"
     ]
    }
   ],
   "source": [
    "import unicodedata\n",
    "\n",
    "with pdfplumber.open(file) as pdf:\n",
    "    extractPage = pdf.pages\n",
    "    for i in range(len(extractPage)):\n",
    "        PT = extractPage[i].extract_text()\n",
    "        PT2 = unicodedata.normalize(\"NFKD\",PT)\n",
    "        PT3 = PT2.replace(\"\\xad\", \"\")\n",
    "        print(\"Here is the text in page:\", i+1)\n",
    "        print(PT3)\n",
    "        print(\" \")\n",
    "        \n",
    "print(\"done\")"
   ]
  },
  {
   "cell_type": "code",
   "execution_count": 33,
   "metadata": {},
   "outputs": [
    {
     "output_type": "stream",
     "name": "stdout",
     "text": [
      "Here is the text in page: 1\n",
      "SO­249 Yi Chun Wang Perspectum Ltd\n",
      "NI Letter &No: A Tax Code: 1250L Pay By: Bacs Date: 31/08/2020 Period: 5\n",
      "DESCRIPTION RATE UNITS DUE AMOUNT (£) THIS YEAR (£)\n",
      "Salary 1334.13 6670.65\n",
      "Salary Sacrifice ­53.37 ­213.48\n",
      "Ers NIC TP:75.73 Ers Pension TP: 60.74\n",
      "TOTAL 1,280.76\n",
      "Ers NIC YTD: 458.24 Ers Pension YTD: 242.96\n",
      "Tax 47.60 353.60\n",
      "National Insurance 58.65 362.46\n",
      "106.25\n",
      "Total taxable pay to date: 6,980.56\n",
      "Tax District: North East Metro Tax Reference:120/XA96981 NET PAY 1174.51\n",
      " \n",
      "Here is the text in page: 2\n",
      "SO­249 Yi Chun Wang Perspectum Ltd\n",
      "NI Letter &No: A Tax Code: 1250L Pay By: Bacs Date: 30/09/2020 Period: 6\n",
      "DESCRIPTION RATE UNITS DUE AMOUNT (£) THIS YEAR (£)\n",
      "Salary 2500.00 9170.65\n",
      "Salary Sacrifice ­100.00 ­313.48\n",
      "Ers NIC TP:230.18 Ers Pension TP: 113.80\n",
      "TOTAL 2,400.00\n",
      "Ers NIC YTD: 688.42 Ers Pension YTD: 356.76\n",
      "Tax 271.40 625.00\n",
      "National Insurance 192.96 555.42\n",
      "464.36\n",
      "Total taxable pay to date: 9,380.56\n",
      "Tax District: North East Metro Tax Reference:120/XA96981 NET PAY 1935.64\n",
      " \n",
      "Here is the text in page: 3\n",
      "SO­249 Yi Chun Wang Perspectum Ltd\n",
      "NI Letter &No: A Tax Code: 1250L Pay By: Bacs Date: 31/10/2020 Period: 7\n",
      "DESCRIPTION RATE UNITS DUE AMOUNT (£) THIS YEAR (£)\n",
      "Salary 2500.00 11670.65\n",
      "Salary Sacrifice ­100.00 ­413.48\n",
      "Ers NIC TP:230.18 Ers Pension TP: 113.80\n",
      "TOTAL 2,400.00\n",
      "Ers NIC YTD: 918.60 Ers Pension YTD: 470.56\n",
      "Tax 271.60 896.60\n",
      "National Insurance 192.96 748.38\n",
      "464.56\n",
      "Total taxable pay to date: 11,780.56\n",
      "Tax District: North East Metro Tax Reference:120/XA96981 NET PAY 1935.44\n",
      " \n",
      "done\n"
     ]
    }
   ],
   "source": [
    "# With .strip() method, no need to use unicodedata to conduct text manipulation\n",
    "\n",
    "with pdfplumber.open(file) as pdf:\n",
    "    extractPage = pdf.pages\n",
    "    for i in range(len(extractPage)):\n",
    "        PT = extractPage[i].extract_text()\n",
    "        PT2 = PT.strip()\n",
    "        print(\"Here is the text in page:\", i+1)\n",
    "        print(PT2)\n",
    "        print(\" \")\n",
    "        \n",
    "print(\"done\")"
   ]
  },
  {
   "cell_type": "code",
   "execution_count": 44,
   "metadata": {},
   "outputs": [
    {
     "output_type": "execute_result",
     "data": {
      "text/plain": [
       "  Employee_ID   Employee_Name    Company_Name             Pay_Date   Salary  \\\n",
       "0      SO­249   Yi Chun Wang   Perspectum Ltd  1588204800000000000  1334.13   \n",
       "1      SO­249   Yi Chun Wang   Perspectum Ltd  1588204800000000000  2500.00   \n",
       "2      SO­249   Yi Chun Wang   Perspectum Ltd  1588204800000000000  2500.00   \n",
       "\n",
       "     Tax  National_Insurance  Ers_NIC_TP  Ers_NIC_YTD  Ers_Pension_TP  \\\n",
       "0   47.6              116.78      142.58       142.58             0.0   \n",
       "1  271.4              116.78      142.58       142.58             0.0   \n",
       "2  271.6              116.78      142.58       142.58             0.0   \n",
       "\n",
       "   Ers_Pension_YTD  \n",
       "0              0.0  \n",
       "1              0.0  \n",
       "2              0.0  "
      ],
      "text/html": "<div>\n<style scoped>\n    .dataframe tbody tr th:only-of-type {\n        vertical-align: middle;\n    }\n\n    .dataframe tbody tr th {\n        vertical-align: top;\n    }\n\n    .dataframe thead th {\n        text-align: right;\n    }\n</style>\n<table border=\"1\" class=\"dataframe\">\n  <thead>\n    <tr style=\"text-align: right;\">\n      <th></th>\n      <th>Employee_ID</th>\n      <th>Employee_Name</th>\n      <th>Company_Name</th>\n      <th>Pay_Date</th>\n      <th>Salary</th>\n      <th>Tax</th>\n      <th>National_Insurance</th>\n      <th>Ers_NIC_TP</th>\n      <th>Ers_NIC_YTD</th>\n      <th>Ers_Pension_TP</th>\n      <th>Ers_Pension_YTD</th>\n    </tr>\n  </thead>\n  <tbody>\n    <tr>\n      <th>0</th>\n      <td>SO­249</td>\n      <td>Yi Chun Wang</td>\n      <td>Perspectum Ltd</td>\n      <td>1588204800000000000</td>\n      <td>1334.13</td>\n      <td>47.6</td>\n      <td>116.78</td>\n      <td>142.58</td>\n      <td>142.58</td>\n      <td>0.0</td>\n      <td>0.0</td>\n    </tr>\n    <tr>\n      <th>1</th>\n      <td>SO­249</td>\n      <td>Yi Chun Wang</td>\n      <td>Perspectum Ltd</td>\n      <td>1588204800000000000</td>\n      <td>2500.00</td>\n      <td>271.4</td>\n      <td>116.78</td>\n      <td>142.58</td>\n      <td>142.58</td>\n      <td>0.0</td>\n      <td>0.0</td>\n    </tr>\n    <tr>\n      <th>2</th>\n      <td>SO­249</td>\n      <td>Yi Chun Wang</td>\n      <td>Perspectum Ltd</td>\n      <td>1588204800000000000</td>\n      <td>2500.00</td>\n      <td>271.6</td>\n      <td>116.78</td>\n      <td>142.58</td>\n      <td>142.58</td>\n      <td>0.0</td>\n      <td>0.0</td>\n    </tr>\n  </tbody>\n</table>\n</div>"
     },
     "metadata": {},
     "execution_count": 44
    }
   ],
   "source": [
    "import re\n",
    "import pdfplumber \n",
    "import pandas as pd\n",
    "from collections import namedtuple\n",
    "\n",
    "file = \"/Users/YC/Work_Repo/fYnanCe/3page.pdf\"\n",
    "\n",
    "with pdfplumber.open(file) as pdf:\n",
    "    extractPage = pdf.pages\n",
    "    \n",
    "    holder = []\n",
    "    for i in range(len(extractPage)):\n",
    "        PT = extractPage[i].extract_text()\n",
    "        PT2 = PT.strip()\n",
    "\n",
    "        employ_re = re.compile(r\"(SO\\S\\d+)(.*)(Perspectum.*)\")\n",
    "        PayDate_re = re.compile(r\"(Date: )(\\d{2}/\\d{2}/\\d{4})\")\n",
    "        Salary_re = re.compile(r\"(Salary)(\\s\\d+.\\d+)\")\n",
    "        BackPay_re = re.compile(r\"(Back Pay)(\\s\\d+.\\d+)\")\n",
    "        Tax_re = re.compile(r\"(Tax)(\\s\\d+.\\d+)\")\n",
    "        NI_re = re.compile(r\"(National Insurance)(\\s\\d+.\\d+)\")\n",
    "        ErsNICTP_re = re.compile(r\"(Ers NIC TP:)(\\d+.\\d+)\")    \n",
    "        ErsNICYTD_re = re.compile(r\"(Ers NIC YTD:)(\\s\\d+.\\d+)\")\n",
    "        ErsPensionTP_re = re.compile(r\"(Ers Pension TP:)(\\s\\d+.\\d+)\")\n",
    "        ErsPensionYTD_re = re.compile(r\"(Ers Pension YTD:)(\\s\\d+.\\d+)\")\n",
    "\n",
    "\n",
    "        Line = namedtuple(\"Employment\",\"Employee_ID, Employee_Name, Company_Name, Pay_Date, Salary, Tax, National_Insurance, Ers_NIC_TP, Ers_NIC_YTD, Ers_Pension_TP, Ers_Pension_YTD\")\n",
    "        emp = employ_re.search(PT2) \n",
    "        Employee_ID = employ_re.search(PT2).group(1)\n",
    "        Employee_Name = employ_re.search(PT2).group(2)\n",
    "        Company_Name = employ_re.search(PT2).group(3)\n",
    "        # Pay_Date = PayDate_re.search(PT2).group(2)\n",
    "        Salary = Salary_re.search(PT2).group(2)\n",
    "        # Back_Pay = BackPay_re.search(PT2).group(1)     #need to find how to accommodate for no value\n",
    "        Tax = Tax_re.search(PT2).group(2)\n",
    "        # National_Insurance = NI_re.search(PT2).group(2)\n",
    "\n",
    "        # Ers_NIC_TP = ErsNICTP_re.search(PT2).group(2)\n",
    "        # Ers_NIC_YTD = ErsNICYTD_re.search(PT2).group(2)\n",
    "        # Ers_Pension_TP = ErsPensionTP_re.search(PT2).group(2)\n",
    "        # Ers_Pension_YTD = ErsPensionYTD_re.search(PT2).group(2)\n",
    "\n",
    "        holder.append(Line(Employee_ID, Employee_Name, Company_Name, Pay_Date, Salary, Tax, National_Insurance, Ers_NIC_TP, Ers_NIC_YTD, Ers_Pension_TP, Ers_Pension_YTD))\n",
    "\n",
    "df = pd.DataFrame(holder)\n",
    "\n",
    "df[\"Pay_Date\"] = pd.to_datetime(df[\"Pay_Date\"]) # still not work\n",
    "\n",
    "for col in df.columns[-8:]:\n",
    "    df[col] = pd.to_numeric(df[col])  \n",
    "df\n"
   ]
  },
  {
   "cell_type": "code",
   "execution_count": 41,
   "metadata": {},
   "outputs": [
    {
     "output_type": "execute_result",
     "data": {
      "text/plain": [
       "  Employee_ID   Employee_Name    Company_Name   Pay_Date   Salary    Tax  \\\n",
       "0      SO­249   Yi Chun Wang   Perspectum Ltd 2020-04-30  1334.13   47.6   \n",
       "1      SO­249   Yi Chun Wang   Perspectum Ltd 2020-04-30  2500.00  271.4   \n",
       "2      SO­249   Yi Chun Wang   Perspectum Ltd 2020-04-30  2500.00  271.6   \n",
       "\n",
       "   National_Insurance  Ers_NIC_TP  Ers_NIC_YTD  Ers_Pension_TP  \\\n",
       "0              116.78      142.58       142.58             0.0   \n",
       "1              116.78      142.58       142.58             0.0   \n",
       "2              116.78      142.58       142.58             0.0   \n",
       "\n",
       "   Ers_Pension_YTD  \n",
       "0              0.0  \n",
       "1              0.0  \n",
       "2              0.0  "
      ],
      "text/html": "<div>\n<style scoped>\n    .dataframe tbody tr th:only-of-type {\n        vertical-align: middle;\n    }\n\n    .dataframe tbody tr th {\n        vertical-align: top;\n    }\n\n    .dataframe thead th {\n        text-align: right;\n    }\n</style>\n<table border=\"1\" class=\"dataframe\">\n  <thead>\n    <tr style=\"text-align: right;\">\n      <th></th>\n      <th>Employee_ID</th>\n      <th>Employee_Name</th>\n      <th>Company_Name</th>\n      <th>Pay_Date</th>\n      <th>Salary</th>\n      <th>Tax</th>\n      <th>National_Insurance</th>\n      <th>Ers_NIC_TP</th>\n      <th>Ers_NIC_YTD</th>\n      <th>Ers_Pension_TP</th>\n      <th>Ers_Pension_YTD</th>\n    </tr>\n  </thead>\n  <tbody>\n    <tr>\n      <th>0</th>\n      <td>SO­249</td>\n      <td>Yi Chun Wang</td>\n      <td>Perspectum Ltd</td>\n      <td>2020-04-30</td>\n      <td>1334.13</td>\n      <td>47.6</td>\n      <td>116.78</td>\n      <td>142.58</td>\n      <td>142.58</td>\n      <td>0.0</td>\n      <td>0.0</td>\n    </tr>\n    <tr>\n      <th>1</th>\n      <td>SO­249</td>\n      <td>Yi Chun Wang</td>\n      <td>Perspectum Ltd</td>\n      <td>2020-04-30</td>\n      <td>2500.00</td>\n      <td>271.4</td>\n      <td>116.78</td>\n      <td>142.58</td>\n      <td>142.58</td>\n      <td>0.0</td>\n      <td>0.0</td>\n    </tr>\n    <tr>\n      <th>2</th>\n      <td>SO­249</td>\n      <td>Yi Chun Wang</td>\n      <td>Perspectum Ltd</td>\n      <td>2020-04-30</td>\n      <td>2500.00</td>\n      <td>271.6</td>\n      <td>116.78</td>\n      <td>142.58</td>\n      <td>142.58</td>\n      <td>0.0</td>\n      <td>0.0</td>\n    </tr>\n  </tbody>\n</table>\n</div>"
     },
     "metadata": {},
     "execution_count": 41
    }
   ],
   "source": [
    "df[\"Pay_Date\"] = pd.to_datetime(df[\"Pay_Date\"])\n",
    "df"
   ]
  },
  {
   "cell_type": "code",
   "execution_count": null,
   "metadata": {
    "scrolled": true
   },
   "outputs": [],
   "source": [
    "df.info()"
   ]
  },
  {
   "cell_type": "code",
   "execution_count": null,
   "metadata": {},
   "outputs": [],
   "source": []
  },
  {
   "cell_type": "code",
   "execution_count": null,
   "metadata": {},
   "outputs": [],
   "source": []
  },
  {
   "cell_type": "code",
   "execution_count": null,
   "metadata": {},
   "outputs": [],
   "source": []
  },
  {
   "cell_type": "code",
   "execution_count": null,
   "metadata": {},
   "outputs": [],
   "source": [
    "#split the infomation matched and write into csv\n",
    "tmp = re.split(r\":\", text3)"
   ]
  },
  {
   "cell_type": "code",
   "execution_count": null,
   "metadata": {},
   "outputs": [],
   "source": [
    "x = 10\n",
    "\n",
    "while x>2:\n",
    "    x = x-1\n",
    "    print(\"This is the \",x, \"try\")"
   ]
  },
  {
   "cell_type": "code",
   "execution_count": null,
   "metadata": {},
   "outputs": [],
   "source": []
  }
 ],
 "metadata": {
  "kernelspec": {
   "display_name": "Python 3",
   "language": "python",
   "name": "python3"
  },
  "language_info": {
   "codemirror_mode": {
    "name": "ipython",
    "version": 3
   },
   "file_extension": ".py",
   "mimetype": "text/x-python",
   "name": "python",
   "nbconvert_exporter": "python",
   "pygments_lexer": "ipython3",
   "version": "3.7.3"
  }
 },
 "nbformat": 4,
 "nbformat_minor": 2
}