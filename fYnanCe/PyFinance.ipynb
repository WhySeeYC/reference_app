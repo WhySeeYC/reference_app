{
 "cells": [
  {
   "cell_type": "markdown",
   "metadata": {},
   "source": [
    "## Read Payslip into csv 28th Dec 2020"
   ]
  },
  {
   "cell_type": "code",
   "execution_count": null,
   "metadata": {
    "collapsed": true
   },
   "outputs": [],
   "source": [
    "#install modules. Run this in terminal.\n",
    "pip3 install pdfplumber\n",
    "\n",
    "# updated pip to 21.0.1 "
   ]
  },
  {
   "cell_type": "markdown",
   "metadata": {},
   "source": [
    "#### Task1: Use Regular expression to read a pdf file and write into pandas data frame and csv"
   ]
  },
  {
   "cell_type": "code",
   "execution_count": 1,
   "metadata": {},
   "outputs": [],
   "source": [
    "#Import Library\n",
    "import re       #regular expression\n",
    "import pdfplumber \n",
    "import pandas as pd\n",
    "from collections import namedtuple #namedtuple library from collections module\n",
    "import unicodedata  #for decode the text from unicode to actual character\n",
    "import numpy as np\n",
    "import matplotlib.pyplot as plt"
   ]
  },
  {
   "cell_type": "code",
   "execution_count": null,
   "metadata": {},
   "outputs": [],
   "source": [
    "#Give a variable named line\n",
    "Line = namedtuple(\"Line\",\"Company_Name\")"
   ]
  },
  {
   "cell_type": "code",
   "execution_count": null,
   "metadata": {},
   "outputs": [],
   "source": [
    "#Define what is an employee line with regular expression and test to see if match\n",
    "company_re = re.compile(r\"((.*)Ltd)\")\n",
    "company_re.match(\"Perspetum Diagnostics Ltd\")"
   ]
  },
  {
   "cell_type": "code",
   "execution_count": null,
   "metadata": {},
   "outputs": [],
   "source": [
    "#test and see if group match the regular expression. \n",
    "company_re.search(\"Perspetum Diagnostics Ltd\").group(1)"
   ]
  },
  {
   "cell_type": "code",
   "execution_count": null,
   "metadata": {},
   "outputs": [],
   "source": [
    "type(company_re.search(\"Perspetum Diagnostics Ltd\"))"
   ]
  },
  {
   "cell_type": "code",
   "execution_count": null,
   "metadata": {},
   "outputs": [],
   "source": [
    "file = '/Users/YC/Work_Repo/fYnanCe/ePayslip20201019.pdf'"
   ]
  },
  {
   "cell_type": "code",
   "execution_count": null,
   "metadata": {
    "scrolled": true
   },
   "outputs": [],
   "source": [
    "#Practice using pdfplumber\n",
    "with pdfplumber.open(file) as pdf:\n",
    "    page = pdf.pages[0]\n",
    "    print(page.chars[0])\n",
    "    meta = pdf.metadata\n",
    "    print(meta)\n",
    "    table = page.extract_table()\n",
    "    print(table)\n",
    "    texts = page.extract_text()\n",
    "    print(texts)"
   ]
  },
  {
   "cell_type": "code",
   "execution_count": null,
   "metadata": {},
   "outputs": [],
   "source": [
    "texts"
   ]
  },
  {
   "cell_type": "code",
   "execution_count": null,
   "metadata": {},
   "outputs": [],
   "source": [
    "print(texts) # The difference between texts and print(texts) is that print will render out the white space and new line"
   ]
  },
  {
   "cell_type": "code",
   "execution_count": null,
   "metadata": {
    "scrolled": true
   },
   "outputs": [],
   "source": [
    "#Try to split with a new line but return in unit-8 format. Here is explanation https://stackoverflow.com/questions/39807985/python-write-file-dealing-with-encode\n",
    "\n",
    "line = texts.strip(\"\\n\") # however .strip() will not help\n",
    "line\n",
    "print(line)"
   ]
  },
  {
   "cell_type": "code",
   "execution_count": null,
   "metadata": {},
   "outputs": [],
   "source": [
    "# use regular expression to search through text rather than line. \n",
    "comp = company_re.search(texts)\n",
    "Company_Name = comp.group(1)\n",
    "print(Company_Name) "
   ]
  },
  {
   "cell_type": "code",
   "execution_count": null,
   "metadata": {},
   "outputs": [],
   "source": [
    "# use append function\n",
    "holder = [] #create a list holder\n",
    "comp = company_re.search(texts)\n",
    "Company_Name = comp.group(1)\n",
    "holder.append(Line(Company_Name))\n",
    "print(holder)"
   ]
  },
  {
   "cell_type": "code",
   "execution_count": null,
   "metadata": {},
   "outputs": [],
   "source": [
    "#practice wirting the holder into a pandas dataframe\n",
    "df = pd.DataFrame(holder)\n",
    "df.head()"
   ]
  },
  {
   "cell_type": "markdown",
   "metadata": {},
   "source": [
    "#### Task2: String Cleaning"
   ]
  },
  {
   "cell_type": "code",
   "execution_count": null,
   "metadata": {},
   "outputs": [],
   "source": [
    "#try writing the dataframe into a csv file\n",
    "df.to_csv(\"payslip.csv\", index = False)"
   ]
  },
  {
   "cell_type": "code",
   "execution_count": null,
   "metadata": {
    "scrolled": true
   },
   "outputs": [],
   "source": [
    "print(texts)"
   ]
  },
  {
   "cell_type": "code",
   "execution_count": null,
   "metadata": {},
   "outputs": [],
   "source": [
    "type(texts)"
   ]
  },
  {
   "cell_type": "code",
   "execution_count": null,
   "metadata": {
    "scrolled": true
   },
   "outputs": [],
   "source": [
    "#change the unicode string to the normal form NFKC. see-> https://docs.python.org/2/library/unicodedata.html#unicodedata.normalize\n",
    "text2 = unicodedata.normalize(\"NFC\",texts)   #NFC doesn't normalise the white space\n",
    "text2 = unicodedata.normalize(\"NFKC\",texts)  #NFKC do normalise the white space\n",
    "text2 = unicodedata.normalize(\"NFD\",texts)   #NFD doesn't normalise the white space\n",
    "text2 = unicodedata.normalize(\"NFKD\",texts)  #NFKD do normalise the white space\n",
    "text2\n",
    "\n",
    "#however, none of it normalise \\xad"
   ]
  },
  {
   "cell_type": "code",
   "execution_count": null,
   "metadata": {},
   "outputs": [],
   "source": [
    "#replace the \\xad, which is the U+00AD soft-hyphen characters. see-> https://stackoverflow.com/questions/51976328/best-way-to-remove-xad-in-python\n",
    "text3 = text2.replace(\"\\xad\", \"\")\n",
    "text3"
   ]
  },
  {
   "cell_type": "code",
   "execution_count": null,
   "metadata": {},
   "outputs": [],
   "source": [
    "#try to split lines in texts\n",
    "text4 = text3.split(\"\\n\")\n",
    "text4"
   ]
  },
  {
   "cell_type": "code",
   "execution_count": null,
   "metadata": {
    "scrolled": true
   },
   "outputs": [],
   "source": [
    "type(text4)"
   ]
  },
  {
   "cell_type": "code",
   "execution_count": null,
   "metadata": {},
   "outputs": [],
   "source": [
    "text5 = text3.split()\n",
    "text5"
   ]
  },
  {
   "cell_type": "markdown",
   "metadata": {},
   "source": [
    "#### Task 3: expand to use regular expression to match Employee_ID, Employee_Name, Company_Name"
   ]
  },
  {
   "cell_type": "code",
   "execution_count": null,
   "metadata": {},
   "outputs": [],
   "source": [
    "#Define what is an employee line with regular expression\n",
    "#the \"-\" in SO-249 will cause the regular expression to crash\n",
    "# \\S will match any non-whitespace character\n",
    "employ_re = re.compile(r\"(SO\\S\\d+)(.*)(Perspectum.*)\")\n",
    "employ_re.search(text3).group(1,2,3)"
   ]
  },
  {
   "cell_type": "code",
   "execution_count": null,
   "metadata": {},
   "outputs": [],
   "source": [
    "#try to match text variable and return it as a list\n",
    "employ_re.findall(text3)"
   ]
  },
  {
   "cell_type": "code",
   "execution_count": null,
   "metadata": {},
   "outputs": [],
   "source": [
    "Line = namedtuple(\"Employment\",\"Employee_ID, Employee_Name, Company_Name\")\n",
    "\n",
    "\n",
    "holder = [] #create a list holder\n",
    "emp = employ_re.search(text3)\n",
    "Employee_ID, Employee_Name, Company_Name = emp.group(1), emp.group(2), emp.group(3)\n",
    "holder.append(Line(Employee_ID, Employee_Name, Company_Name))\n",
    "df = pd.DataFrame(holder)\n",
    "df"
   ]
  },
  {
   "cell_type": "markdown",
   "metadata": {},
   "source": [
    "#### Task4: Practice Regular Expression with the existing : "
   ]
  },
  {
   "cell_type": "code",
   "execution_count": null,
   "metadata": {},
   "outputs": [],
   "source": [
    "PayDate_re = re.compile(r\"(Date: )(\\d{2}/\\d{2}/\\d{4})\")\n",
    "PayDate_re.search(text3).group(2)"
   ]
  },
  {
   "cell_type": "code",
   "execution_count": null,
   "metadata": {},
   "outputs": [],
   "source": [
    "#Expand the match and try to ignore matching white space\n",
    "Salary_re = re.compile(r\"(Salary)(\\s\\d+.\\d+)\")\n",
    "Salary_re.search(text3)\n",
    "BackPay_re = re.compile(r\"(Back Pay)(\\s\\d+.\\d+)\")\n",
    "BackPay_re.search(text3)\n",
    "Tax_re = re.compile(r\"(Tax)(\\s\\d+.\\d+)\")\n",
    "NI_re = re.compile(r\"(National Insurance)(\\s\\d+.\\d+)\")\n",
    "NI_re.search(text3)"
   ]
  },
  {
   "cell_type": "code",
   "execution_count": null,
   "metadata": {},
   "outputs": [],
   "source": [
    "#Expand to include the national insurance contribution\n",
    "ErsNICTP_re = re.compile(r\"(Ers NIC TP:)(\\d+.\\d+)\")    #Employer's National Insurance Contribution to Date. #Somehow white space does not work\n",
    "ErsNICYTD_re = re.compile(r\"(Ers NIC YTD:)(\\s\\d+.\\d+)\")   #Employer National Insurance Contribution Year to Date\n",
    "ErsPensionTP_re = re.compile(r\"(Ers Pension TP:)(\\s\\d+.\\d+)\") #Employer's Pension contribution. It does not form part of your salary which is going through your payslip with a gross to net analysis each month\n",
    "ErsPensionYTD_re = re.compile(r\"(Ers Pension YTD:)(\\s\\d+.\\d+)\")"
   ]
  },
  {
   "cell_type": "code",
   "execution_count": null,
   "metadata": {
    "scrolled": true
   },
   "outputs": [],
   "source": [
    "ErsNICTP_re = re.compile(r\"(Ers NIC TP:)(\\d+)\")\n",
    "ErsNICTP_re.search(text3).group(2)"
   ]
  },
  {
   "cell_type": "code",
   "execution_count": null,
   "metadata": {},
   "outputs": [],
   "source": [
    "ErsNICYTD_re = re.compile(r\"(Ers NIC YTD:)(\\s\\d+.\\d)\")\n",
    "ErsNICYTD_re.search(text3).group(2)"
   ]
  },
  {
   "cell_type": "code",
   "execution_count": null,
   "metadata": {},
   "outputs": [],
   "source": [
    "ErsPensionTP_re = re.compile(r\"(Ers Pension TP:)(\\s\\d+.\\d)\")\n",
    "ErsPensionTP_re.search(text3).group(2)"
   ]
  },
  {
   "cell_type": "code",
   "execution_count": null,
   "metadata": {},
   "outputs": [],
   "source": [
    "ErsPensionYTD_re = re.compile(r\"(Ers Pension YTD:)(\\s\\d+.\\d)\")\n",
    "ErsPensionYTD_re.search(text3).group(2)"
   ]
  },
  {
   "cell_type": "code",
   "execution_count": null,
   "metadata": {},
   "outputs": [],
   "source": [
    "#Bundle the regular expressions together. Yaya succeeded\n",
    "\n",
    "Line = namedtuple(\"Employment\",\"Employee_ID, Employee_Name, Company_Name, Pay_Date, Salary, Back_Pay, Tax, National_Insurance, Ers_NIC_TP, Ers_NIC_YTD, Ers_Pension_TP, Ers_Pension_YTD\")\n",
    "\n",
    "\n",
    "holder = [] \n",
    "\n",
    "#employment information\n",
    "emp = employ_re.search(text3) \n",
    "Employee_ID, Employee_Name, Company_Name = emp.group(1), emp.group(2), emp.group(3)\n",
    "\n",
    "\n",
    "#Cashflow information\n",
    "Pay_Date = PayDate_re.search(text3).group(2)\n",
    "Salary = Salary_re.search(text3).group(2)\n",
    "Back_Pay = BackPay_re.search(text3).group(2)\n",
    "Tax = Tax_re.search(text3).group(2)\n",
    "National_Insurance = NI_re.search(text3).group(2)\n",
    "\n",
    "\n",
    "#Benefit information\n",
    "Ers_NIC_TP = ErsNICTP_re.search(text3).group(2)\n",
    "Ers_NIC_YTD = ErsNICYTD_re.search(text3).group(2)\n",
    "Ers_Pension_TP = ErsPensionTP_re.search(text3).group(2)\n",
    "Ers_Pension_YTD = ErsPensionYTD_re.search(text3).group(2)\n",
    "\n",
    "\n",
    "#Use named tuple to bumdle all the information\n",
    "holder.append(Line(Employee_ID, Employee_Name, Company_Name, Pay_Date, Salary, Back_Pay, Tax, National_Insurance, Ers_NIC_TP, Ers_NIC_YTD, Ers_Pension_TP, Ers_Pension_YTD))\n",
    "\n",
    "df = pd.DataFrame(holder)\n",
    "df"
   ]
  },
  {
   "cell_type": "markdown",
   "metadata": {},
   "source": [
    "#### Task5: Format the text to numerical value and date time format"
   ]
  },
  {
   "cell_type": "code",
   "execution_count": null,
   "metadata": {},
   "outputs": [],
   "source": [
    "df.info()"
   ]
  },
  {
   "cell_type": "code",
   "execution_count": null,
   "metadata": {},
   "outputs": [],
   "source": [
    "#convert Pay Date values to date time format\n",
    "df[\"Pay_Date\"] = pd.to_datetime(df[\"Pay_Date\"])"
   ]
  },
  {
   "cell_type": "code",
   "execution_count": null,
   "metadata": {},
   "outputs": [],
   "source": [
    "#convert cashflow and benefit information to numerical values\n",
    "for col in df.columns[-8:]:\n",
    "    df[col] = pd.to_numeric(df[col])"
   ]
  },
  {
   "cell_type": "markdown",
   "metadata": {},
   "source": [
    "#### Task6: Bundle all the regular expression together and write into panadas dataframe"
   ]
  },
  {
   "cell_type": "code",
   "execution_count": null,
   "metadata": {},
   "outputs": [],
   "source": [
    "import re\n",
    "import pdfplumber \n",
    "import pandas as pd\n",
    "from collections import namedtuple\n",
    "import unicodedata\n",
    "\n",
    "file = '/Users/YC/Work_Repo/fYnanCe/ePayslip20201019.pdf'\n",
    "\n",
    "\n",
    "with pdfplumber.open(file) as pdf:\n",
    "    page = pdf.pages[0]\n",
    "    texts = page.extract_text()\n",
    "    \n",
    "text2 = unicodedata.normalize(\"NFKD\",texts)\n",
    "text3 = text2.replace(\"\\xad\", \"\")\n",
    "\n",
    "employ_re = re.compile(r\"(SO\\S\\d+)(.*)(Perspectum.*)\")\n",
    "PayDate_re = re.compile(r\"(Date: )(\\d{2}/\\d{2}/\\d{4})\")\n",
    "Salary_re = re.compile(r\"(Salary)(\\s\\d+.\\d+)\")\n",
    "BackPay_re = re.compile(r\"(Back Pay)(\\s\\d+.\\d+)\")\n",
    "Tax_re = re.compile(r\"(Tax)(\\s\\d+.\\d+)\")\n",
    "NI_re = re.compile(r\"(National Insurance)(\\s\\d+.\\d+)\")\n",
    "ErsNICTP_re = re.compile(r\"(Ers NIC TP:)(\\d+.\\d+)\")    \n",
    "ErsNICYTD_re = re.compile(r\"(Ers NIC YTD:)(\\s\\d+.\\d+)\")\n",
    "ErsPensionTP_re = re.compile(r\"(Ers Pension TP:)(\\s\\d+.\\d+)\")\n",
    "ErsPensionYTD_re = re.compile(r\"(Ers Pension YTD:)(\\s\\d+.\\d+)\")\n",
    "\n",
    "\n",
    "Line = namedtuple(\"Employment\",\"Employee_ID, Employee_Name, Company_Name, Pay_Date, Salary, Back_Pay, Tax, National_Insurance, Ers_NIC_TP, Ers_NIC_YTD, Ers_Pension_TP, Ers_Pension_YTD\")\n",
    "emp = employ_re.search(text3) \n",
    "Employee_ID = employ_re.search(text3).group(1)\n",
    "Employee_Name = employ_re.search(text3).group(2)\n",
    "Company_Name = employ_re.search(text3).group(3)\n",
    "Pay_Date = PayDate_re.search(text3).group(2)\n",
    "Salary = Salary_re.search(text3).group(2)\n",
    "Back_Pay = BackPay_re.search(text3).group(2)\n",
    "Tax = Tax_re.search(text3).group(2)\n",
    "National_Insurance = NI_re.search(text3).group(2)\n",
    "\n",
    "Ers_NIC_TP = ErsNICTP_re.search(text3).group(2)\n",
    "Ers_NIC_YTD = ErsNICYTD_re.search(text3).group(2)\n",
    "Ers_Pension_TP = ErsPensionTP_re.search(text3).group(2)\n",
    "Ers_Pension_YTD = ErsPensionYTD_re.search(text3).group(2)\n",
    "\n",
    "holder = []\n",
    "holder.append(Line(Employee_ID, Employee_Name, Company_Name, Pay_Date, Salary, Back_Pay, Tax, National_Insurance, Ers_NIC_TP, Ers_NIC_YTD, Ers_Pension_TP, Ers_Pension_YTD))\n",
    "\n",
    "df = pd.DataFrame(holder)\n",
    "df[\"Pay_Date\"] = pd.to_datetime(df[\"Pay_Date\"])\n",
    "for col in df.columns[-8:]:\n",
    "    df[col] = pd.to_numeric(df[col])\n",
    "df"
   ]
  },
  {
   "cell_type": "markdown",
   "metadata": {},
   "source": [
    "#### Task7:Build the combined code in to for loop to extract multiple pages of payslip"
   ]
  },
  {
   "cell_type": "code",
   "execution_count": null,
   "metadata": {},
   "outputs": [],
   "source": [
    "#Import library pdfplumber and Explore pdfplumer: resource can be found: https://pypi.org/project/pdfplumber/#objects\n",
    "\n",
    "import pdfplumber\n",
    "\n",
    "file = \"/Users/YC/Work_Repo/fYnanCe/3page.pdf\"\n",
    "\n",
    "with pdfplumber.open(file) as pdf:\n",
    "    extractPage = pdf.pages\n",
    "    metaPage = pdf.metadata\n",
    "    print(extractPage)\n",
    "    print(metaPage)\n",
    "    \n",
    "    PN = extractPage[1].page_number\n",
    "    PW = extractPage[1].width\n",
    "    PH = extractPage[1].height\n",
    "    PO = extractPage[1].objects\n",
    "    PC = extractPage[1].chars\n",
    "    PT = extractPage[1].extract_text()\n",
    "    print(PN,PW,PH)\n",
    "    print(PT)\n",
    "\n",
    "type(pdf)         #See what the type of them are >> pdfplumber.pdf.PDF\n",
    "type(extractPage) #>>list"
   ]
  },
  {
   "cell_type": "code",
   "execution_count": null,
   "metadata": {
    "scrolled": true
   },
   "outputs": [],
   "source": [
    "#Build for loop to extract text from each page\n",
    "\n",
    "with pdfplumber.open(file) as pdf:\n",
    "    extractPage = pdf.pages\n",
    "    for i in range(len(extractPage)):\n",
    "        PT = extractPage[i].extract_text()\n",
    "        print(\"Here is the text in page:\", i+1)\n",
    "        print(PT)\n",
    "        print(\" \")\n",
    "        \n",
    "print(\"done\")"
   ]
  },
  {
   "cell_type": "markdown",
   "metadata": {},
   "source": [
    "#### Task8: Loop through each page of pdf with text manipulation"
   ]
  },
  {
   "cell_type": "code",
   "execution_count": null,
   "metadata": {},
   "outputs": [],
   "source": [
    "import unicodedata\n",
    "\n",
    "with pdfplumber.open(file) as pdf:\n",
    "    extractPage = pdf.pages\n",
    "    for i in range(len(extractPage)):\n",
    "        PT = extractPage[i].extract_text()\n",
    "        PT2 = unicodedata.normalize(\"NFKD\",PT)\n",
    "        PT3 = PT2.replace(\"\\xad\", \"\")\n",
    "        print(\"Here is the text in page:\", i+1)\n",
    "        print(PT3)\n",
    "        print(\" \")\n",
    "        \n",
    "print(\"done\")"
   ]
  },
  {
   "cell_type": "code",
   "execution_count": null,
   "metadata": {},
   "outputs": [],
   "source": [
    "# With .strip() method, no need to use unicodedata to conduct text manipulation. Actually still need to normalise it \n",
    "\n",
    "with pdfplumber.open(file) as pdf:\n",
    "    extractPage = pdf.pages\n",
    "    for i in range(len(extractPage)):\n",
    "        PT = extractPage[i].extract_text()\n",
    "        PT2 = PT.strip( )\n",
    "        print(\"Here is the text in page:\", i+1)\n",
    "        print(PT2)\n",
    "        print(\" \")\n",
    "        \n",
    "print(\"done\")"
   ]
  },
  {
   "cell_type": "code",
   "execution_count": null,
   "metadata": {},
   "outputs": [],
   "source": []
  },
  {
   "cell_type": "code",
   "execution_count": 2,
   "metadata": {},
   "outputs": [
    {
     "output_type": "execute_result",
     "data": {
      "text/plain": [
       "  Employee_ID   Employee_Name    Company_Name   Pay_Date   Salary    Tax  \\\n",
       "0       SO249   Yi Chun Wang   Perspectum Ltd 2020-08-31  1334.13   47.6   \n",
       "1       SO249   Yi Chun Wang   Perspectum Ltd 2020-09-30  2500.00  271.4   \n",
       "2       SO249   Yi Chun Wang   Perspectum Ltd 2020-10-31  2500.00  271.6   \n",
       "\n",
       "   National_Insurance  Ers_NIC_TP  Ers_NIC_YTD  Ers_Pension_TP  \\\n",
       "0               58.65       75.73       458.24           60.74   \n",
       "1              192.96      230.18       688.42          113.80   \n",
       "2              192.96      230.18       918.60          113.80   \n",
       "\n",
       "   Ers_Pension_YTD  \n",
       "0           242.96  \n",
       "1           356.76  \n",
       "2           470.56  "
      ],
      "text/html": "<div>\n<style scoped>\n    .dataframe tbody tr th:only-of-type {\n        vertical-align: middle;\n    }\n\n    .dataframe tbody tr th {\n        vertical-align: top;\n    }\n\n    .dataframe thead th {\n        text-align: right;\n    }\n</style>\n<table border=\"1\" class=\"dataframe\">\n  <thead>\n    <tr style=\"text-align: right;\">\n      <th></th>\n      <th>Employee_ID</th>\n      <th>Employee_Name</th>\n      <th>Company_Name</th>\n      <th>Pay_Date</th>\n      <th>Salary</th>\n      <th>Tax</th>\n      <th>National_Insurance</th>\n      <th>Ers_NIC_TP</th>\n      <th>Ers_NIC_YTD</th>\n      <th>Ers_Pension_TP</th>\n      <th>Ers_Pension_YTD</th>\n    </tr>\n  </thead>\n  <tbody>\n    <tr>\n      <th>0</th>\n      <td>SO249</td>\n      <td>Yi Chun Wang</td>\n      <td>Perspectum Ltd</td>\n      <td>2020-08-31</td>\n      <td>1334.13</td>\n      <td>47.6</td>\n      <td>58.65</td>\n      <td>75.73</td>\n      <td>458.24</td>\n      <td>60.74</td>\n      <td>242.96</td>\n    </tr>\n    <tr>\n      <th>1</th>\n      <td>SO249</td>\n      <td>Yi Chun Wang</td>\n      <td>Perspectum Ltd</td>\n      <td>2020-09-30</td>\n      <td>2500.00</td>\n      <td>271.4</td>\n      <td>192.96</td>\n      <td>230.18</td>\n      <td>688.42</td>\n      <td>113.80</td>\n      <td>356.76</td>\n    </tr>\n    <tr>\n      <th>2</th>\n      <td>SO249</td>\n      <td>Yi Chun Wang</td>\n      <td>Perspectum Ltd</td>\n      <td>2020-10-31</td>\n      <td>2500.00</td>\n      <td>271.6</td>\n      <td>192.96</td>\n      <td>230.18</td>\n      <td>918.60</td>\n      <td>113.80</td>\n      <td>470.56</td>\n    </tr>\n  </tbody>\n</table>\n</div>"
     },
     "metadata": {},
     "execution_count": 2
    }
   ],
   "source": [
    "import re\n",
    "import pdfplumber \n",
    "import pandas as pd\n",
    "import unicodedata\n",
    "from collections import namedtuple\n",
    "\n",
    "file = \"/Users/YC/Work_Repo/fYnanCe/3page.pdf\"\n",
    "\n",
    "with pdfplumber.open(file) as pdf:\n",
    "    extractPage = pdf.pages\n",
    "    \n",
    "    holder = []\n",
    "    for i in range(len(extractPage)):\n",
    "        PT = extractPage[i].extract_text()\n",
    "        PT2 = unicodedata.normalize(\"NFKD\",PT)\n",
    "        PT3 = PT2.replace(\"\\xad\", \"\")\n",
    "\n",
    "        employ_re = re.compile(r\"(SO\\S\\d+)(.*)(Perspectum.*)\")\n",
    "        PayDate_re = re.compile(r\"(Date: )(\\d{2}/\\d{2}/\\d{4})\")\n",
    "        Salary_re = re.compile(r\"(Salary)(\\s\\d+.\\d+)\")\n",
    "        BackPay_re = re.compile(r\"(Back Pay)(\\s\\d+.\\d+)\")\n",
    "        Tax_re = re.compile(r\"(Tax)(\\s\\d+.\\d+)\")\n",
    "        NI_re = re.compile(r\"(National Insurance)(\\s\\d+.\\d+)\")\n",
    "        ErsNICTP_re = re.compile(r\"(Ers NIC TP:)(\\d+.\\d+)\")    \n",
    "        ErsNICYTD_re = re.compile(r\"(Ers NIC YTD:)(\\s\\d+.\\d+)\")\n",
    "        ErsPensionTP_re = re.compile(r\"(Ers Pension TP:)(\\s\\d+.\\d+)\")\n",
    "        ErsPensionYTD_re = re.compile(r\"(Ers Pension YTD:)(\\s\\d+.\\d+)\")\n",
    "\n",
    "\n",
    "        Line = namedtuple(\"Employment\",\"Employee_ID, Employee_Name, Company_Name, Pay_Date, Salary, Tax, National_Insurance, Ers_NIC_TP, Ers_NIC_YTD, Ers_Pension_TP, Ers_Pension_YTD\")\n",
    "        emp = employ_re.search(PT3) \n",
    "        Employee_ID = employ_re.search(PT3).group(1)\n",
    "        Employee_Name = employ_re.search(PT3).group(2)\n",
    "        Company_Name = employ_re.search(PT3).group(3)\n",
    "        Pay_Date = PayDate_re.search(PT3).group(2)\n",
    "        Salary = Salary_re.search(PT3).group(2)\n",
    "        # Back_Pay = BackPay_re.search(PT3).group(1)     #need to find how to accommodate for no value\n",
    "        Tax = Tax_re.search(PT3).group(2)\n",
    "        National_Insurance = NI_re.search(PT3).group(2)\n",
    "\n",
    "        Ers_NIC_TP = ErsNICTP_re.search(PT3).group(2)\n",
    "        Ers_NIC_YTD = ErsNICYTD_re.search(PT3).group(2)\n",
    "        Ers_Pension_TP = ErsPensionTP_re.search(PT3).group(2)\n",
    "        Ers_Pension_YTD = ErsPensionYTD_re.search(PT3).group(2)\n",
    "\n",
    "        holder.append(Line(Employee_ID, Employee_Name, Company_Name, Pay_Date, Salary, Tax, National_Insurance, Ers_NIC_TP, Ers_NIC_YTD, Ers_Pension_TP, Ers_Pension_YTD))\n",
    "\n",
    "df = pd.DataFrame(holder)\n",
    "df[\"Pay_Date\"] = pd.to_datetime(df[\"Pay_Date\"])\n",
    "\n",
    "for col in df.columns[4:]:  # use the 4 column to last column\n",
    "     df[col] = pd.to_numeric(df[col])  \n",
    "df\n"
   ]
  },
  {
   "cell_type": "code",
   "execution_count": null,
   "metadata": {
    "scrolled": true
   },
   "outputs": [],
   "source": [
    "df.info()"
   ]
  },
  {
   "cell_type": "code",
   "execution_count": 5,
   "metadata": {},
   "outputs": [
    {
     "output_type": "execute_result",
     "data": {
      "text/plain": [
       "  Employee_ID   Employee_Name    Company_Name   Pay_Date   Salary    Tax  \\\n",
       "0       SO249   Yi Chun Wang   Perspectum Ltd 2020-08-31  1334.13   47.6   \n",
       "1       SO249   Yi Chun Wang   Perspectum Ltd 2020-09-30  2500.00  271.4   \n",
       "2       SO249   Yi Chun Wang   Perspectum Ltd 2020-10-31  2500.00  271.6   \n",
       "3       SO249   Yi Chun Wang   Perspectum Ltd 2020-11-30  2500.00  271.6   \n",
       "4       SO249   Yi Chun Wang   Perspectum Ltd 2020-12-31  2500.00  330.2   \n",
       "5       SO249   Yi Chun Wang   Perspectum Ltd 2021-01-31  2500.00  271.6   \n",
       "6       SO249   Yi Chun Wang   Perspectum Ltd 2021-02-28  2850.00  338.6   \n",
       "7       SO249   Yi Chun Wang   Perspectum Ltd 2021-03-31  2850.00  338.8   \n",
       "\n",
       "   National_Insurance  Ers_NIC_TP Ers_NIC_YTD  Ers_Pension_TP Ers_Pension_YTD  \n",
       "0               58.65       75.73      458.24           60.74          242.96  \n",
       "1              192.96      230.18      688.42          113.80          356.76  \n",
       "2              192.96      230.18      918.60          113.80          470.56  \n",
       "3              192.96      230.18       1,148          113.80          584.36  \n",
       "4              228.25      270.77       1,419          113.80          698.16  \n",
       "5              192.96      230.18       1,649          113.80          811.96  \n",
       "6              233.28      276.55       1,926          129.73          941.69  \n",
       "7              233.28      276.55       2,202          129.73           1,071  "
      ],
      "text/html": "<div>\n<style scoped>\n    .dataframe tbody tr th:only-of-type {\n        vertical-align: middle;\n    }\n\n    .dataframe tbody tr th {\n        vertical-align: top;\n    }\n\n    .dataframe thead th {\n        text-align: right;\n    }\n</style>\n<table border=\"1\" class=\"dataframe\">\n  <thead>\n    <tr style=\"text-align: right;\">\n      <th></th>\n      <th>Employee_ID</th>\n      <th>Employee_Name</th>\n      <th>Company_Name</th>\n      <th>Pay_Date</th>\n      <th>Salary</th>\n      <th>Tax</th>\n      <th>National_Insurance</th>\n      <th>Ers_NIC_TP</th>\n      <th>Ers_NIC_YTD</th>\n      <th>Ers_Pension_TP</th>\n      <th>Ers_Pension_YTD</th>\n    </tr>\n  </thead>\n  <tbody>\n    <tr>\n      <th>0</th>\n      <td>SO249</td>\n      <td>Yi Chun Wang</td>\n      <td>Perspectum Ltd</td>\n      <td>2020-08-31</td>\n      <td>1334.13</td>\n      <td>47.6</td>\n      <td>58.65</td>\n      <td>75.73</td>\n      <td>458.24</td>\n      <td>60.74</td>\n      <td>242.96</td>\n    </tr>\n    <tr>\n      <th>1</th>\n      <td>SO249</td>\n      <td>Yi Chun Wang</td>\n      <td>Perspectum Ltd</td>\n      <td>2020-09-30</td>\n      <td>2500.00</td>\n      <td>271.4</td>\n      <td>192.96</td>\n      <td>230.18</td>\n      <td>688.42</td>\n      <td>113.80</td>\n      <td>356.76</td>\n    </tr>\n    <tr>\n      <th>2</th>\n      <td>SO249</td>\n      <td>Yi Chun Wang</td>\n      <td>Perspectum Ltd</td>\n      <td>2020-10-31</td>\n      <td>2500.00</td>\n      <td>271.6</td>\n      <td>192.96</td>\n      <td>230.18</td>\n      <td>918.60</td>\n      <td>113.80</td>\n      <td>470.56</td>\n    </tr>\n    <tr>\n      <th>3</th>\n      <td>SO249</td>\n      <td>Yi Chun Wang</td>\n      <td>Perspectum Ltd</td>\n      <td>2020-11-30</td>\n      <td>2500.00</td>\n      <td>271.6</td>\n      <td>192.96</td>\n      <td>230.18</td>\n      <td>1,148</td>\n      <td>113.80</td>\n      <td>584.36</td>\n    </tr>\n    <tr>\n      <th>4</th>\n      <td>SO249</td>\n      <td>Yi Chun Wang</td>\n      <td>Perspectum Ltd</td>\n      <td>2020-12-31</td>\n      <td>2500.00</td>\n      <td>330.2</td>\n      <td>228.25</td>\n      <td>270.77</td>\n      <td>1,419</td>\n      <td>113.80</td>\n      <td>698.16</td>\n    </tr>\n    <tr>\n      <th>5</th>\n      <td>SO249</td>\n      <td>Yi Chun Wang</td>\n      <td>Perspectum Ltd</td>\n      <td>2021-01-31</td>\n      <td>2500.00</td>\n      <td>271.6</td>\n      <td>192.96</td>\n      <td>230.18</td>\n      <td>1,649</td>\n      <td>113.80</td>\n      <td>811.96</td>\n    </tr>\n    <tr>\n      <th>6</th>\n      <td>SO249</td>\n      <td>Yi Chun Wang</td>\n      <td>Perspectum Ltd</td>\n      <td>2021-02-28</td>\n      <td>2850.00</td>\n      <td>338.6</td>\n      <td>233.28</td>\n      <td>276.55</td>\n      <td>1,926</td>\n      <td>129.73</td>\n      <td>941.69</td>\n    </tr>\n    <tr>\n      <th>7</th>\n      <td>SO249</td>\n      <td>Yi Chun Wang</td>\n      <td>Perspectum Ltd</td>\n      <td>2021-03-31</td>\n      <td>2850.00</td>\n      <td>338.8</td>\n      <td>233.28</td>\n      <td>276.55</td>\n      <td>2,202</td>\n      <td>129.73</td>\n      <td>1,071</td>\n    </tr>\n  </tbody>\n</table>\n</div>"
     },
     "metadata": {},
     "execution_count": 5
    }
   ],
   "source": [
    "file = \"/Users/YC/Work_Repo/fYnanCe/8pages.pdf\"\n",
    "\n",
    "with pdfplumber.open(file) as pdf:\n",
    "    extractPage = pdf.pages\n",
    "    \n",
    "    holder = []\n",
    "    for i in range(len(extractPage)):\n",
    "        PT = extractPage[i].extract_text()\n",
    "        PT2 = unicodedata.normalize(\"NFKD\",PT)\n",
    "        PT3 = PT2.replace(\"\\xad\", \"\")\n",
    "\n",
    "        employ_re = re.compile(r\"(SO\\S\\d+)(.*)(Perspectum.*)\")\n",
    "        PayDate_re = re.compile(r\"(Date: )(\\d{2}/\\d{2}/\\d{4})\")\n",
    "        Salary_re = re.compile(r\"(Salary)(\\s)(\\d+.\\d+)\")\n",
    "        BackPay_re = re.compile(r\"(Back Pay)(\\s)(\\d+.\\d+)\")\n",
    "        Tax_re = re.compile(r\"(Tax)(\\s)(\\d+.\\d+)\")\n",
    "        NI_re = re.compile(r\"(National Insurance)(\\s)(\\d+.\\d+)\")\n",
    "        ErsNICTP_re = re.compile(r\"(Ers NIC TP:)(\\d+.\\d+)\")    \n",
    "        ErsNICYTD_re = re.compile(r\"(Ers NIC YTD:)(\\s)(\\d+.\\d+)\")\n",
    "        ErsPensionTP_re = re.compile(r\"(Ers Pension TP:)(\\s)(\\d+.\\d+)\")\n",
    "        ErsPensionYTD_re = re.compile(r\"(Ers Pension YTD:)(\\s)(\\d+.\\d+)\")\n",
    "\n",
    "\n",
    "        Line = namedtuple(\"Employment\",\"Employee_ID, Employee_Name, Company_Name, Pay_Date, Salary, Tax, National_Insurance, Ers_NIC_TP, Ers_NIC_YTD, Ers_Pension_TP, Ers_Pension_YTD\")\n",
    "        emp = employ_re.search(PT3) \n",
    "        Employee_ID = employ_re.search(PT3).group(1)\n",
    "        Employee_Name = employ_re.search(PT3).group(2)\n",
    "        Company_Name = employ_re.search(PT3).group(3)\n",
    "        Pay_Date = PayDate_re.search(PT3).group(2)\n",
    "        Salary = Salary_re.search(PT3).group(3)\n",
    "        # Back_Pay = BackPay_re.search(PT3).group(1)     #need to find how to accommodate for no value\n",
    "        Tax = Tax_re.search(PT3).group(3)\n",
    "        National_Insurance = NI_re.search(PT3).group(3)\n",
    "\n",
    "        Ers_NIC_TP = ErsNICTP_re.search(PT3).group(2)\n",
    "        Ers_NIC_YTD = ErsNICYTD_re.search(PT3).group(3)\n",
    "        Ers_Pension_TP = ErsPensionTP_re.search(PT3).group(3)\n",
    "        Ers_Pension_YTD = ErsPensionYTD_re.search(PT3).group(3)\n",
    "\n",
    "        holder.append(Line(Employee_ID, Employee_Name, Company_Name, Pay_Date, Salary, Tax, National_Insurance, Ers_NIC_TP, Ers_NIC_YTD, Ers_Pension_TP, Ers_Pension_YTD))\n",
    "\n",
    "df = pd.DataFrame(holder)\n",
    "df[\"Pay_Date\"] = pd.to_datetime(df[\"Pay_Date\"])\n",
    "\n",
    "for col in df.columns[4:]:  # use the 4 column to last column\n",
    "     df[col] = pd.to_numeric(df[col], errors=\"ignore\")   #When setting the error to ignore,then invalid parsing will return the input\n",
    "df"
   ]
  },
  {
   "cell_type": "code",
   "execution_count": 6,
   "metadata": {},
   "outputs": [
    {
     "output_type": "stream",
     "name": "stdout",
     "text": [
      "<class 'pandas.core.frame.DataFrame'>\nRangeIndex: 8 entries, 0 to 7\nData columns (total 11 columns):\n #   Column              Non-Null Count  Dtype         \n---  ------              --------------  -----         \n 0   Employee_ID         8 non-null      object        \n 1   Employee_Name       8 non-null      object        \n 2   Company_Name        8 non-null      object        \n 3   Pay_Date            8 non-null      datetime64[ns]\n 4   Salary              8 non-null      float64       \n 5   Tax                 8 non-null      float64       \n 6   National_Insurance  8 non-null      float64       \n 7   Ers_NIC_TP          8 non-null      float64       \n 8   Ers_NIC_YTD         8 non-null      object        \n 9   Ers_Pension_TP      8 non-null      float64       \n 10  Ers_Pension_YTD     8 non-null      object        \ndtypes: datetime64[ns](1), float64(5), object(5)\nmemory usage: 832.0+ bytes\n"
     ]
    }
   ],
   "source": [
    "df.info() \n",
    "# The datatype is still object"
   ]
  },
  {
   "cell_type": "code",
   "execution_count": 7,
   "metadata": {},
   "outputs": [
    {
     "output_type": "error",
     "ename": "TypeError",
     "evalue": "float expected at most 1 arguments, got 2",
     "traceback": [
      "\u001b[0;31m---------------------------------------------------------------------------\u001b[0m",
      "\u001b[0;31mTypeError\u001b[0m                                 Traceback (most recent call last)",
      "\u001b[0;32m<ipython-input-7-0419f892c38d>\u001b[0m in \u001b[0;36m<module>\u001b[0;34m\u001b[0m\n\u001b[0;32m----> 1\u001b[0;31m \u001b[0mfloat\u001b[0m\u001b[0;34m(\u001b[0m\u001b[0;36m1\u001b[0m\u001b[0;34m,\u001b[0m\u001b[0;36m148\u001b[0m\u001b[0;34m)\u001b[0m\u001b[0;34m\u001b[0m\u001b[0;34m\u001b[0m\u001b[0m\n\u001b[0m\u001b[1;32m      2\u001b[0m \u001b[0;31m# Tried using float to convert the value, the problem seems to be at the ,\u001b[0m\u001b[0;34m\u001b[0m\u001b[0;34m\u001b[0m\u001b[0;34m\u001b[0m\u001b[0m\n",
      "\u001b[0;31mTypeError\u001b[0m: float expected at most 1 arguments, got 2"
     ]
    }
   ],
   "source": [
    "float(1,148)\n",
    "# Tried using float to convert the value, the problem seems to be at the ,"
   ]
  },
  {
   "cell_type": "code",
   "execution_count": 8,
   "metadata": {},
   "outputs": [
    {
     "output_type": "execute_result",
     "data": {
      "text/plain": [
       "'1148'"
      ]
     },
     "metadata": {},
     "execution_count": 8
    }
   ],
   "source": [
    "a = \"1,148\"\n",
    "a.replace(\",\", \"\")"
   ]
  },
  {
   "cell_type": "code",
   "execution_count": 9,
   "metadata": {},
   "outputs": [
    {
     "output_type": "execute_result",
     "data": {
      "text/plain": [
       "  Employee_ID Employee_Name Company_Name   Pay_Date   Salary    Tax  \\\n",
       "0       SO249      Employee     CompanyA 2020-08-31  1334.13   47.6   \n",
       "1       SO249      Employee     CompanyA 2020-09-30  2500.00  271.4   \n",
       "2       SO249      Employee     CompanyA 2020-10-31  2500.00  271.6   \n",
       "3       SO249      Employee     CompanyA 2020-11-30  2500.00  271.6   \n",
       "4       SO249      Employee     CompanyA 2020-12-31  2500.00  330.2   \n",
       "5       SO249      Employee     CompanyA 2021-01-31  2500.00  271.6   \n",
       "6       SO249      Employee     CompanyA 2021-02-28  2850.00  338.6   \n",
       "7       SO249      Employee     CompanyA 2021-03-31  2850.00  338.8   \n",
       "\n",
       "   National_Insurance  Ers_NIC_TP  Ers_NIC_YTD  Ers_Pension_TP  \\\n",
       "0               58.65       75.73       458.24           60.74   \n",
       "1              192.96      230.18       688.42          113.80   \n",
       "2              192.96      230.18       918.60          113.80   \n",
       "3              192.96      230.18      1148.78          113.80   \n",
       "4              228.25      270.77      1419.55          113.80   \n",
       "5              192.96      230.18      1649.73          113.80   \n",
       "6              233.28      276.55      1926.28          129.73   \n",
       "7              233.28      276.55      2202.83          129.73   \n",
       "\n",
       "   Ers_Pension_YTD  \n",
       "0           242.96  \n",
       "1           356.76  \n",
       "2           470.56  \n",
       "3           584.36  \n",
       "4           698.16  \n",
       "5           811.96  \n",
       "6           941.69  \n",
       "7          1071.42  "
      ],
      "text/html": "<div>\n<style scoped>\n    .dataframe tbody tr th:only-of-type {\n        vertical-align: middle;\n    }\n\n    .dataframe tbody tr th {\n        vertical-align: top;\n    }\n\n    .dataframe thead th {\n        text-align: right;\n    }\n</style>\n<table border=\"1\" class=\"dataframe\">\n  <thead>\n    <tr style=\"text-align: right;\">\n      <th></th>\n      <th>Employee_ID</th>\n      <th>Employee_Name</th>\n      <th>Company_Name</th>\n      <th>Pay_Date</th>\n      <th>Salary</th>\n      <th>Tax</th>\n      <th>National_Insurance</th>\n      <th>Ers_NIC_TP</th>\n      <th>Ers_NIC_YTD</th>\n      <th>Ers_Pension_TP</th>\n      <th>Ers_Pension_YTD</th>\n    </tr>\n  </thead>\n  <tbody>\n    <tr>\n      <th>0</th>\n      <td>SO249</td>\n      <td>Employee</td>\n      <td>CompanyA</td>\n      <td>2020-08-31</td>\n      <td>1334.13</td>\n      <td>47.6</td>\n      <td>58.65</td>\n      <td>75.73</td>\n      <td>458.24</td>\n      <td>60.74</td>\n      <td>242.96</td>\n    </tr>\n    <tr>\n      <th>1</th>\n      <td>SO249</td>\n      <td>Employee</td>\n      <td>CompanyA</td>\n      <td>2020-09-30</td>\n      <td>2500.00</td>\n      <td>271.4</td>\n      <td>192.96</td>\n      <td>230.18</td>\n      <td>688.42</td>\n      <td>113.80</td>\n      <td>356.76</td>\n    </tr>\n    <tr>\n      <th>2</th>\n      <td>SO249</td>\n      <td>Employee</td>\n      <td>CompanyA</td>\n      <td>2020-10-31</td>\n      <td>2500.00</td>\n      <td>271.6</td>\n      <td>192.96</td>\n      <td>230.18</td>\n      <td>918.60</td>\n      <td>113.80</td>\n      <td>470.56</td>\n    </tr>\n    <tr>\n      <th>3</th>\n      <td>SO249</td>\n      <td>Employee</td>\n      <td>CompanyA</td>\n      <td>2020-11-30</td>\n      <td>2500.00</td>\n      <td>271.6</td>\n      <td>192.96</td>\n      <td>230.18</td>\n      <td>1148.78</td>\n      <td>113.80</td>\n      <td>584.36</td>\n    </tr>\n    <tr>\n      <th>4</th>\n      <td>SO249</td>\n      <td>Employee</td>\n      <td>CompanyA</td>\n      <td>2020-12-31</td>\n      <td>2500.00</td>\n      <td>330.2</td>\n      <td>228.25</td>\n      <td>270.77</td>\n      <td>1419.55</td>\n      <td>113.80</td>\n      <td>698.16</td>\n    </tr>\n    <tr>\n      <th>5</th>\n      <td>SO249</td>\n      <td>Employee</td>\n      <td>CompanyA</td>\n      <td>2021-01-31</td>\n      <td>2500.00</td>\n      <td>271.6</td>\n      <td>192.96</td>\n      <td>230.18</td>\n      <td>1649.73</td>\n      <td>113.80</td>\n      <td>811.96</td>\n    </tr>\n    <tr>\n      <th>6</th>\n      <td>SO249</td>\n      <td>Employee</td>\n      <td>CompanyA</td>\n      <td>2021-02-28</td>\n      <td>2850.00</td>\n      <td>338.6</td>\n      <td>233.28</td>\n      <td>276.55</td>\n      <td>1926.28</td>\n      <td>129.73</td>\n      <td>941.69</td>\n    </tr>\n    <tr>\n      <th>7</th>\n      <td>SO249</td>\n      <td>Employee</td>\n      <td>CompanyA</td>\n      <td>2021-03-31</td>\n      <td>2850.00</td>\n      <td>338.8</td>\n      <td>233.28</td>\n      <td>276.55</td>\n      <td>2202.83</td>\n      <td>129.73</td>\n      <td>1071.42</td>\n    </tr>\n  </tbody>\n</table>\n</div>"
     },
     "metadata": {},
     "execution_count": 9
    }
   ],
   "source": [
    "file = \"/Users/YC/Work_Repo/fYnanCe/8pages.pdf\"\n",
    "\n",
    "with pdfplumber.open(file) as pdf:\n",
    "    extractPage = pdf.pages\n",
    "    \n",
    "    holder = []\n",
    "    for i in range(len(extractPage)):\n",
    "        PT = extractPage[i].extract_text()\n",
    "        PT2 = unicodedata.normalize(\"NFKD\",PT)\n",
    "        PT3 = PT2.replace(\"\\xad\", \"\").replace(\",\", \"\") # use replace to get rid of the characters that are Python specified\n",
    "\n",
    "        employ_re = re.compile(r\"(SO\\S\\d+)(.*)(Perspectum.*)\")\n",
    "        PayDate_re = re.compile(r\"(Date: )(\\d{2}/\\d{2}/\\d{4})\")\n",
    "        Salary_re = re.compile(r\"(Salary)(\\s)(\\d+.\\d+)\")\n",
    "        BackPay_re = re.compile(r\"(Back Pay)(\\s)(\\d+.\\d+)\")\n",
    "        Tax_re = re.compile(r\"(Tax)(\\s)(\\d+.\\d+)\")\n",
    "        NI_re = re.compile(r\"(National Insurance)(\\s)(\\d+.\\d+)\")\n",
    "        ErsNICTP_re = re.compile(r\"(Ers NIC TP:)(\\d+.\\d+)\")    \n",
    "        ErsNICYTD_re = re.compile(r\"(Ers NIC YTD:)(\\s)(\\d+.\\d+)\")\n",
    "        ErsPensionTP_re = re.compile(r\"(Ers Pension TP:)(\\s)(\\d+.\\d+)\")\n",
    "        ErsPensionYTD_re = re.compile(r\"(Ers Pension YTD:)(\\s)(\\d+.\\d+)\")\n",
    "\n",
    "\n",
    "        Line = namedtuple(\"Employment\",\"Employee_ID, Employee_Name, Company_Name, Pay_Date, Salary, Tax, National_Insurance, Ers_NIC_TP, Ers_NIC_YTD, Ers_Pension_TP, Ers_Pension_YTD\")\n",
    "        emp = employ_re.search(PT3) \n",
    "        Employee_ID = employ_re.search(PT3).group(1)\n",
    "        Employee_Name = employ_re.search(PT3).group(2)\n",
    "        Company_Name = employ_re.search(PT3).group(3)\n",
    "        Pay_Date = PayDate_re.search(PT3).group(2)\n",
    "        Salary = Salary_re.search(PT3).group(3)\n",
    "        # Back_Pay = BackPay_re.search(PT3).group(1)     #need to find how to accommodate for no value\n",
    "        Tax = Tax_re.search(PT3).group(3)\n",
    "        National_Insurance = NI_re.search(PT3).group(3)\n",
    "\n",
    "        Ers_NIC_TP = ErsNICTP_re.search(PT3).group(2)\n",
    "        Ers_NIC_YTD = ErsNICYTD_re.search(PT3).group(3)\n",
    "        Ers_Pension_TP = ErsPensionTP_re.search(PT3).group(3)\n",
    "        Ers_Pension_YTD = ErsPensionYTD_re.search(PT3).group(3)\n",
    "\n",
    "        holder.append(Line(Employee_ID, Employee_Name, Company_Name, Pay_Date, Salary, Tax, National_Insurance, Ers_NIC_TP, Ers_NIC_YTD, Ers_Pension_TP, Ers_Pension_YTD))\n",
    "\n",
    "df = pd.DataFrame(holder)\n",
    "df[\"Pay_Date\"] = pd.to_datetime(df[\"Pay_Date\"])\n",
    "df[\"Employee_Name\"] = (\"Employee\")\n",
    "df[\"Company_Name\"] = (\"CompanyA\")\n",
    "\n",
    "for col in df.columns[4:]:  # use the 4 column to last column\n",
    "     df[col] = pd.to_numeric(df[col])  \n",
    "        # Because the comma had been replaced in the numbers, we don't need to set \"error\" value for pd.to_numeric()\n",
    "df"
   ]
  },
  {
   "cell_type": "code",
   "execution_count": 10,
   "metadata": {},
   "outputs": [
    {
     "output_type": "stream",
     "name": "stdout",
     "text": [
      "<class 'pandas.core.frame.DataFrame'>\nRangeIndex: 8 entries, 0 to 7\nData columns (total 11 columns):\n #   Column              Non-Null Count  Dtype         \n---  ------              --------------  -----         \n 0   Employee_ID         8 non-null      object        \n 1   Employee_Name       8 non-null      object        \n 2   Company_Name        8 non-null      object        \n 3   Pay_Date            8 non-null      datetime64[ns]\n 4   Salary              8 non-null      float64       \n 5   Tax                 8 non-null      float64       \n 6   National_Insurance  8 non-null      float64       \n 7   Ers_NIC_TP          8 non-null      float64       \n 8   Ers_NIC_YTD         8 non-null      float64       \n 9   Ers_Pension_TP      8 non-null      float64       \n 10  Ers_Pension_YTD     8 non-null      float64       \ndtypes: datetime64[ns](1), float64(7), object(3)\nmemory usage: 832.0+ bytes\n"
     ]
    }
   ],
   "source": [
    "df.info()"
   ]
  },
  {
   "cell_type": "code",
   "execution_count": 11,
   "metadata": {},
   "outputs": [],
   "source": [
    "#try writing the dataframe into a csv file\n",
    "df.to_csv(\"CollectPayslip.csv\", index = False)"
   ]
  },
  {
   "cell_type": "code",
   "execution_count": null,
   "metadata": {},
   "outputs": [],
   "source": [
    "# What is the trend of the salary?\n",
    "fig, ax = plt.subplots(1, figsize = (10,4))\n",
    "ax.set_title(\"Salary vs Time\")\n",
    "ax.set_ylabel(\"GBP\")\n",
    "plt.scatter(df[\"Pay_Date\"], df[\"Salary\"])\n",
    "plt.plot(df[\"Pay_Date\"], df[\"Salary\"])"
   ]
  },
  {
   "cell_type": "code",
   "execution_count": null,
   "metadata": {},
   "outputs": [],
   "source": [
    "# What is the trend of Salary and Tax and National Insurance Contribution?\n",
    "\n",
    "fig, axes = plt.subplots(nrows=1, ncols=2, figsize = (20,6))\n",
    "axes[0].set_ylabel(\"GBP\")\n",
    "axes[1].set_ylabel(\"GBP\")\n",
    "axes[0].set_xticklabels(df.Pay_Date)  #set the xtick label to use the column Pay_Date, but the timestamp is annoying\n",
    "\n",
    "df[ [\"Salary\", \"Tax\", \"National_Insurance\" ] ].plot.line(ax = axes[0], title = \"Trends of all\")\n",
    "df[ [\"Tax\", \"National_Insurance\" ] ].plot(kind = \"line\", ax = axes[1], title = \"Trends of Tax and NIC\")"
   ]
  },
  {
   "cell_type": "code",
   "execution_count": null,
   "metadata": {},
   "outputs": [],
   "source": [
    "# Date Time manipulation. Resource: https://www.dataquest.io/blog/python-datetime-tutorial/\n",
    "df.Pay_Date[0].strftime(\"%Y/%m\")"
   ]
  },
  {
   "cell_type": "code",
   "execution_count": null,
   "metadata": {},
   "outputs": [],
   "source": [
    "# Create a new list called YearMonth and assign it into the DataFrame\n",
    "YearMonth = []\n",
    "for i in range(len(df[\"Pay_Date\"])):\n",
    "    a = df.Pay_Date[i].strftime(\"%Y/%m\")\n",
    "    YearMonth.append(a)\n",
    "df[\"YearMonth\"] = YearMonth\n",
    "print(type(df[\"YearMonth\"])) # type is <class 'pandas.core.series.Series'>\n",
    "print(len(df[\"YearMonth\"]))  # Make sure that the for loop run properly "
   ]
  },
  {
   "cell_type": "code",
   "execution_count": null,
   "metadata": {},
   "outputs": [],
   "source": [
    "df.info() # Now there is a YearMonth column"
   ]
  },
  {
   "cell_type": "code",
   "execution_count": null,
   "metadata": {},
   "outputs": [],
   "source": [
    "# Shows the percentage of tax and NIC toward a given Salary\n",
    "ax = df[ [\"Salary\",\"Tax\" , \"National_Insurance\" ] ].plot(kind = 'bar')\n",
    "ax.set_ylabel(\"GBP\")\n",
    "ax.set_xticklabels(df.YearMonth)"
   ]
  },
  {
   "cell_type": "code",
   "execution_count": null,
   "metadata": {},
   "outputs": [],
   "source": [
    "# Successfully set the x tick labels\n",
    "fig, axes = plt.subplots(nrows=1, ncols=2, figsize = (20,6))\n",
    "axes[0].set_ylabel(\"GBP\")\n",
    "axes[1].set_ylabel(\"GBP\")\n",
    "axes[0].set_xticklabels(df.YearMonth)  # Use the new colume YearMonth to be the xticks label\n",
    "axes[1].set_xticklabels(df.YearMonth)\n",
    "\n",
    "df[ [\"Salary\", \"Tax\", \"National_Insurance\" ] ].plot.line(ax = axes[0], title = \"Trends of all\")\n",
    "df[ [\"Tax\", \"National_Insurance\" ] ].plot(kind = \"line\", ax = axes[1], title = \"Trends of Tax and NIC\")"
   ]
  },
  {
   "cell_type": "code",
   "execution_count": null,
   "metadata": {},
   "outputs": [],
   "source": [
    "df[ [\"Tax\", \"National_Insurance\"] ].plot.pie(y = df[\"Salary\"])"
   ]
  },
  {
   "cell_type": "code",
   "execution_count": null,
   "metadata": {},
   "outputs": [],
   "source": [
    "plt.pie(df.Salary[0], df.Tax[0])\n",
    "# Pie chart won't make much sense"
   ]
  },
  {
   "cell_type": "code",
   "execution_count": 19,
   "metadata": {},
   "outputs": [
    {
     "output_type": "execute_result",
     "data": {
      "text/plain": [
       "  Employee_ID Employee_Name Company_Name   Pay_Date   Salary    Tax  \\\n",
       "0       SO249      Employee     CompanyA 2020-08-31  1334.13   47.6   \n",
       "1       SO249      Employee     CompanyA 2020-09-30  2500.00  271.4   \n",
       "2       SO249      Employee     CompanyA 2020-10-31  2500.00  271.6   \n",
       "3       SO249      Employee     CompanyA 2020-11-30  2500.00  271.6   \n",
       "4       SO249      Employee     CompanyA 2020-12-31  2500.00  330.2   \n",
       "5       SO249      Employee     CompanyA 2021-01-31  2500.00  271.6   \n",
       "6       SO249      Employee     CompanyA 2021-02-28  2850.00  338.6   \n",
       "7       SO249      Employee     CompanyA 2021-03-31  2850.00  338.8   \n",
       "\n",
       "   National_Insurance  Ers_NIC_TP  Ers_NIC_YTD  Ers_Pension_TP  \\\n",
       "0               58.65       75.73       458.24           60.74   \n",
       "1              192.96      230.18       688.42          113.80   \n",
       "2              192.96      230.18       918.60          113.80   \n",
       "3              192.96      230.18      1148.78          113.80   \n",
       "4              228.25      270.77      1419.55          113.80   \n",
       "5              192.96      230.18      1649.73          113.80   \n",
       "6              233.28      276.55      1926.28          129.73   \n",
       "7              233.28      276.55      2202.83          129.73   \n",
       "\n",
       "   Ers_Pension_YTD  \n",
       "0           242.96  \n",
       "1           356.76  \n",
       "2           470.56  \n",
       "3           584.36  \n",
       "4           698.16  \n",
       "5           811.96  \n",
       "6           941.69  \n",
       "7          1071.42  "
      ],
      "text/html": "<div>\n<style scoped>\n    .dataframe tbody tr th:only-of-type {\n        vertical-align: middle;\n    }\n\n    .dataframe tbody tr th {\n        vertical-align: top;\n    }\n\n    .dataframe thead th {\n        text-align: right;\n    }\n</style>\n<table border=\"1\" class=\"dataframe\">\n  <thead>\n    <tr style=\"text-align: right;\">\n      <th></th>\n      <th>Employee_ID</th>\n      <th>Employee_Name</th>\n      <th>Company_Name</th>\n      <th>Pay_Date</th>\n      <th>Salary</th>\n      <th>Tax</th>\n      <th>National_Insurance</th>\n      <th>Ers_NIC_TP</th>\n      <th>Ers_NIC_YTD</th>\n      <th>Ers_Pension_TP</th>\n      <th>Ers_Pension_YTD</th>\n    </tr>\n  </thead>\n  <tbody>\n    <tr>\n      <th>0</th>\n      <td>SO249</td>\n      <td>Employee</td>\n      <td>CompanyA</td>\n      <td>2020-08-31</td>\n      <td>1334.13</td>\n      <td>47.6</td>\n      <td>58.65</td>\n      <td>75.73</td>\n      <td>458.24</td>\n      <td>60.74</td>\n      <td>242.96</td>\n    </tr>\n    <tr>\n      <th>1</th>\n      <td>SO249</td>\n      <td>Employee</td>\n      <td>CompanyA</td>\n      <td>2020-09-30</td>\n      <td>2500.00</td>\n      <td>271.4</td>\n      <td>192.96</td>\n      <td>230.18</td>\n      <td>688.42</td>\n      <td>113.80</td>\n      <td>356.76</td>\n    </tr>\n    <tr>\n      <th>2</th>\n      <td>SO249</td>\n      <td>Employee</td>\n      <td>CompanyA</td>\n      <td>2020-10-31</td>\n      <td>2500.00</td>\n      <td>271.6</td>\n      <td>192.96</td>\n      <td>230.18</td>\n      <td>918.60</td>\n      <td>113.80</td>\n      <td>470.56</td>\n    </tr>\n    <tr>\n      <th>3</th>\n      <td>SO249</td>\n      <td>Employee</td>\n      <td>CompanyA</td>\n      <td>2020-11-30</td>\n      <td>2500.00</td>\n      <td>271.6</td>\n      <td>192.96</td>\n      <td>230.18</td>\n      <td>1148.78</td>\n      <td>113.80</td>\n      <td>584.36</td>\n    </tr>\n    <tr>\n      <th>4</th>\n      <td>SO249</td>\n      <td>Employee</td>\n      <td>CompanyA</td>\n      <td>2020-12-31</td>\n      <td>2500.00</td>\n      <td>330.2</td>\n      <td>228.25</td>\n      <td>270.77</td>\n      <td>1419.55</td>\n      <td>113.80</td>\n      <td>698.16</td>\n    </tr>\n    <tr>\n      <th>5</th>\n      <td>SO249</td>\n      <td>Employee</td>\n      <td>CompanyA</td>\n      <td>2021-01-31</td>\n      <td>2500.00</td>\n      <td>271.6</td>\n      <td>192.96</td>\n      <td>230.18</td>\n      <td>1649.73</td>\n      <td>113.80</td>\n      <td>811.96</td>\n    </tr>\n    <tr>\n      <th>6</th>\n      <td>SO249</td>\n      <td>Employee</td>\n      <td>CompanyA</td>\n      <td>2021-02-28</td>\n      <td>2850.00</td>\n      <td>338.6</td>\n      <td>233.28</td>\n      <td>276.55</td>\n      <td>1926.28</td>\n      <td>129.73</td>\n      <td>941.69</td>\n    </tr>\n    <tr>\n      <th>7</th>\n      <td>SO249</td>\n      <td>Employee</td>\n      <td>CompanyA</td>\n      <td>2021-03-31</td>\n      <td>2850.00</td>\n      <td>338.8</td>\n      <td>233.28</td>\n      <td>276.55</td>\n      <td>2202.83</td>\n      <td>129.73</td>\n      <td>1071.42</td>\n    </tr>\n  </tbody>\n</table>\n</div>"
     },
     "metadata": {},
     "execution_count": 19
    }
   ],
   "source": [
    "# Demo\n",
    "file = \"/Users/YC/Work_Repo/fYnanCe/8pages.pdf\"\n",
    "\n",
    "with pdfplumber.open(file) as pdf:\n",
    "    extractPage = pdf.pages\n",
    "    \n",
    "    holder = []\n",
    "    for i in range(len(extractPage)):\n",
    "        PT = extractPage[i].extract_text()\n",
    "        PT2 = unicodedata.normalize(\"NFKD\",PT)\n",
    "        PT3 = PT2.replace(\"\\xad\", \"\").replace(\",\", \"\") \n",
    "\n",
    "        employ_re = re.compile(r\"(SO\\S\\d+)(.*)(Perspectum.*)\")\n",
    "        PayDate_re = re.compile(r\"(Date: )(\\d{2}/\\d{2}/\\d{4})\")\n",
    "        Salary_re = re.compile(r\"(Salary)(\\s)(\\d+.\\d+)\")\n",
    "        BackPay_re = re.compile(r\"(Back Pay)(\\s)(\\d+.\\d+)\")\n",
    "        Tax_re = re.compile(r\"(Tax)(\\s)(\\d+.\\d+)\")\n",
    "        NI_re = re.compile(r\"(National Insurance)(\\s)(\\d+.\\d+)\")\n",
    "        ErsNICTP_re = re.compile(r\"(Ers NIC TP:)(\\d+.\\d+)\")    \n",
    "        ErsNICYTD_re = re.compile(r\"(Ers NIC YTD:)(\\s)(\\d+.\\d+)\")\n",
    "        ErsPensionTP_re = re.compile(r\"(Ers Pension TP:)(\\s)(\\d+.\\d+)\")\n",
    "        ErsPensionYTD_re = re.compile(r\"(Ers Pension YTD:)(\\s)(\\d+.\\d+)\")\n",
    "\n",
    "\n",
    "        Line = namedtuple(\"Employment\", \"Employee_ID, Employee_Name, Company_Name, Pay_Date, Salary, Tax, National_Insurance, Ers_NIC_TP, Ers_NIC_YTD, Ers_Pension_TP, Ers_Pension_YTD\")\n",
    "        emp = employ_re.search(PT3) \n",
    "        Employee_ID = employ_re.search(PT3).group(1)\n",
    "        Employee_Name = employ_re.search(PT3).group(2)\n",
    "        Company_Name = employ_re.search(PT3).group(3)\n",
    "        Pay_Date = PayDate_re.search(PT3).group(2)\n",
    "        Salary = Salary_re.search(PT3).group(3)\n",
    "        Tax = Tax_re.search(PT3).group(3)\n",
    "        National_Insurance = NI_re.search(PT3).group(3)\n",
    "\n",
    "        Ers_NIC_TP = ErsNICTP_re.search(PT3).group(2)\n",
    "        Ers_NIC_YTD = ErsNICYTD_re.search(PT3).group(3)\n",
    "        Ers_Pension_TP = ErsPensionTP_re.search(PT3).group(3)\n",
    "        Ers_Pension_YTD = ErsPensionYTD_re.search(PT3).group(3)\n",
    "\n",
    "        holder.append(Line(Employee_ID, Employee_Name, Company_Name, Pay_Date, Salary, Tax, National_Insurance, Ers_NIC_TP, Ers_NIC_YTD, Ers_Pension_TP, Ers_Pension_YTD))\n",
    "\n",
    "df = pd.DataFrame(holder)\n",
    "df[\"Pay_Date\"] = pd.to_datetime(df[\"Pay_Date\"])\n",
    "df[\"Employee_Name\"] = (\"Employee\")\n",
    "df[\"Company_Name\"] = (\"CompanyA\")\n",
    "\n",
    "for col in df.columns[4:]: \n",
    "     df[col] = pd.to_numeric(df[col])  \n",
    "\n",
    "Month = []\n",
    "for i in range(len(df['Pay_Date'])):\n",
    "    Month.append(df['Pay_Date'][i].split('-')[1])\n",
    "df['Month'] = Month\n",
    "df"
   ]
  },
  {
   "cell_type": "code",
   "execution_count": 20,
   "metadata": {},
   "outputs": [
    {
     "output_type": "stream",
     "name": "stdout",
     "text": [
      "<class 'pandas.core.frame.DataFrame'>\nRangeIndex: 8 entries, 0 to 7\nData columns (total 11 columns):\n #   Column              Non-Null Count  Dtype         \n---  ------              --------------  -----         \n 0   Employee_ID         8 non-null      object        \n 1   Employee_Name       8 non-null      object        \n 2   Company_Name        8 non-null      object        \n 3   Pay_Date            8 non-null      datetime64[ns]\n 4   Salary              8 non-null      float64       \n 5   Tax                 8 non-null      float64       \n 6   National_Insurance  8 non-null      float64       \n 7   Ers_NIC_TP          8 non-null      float64       \n 8   Ers_NIC_YTD         8 non-null      float64       \n 9   Ers_Pension_TP      8 non-null      float64       \n 10  Ers_Pension_YTD     8 non-null      float64       \ndtypes: datetime64[ns](1), float64(7), object(3)\nmemory usage: 832.0+ bytes\n"
     ]
    }
   ],
   "source": [
    "df.info()"
   ]
  },
  {
   "cell_type": "code",
   "execution_count": null,
   "metadata": {},
   "outputs": [],
   "source": [
    "# Spending = pd.DataFrame{\"Accommodation\":, \"Utility(Ele./Water/C.Tax/Cleaning)\":, \"PhoneBill\":, \"Grocery\": \"EatingOut\":, \"Transportation\":, \"Shopping\":, \"General/Learning\":, \"Finance(Cash Withdraw)\":, \"SavingPot\":}\n",
    "\n",
    "#See SpendTrack.py "
   ]
  }
 ],
 "metadata": {
  "kernelspec": {
   "name": "python373jvsc74a57bd0aee8b7b246df8f9039afb4144a1f6fd8d2ca17a180786b69acc140d282b71a49",
   "display_name": "Python 3.7.3 64-bit"
  },
  "language_info": {
   "codemirror_mode": {
    "name": "ipython",
    "version": 3
   },
   "file_extension": ".py",
   "mimetype": "text/x-python",
   "name": "python",
   "nbconvert_exporter": "python",
   "pygments_lexer": "ipython3",
   "version": "3.7.3"
  },
  "metadata": {
   "interpreter": {
    "hash": "31f2aee4e71d21fbe5cf8b01ff0e069b9275f58929596ceb00d14d90e3e16cd6"
   }
  }
 },
 "nbformat": 4,
 "nbformat_minor": 2
}